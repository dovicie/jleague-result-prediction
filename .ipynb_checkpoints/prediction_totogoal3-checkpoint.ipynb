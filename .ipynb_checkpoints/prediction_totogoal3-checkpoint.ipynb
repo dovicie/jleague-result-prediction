{
 "cells": [
  {
   "cell_type": "code",
   "execution_count": 1,
   "metadata": {},
   "outputs": [],
   "source": [
    "import re\n",
    "import csv\n",
    "import time\n",
    "import requests\n",
    "import datetime\n",
    "import numpy as np\n",
    "import pandas as pd\n",
    "from bs4 import BeautifulSoup"
   ]
  },
  {
   "cell_type": "code",
   "execution_count": 3,
   "metadata": {},
   "outputs": [],
   "source": [
    "column_array=[\n",
    "    [\"No\",\"Date\",\"1stPrize\",\"2ndPrize\",\"Match1\",\"Match1\",\"Match1\",\"Match1\",\"Match1\",\"Match2\",\"Match2\",\"Match2\",\"Match2\",\"Match2\",\"Match3\",\"Match3\",\"Match3\",\"Match3\",\"Match3\"],\n",
    "    [\"\",\"\",\"\",\"\",\"MatchID\",\"Home\",\"Away\",\"HomeResult\",\"AwayResult\",\"MatchID\",\"Home\",\"Away\",\"HomeResult\",\"AwayResult\",\"MatchID\",\"Home\",\"Away\",\"HomeResult\",\"AwayResult\",]\n",
    "]\n",
    "column_tuples = list(zip(*column_array))\n",
    "column = pd.MultiIndex.from_tuples(column_tuples)"
   ]
  },
  {
   "cell_type": "code",
   "execution_count": 4,
   "metadata": {},
   "outputs": [
    {
     "data": {
      "text/plain": [
       "MultiIndex([(      'No',           ''),\n",
       "            (    'Date',           ''),\n",
       "            ('1stPrize',           ''),\n",
       "            ('2ndPrize',           ''),\n",
       "            (  'Match1',    'MatchID'),\n",
       "            (  'Match1',       'Home'),\n",
       "            (  'Match1',       'Away'),\n",
       "            (  'Match1', 'HomeResult'),\n",
       "            (  'Match1', 'AwayResult'),\n",
       "            (  'Match2',    'MatchID'),\n",
       "            (  'Match2',       'Home'),\n",
       "            (  'Match2',       'Away'),\n",
       "            (  'Match2', 'HomeResult'),\n",
       "            (  'Match2', 'AwayResult'),\n",
       "            (  'Match3',    'MatchID'),\n",
       "            (  'Match3',       'Home'),\n",
       "            (  'Match3',       'Away'),\n",
       "            (  'Match3', 'HomeResult'),\n",
       "            (  'Match3', 'AwayResult')],\n",
       "           )"
      ]
     },
     "execution_count": 4,
     "metadata": {},
     "output_type": "execute_result"
    }
   ],
   "source": [
    "column"
   ]
  },
  {
   "cell_type": "code",
   "execution_count": 5,
   "metadata": {},
   "outputs": [
    {
     "data": {
      "text/html": [
       "<div>\n",
       "<style scoped>\n",
       "    .dataframe tbody tr th:only-of-type {\n",
       "        vertical-align: middle;\n",
       "    }\n",
       "\n",
       "    .dataframe tbody tr th {\n",
       "        vertical-align: top;\n",
       "    }\n",
       "\n",
       "    .dataframe thead tr th {\n",
       "        text-align: left;\n",
       "    }\n",
       "</style>\n",
       "<table border=\"1\" class=\"dataframe\">\n",
       "  <thead>\n",
       "    <tr>\n",
       "      <th></th>\n",
       "      <th>No</th>\n",
       "      <th>Date</th>\n",
       "      <th>1stPrize</th>\n",
       "      <th>2ndPrize</th>\n",
       "      <th colspan=\"5\" halign=\"left\">Match1</th>\n",
       "      <th colspan=\"5\" halign=\"left\">Match2</th>\n",
       "      <th colspan=\"5\" halign=\"left\">Match3</th>\n",
       "    </tr>\n",
       "    <tr>\n",
       "      <th></th>\n",
       "      <th></th>\n",
       "      <th></th>\n",
       "      <th></th>\n",
       "      <th></th>\n",
       "      <th>MatchID</th>\n",
       "      <th>Home</th>\n",
       "      <th>Away</th>\n",
       "      <th>HomeResult</th>\n",
       "      <th>AwayResult</th>\n",
       "      <th>MatchID</th>\n",
       "      <th>Home</th>\n",
       "      <th>Away</th>\n",
       "      <th>HomeResult</th>\n",
       "      <th>AwayResult</th>\n",
       "      <th>MatchID</th>\n",
       "      <th>Home</th>\n",
       "      <th>Away</th>\n",
       "      <th>HomeResult</th>\n",
       "      <th>AwayResult</th>\n",
       "    </tr>\n",
       "  </thead>\n",
       "  <tbody>\n",
       "  </tbody>\n",
       "</table>\n",
       "</div>"
      ],
      "text/plain": [
       "Empty DataFrame\n",
       "Columns: [(No, ), (Date, ), (1stPrize, ), (2ndPrize, ), (Match1, MatchID), (Match1, Home), (Match1, Away), (Match1, HomeResult), (Match1, AwayResult), (Match2, MatchID), (Match2, Home), (Match2, Away), (Match2, HomeResult), (Match2, AwayResult), (Match3, MatchID), (Match3, Home), (Match3, Away), (Match3, HomeResult), (Match3, AwayResult)]\n",
       "Index: []"
      ]
     },
     "execution_count": 5,
     "metadata": {},
     "output_type": "execute_result"
    }
   ],
   "source": [
    "df=pd.DataFrame(columns=column)\n",
    "df"
   ]
  },
  {
   "cell_type": "code",
   "execution_count": 6,
   "metadata": {},
   "outputs": [],
   "source": [
    "url =f'https://toto.rakuten.co.jp/toto/result/1254/'"
   ]
  },
  {
   "cell_type": "code",
   "execution_count": 9,
   "metadata": {},
   "outputs": [],
   "source": [
    "r = requests.get(url)\n",
    "soup = BeautifulSoup(r.text, 'html.parser')"
   ]
  },
  {
   "cell_type": "code",
   "execution_count": 10,
   "metadata": {},
   "outputs": [
    {
     "data": {
      "text/plain": [
       "'2021年8月31日(火)'"
      ]
     },
     "execution_count": 10,
     "metadata": {},
     "output_type": "execute_result"
    }
   ],
   "source": [
    "date = soup.select(f\".totoGoal3Block .tbl-basic-day td\")[0].string\n",
    "date"
   ]
  },
  {
   "cell_type": "code",
   "execution_count": 18,
   "metadata": {},
   "outputs": [
    {
     "data": {
      "text/plain": [
       "'75,370円'"
      ]
     },
     "execution_count": 18,
     "metadata": {},
     "output_type": "execute_result"
    }
   ],
   "source": [
    "prize_1st = soup.select(f\".totoGoal3Block .tbl-basic-money tbody td\")[0].string\n",
    "prize_1st"
   ]
  },
  {
   "cell_type": "code",
   "execution_count": 19,
   "metadata": {},
   "outputs": [
    {
     "data": {
      "text/plain": [
       "'2,340円'"
      ]
     },
     "execution_count": 19,
     "metadata": {},
     "output_type": "execute_result"
    }
   ],
   "source": [
    "prize_2nd = soup.select(f\".totoGoal3Block .tbl-basic-money tbody td\")[3].string\n",
    "prize_2nd"
   ]
  },
  {
   "cell_type": "code",
   "execution_count": null,
   "metadata": {},
   "outputs": [],
   "source": []
  }
 ],
 "metadata": {
  "kernelspec": {
   "display_name": "Python 3",
   "language": "python",
   "name": "python3"
  },
  "language_info": {
   "codemirror_mode": {
    "name": "ipython",
    "version": 3
   },
   "file_extension": ".py",
   "mimetype": "text/x-python",
   "name": "python",
   "nbconvert_exporter": "python",
   "pygments_lexer": "ipython3",
   "version": "3.8.5"
  }
 },
 "nbformat": 4,
 "nbformat_minor": 4
}
