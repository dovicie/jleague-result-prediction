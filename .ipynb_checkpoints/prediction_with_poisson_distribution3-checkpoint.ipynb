{
 "cells": [
  {
   "cell_type": "code",
   "execution_count": 2,
   "metadata": {},
   "outputs": [],
   "source": [
    "import csv\n",
    "import math\n",
    "import datetime\n",
    "import numpy as np\n",
    "import pandas as pd\n",
    "from decimal import Decimal\n",
    "import matplotlib.pyplot as plt\n",
    "from scipy.stats import poisson\n",
    "from sklearn.metrics import log_loss\n",
    "from dateutil.relativedelta import relativedelta"
   ]
  },
  {
   "cell_type": "code",
   "execution_count": 3,
   "metadata": {
    "scrolled": true
   },
   "outputs": [
    {
     "data": {
      "text/html": [
       "<div>\n",
       "<style scoped>\n",
       "    .dataframe tbody tr th:only-of-type {\n",
       "        vertical-align: middle;\n",
       "    }\n",
       "\n",
       "    .dataframe tbody tr th {\n",
       "        vertical-align: top;\n",
       "    }\n",
       "\n",
       "    .dataframe thead th {\n",
       "        text-align: right;\n",
       "    }\n",
       "</style>\n",
       "<table border=\"1\" class=\"dataframe\">\n",
       "  <thead>\n",
       "    <tr style=\"text-align: right;\">\n",
       "      <th></th>\n",
       "      <th>Year</th>\n",
       "      <th>Sec</th>\n",
       "      <th>Date</th>\n",
       "      <th>Home</th>\n",
       "      <th>Away</th>\n",
       "      <th>HomeID</th>\n",
       "      <th>AwayID</th>\n",
       "      <th>HomeGF</th>\n",
       "      <th>AwayGF</th>\n",
       "      <th>W/L</th>\n",
       "      <th>Stadium</th>\n",
       "      <th>Attendances</th>\n",
       "    </tr>\n",
       "    <tr>\n",
       "      <th>ID</th>\n",
       "      <th></th>\n",
       "      <th></th>\n",
       "      <th></th>\n",
       "      <th></th>\n",
       "      <th></th>\n",
       "      <th></th>\n",
       "      <th></th>\n",
       "      <th></th>\n",
       "      <th></th>\n",
       "      <th></th>\n",
       "      <th></th>\n",
       "      <th></th>\n",
       "    </tr>\n",
       "  </thead>\n",
       "  <tbody>\n",
       "    <tr>\n",
       "      <th>6010903</th>\n",
       "      <td>2006</td>\n",
       "      <td>1</td>\n",
       "      <td>2006-03-04</td>\n",
       "      <td>gamba-osaka</td>\n",
       "      <td>urawa-red-diamonds</td>\n",
       "      <td>9</td>\n",
       "      <td>3</td>\n",
       "      <td>1</td>\n",
       "      <td>1</td>\n",
       "      <td>0</td>\n",
       "      <td>万博</td>\n",
       "      <td>20916</td>\n",
       "    </tr>\n",
       "    <tr>\n",
       "      <th>6012807</th>\n",
       "      <td>2006</td>\n",
       "      <td>1</td>\n",
       "      <td>2006-03-05</td>\n",
       "      <td>ventforet-kofu</td>\n",
       "      <td>shimizu-s-pulse</td>\n",
       "      <td>28</td>\n",
       "      <td>7</td>\n",
       "      <td>0</td>\n",
       "      <td>2</td>\n",
       "      <td>2</td>\n",
       "      <td>小瀬</td>\n",
       "      <td>14277</td>\n",
       "    </tr>\n",
       "    <tr>\n",
       "      <th>6012231</th>\n",
       "      <td>2006</td>\n",
       "      <td>1</td>\n",
       "      <td>2006-03-05</td>\n",
       "      <td>fc-tokyo</td>\n",
       "      <td>oita-trinita</td>\n",
       "      <td>22</td>\n",
       "      <td>31</td>\n",
       "      <td>2</td>\n",
       "      <td>0</td>\n",
       "      <td>1</td>\n",
       "      <td>味スタ</td>\n",
       "      <td>22531</td>\n",
       "    </tr>\n",
       "    <tr>\n",
       "      <th>6011323</th>\n",
       "      <td>2006</td>\n",
       "      <td>1</td>\n",
       "      <td>2006-03-05</td>\n",
       "      <td>jubilo-iwata</td>\n",
       "      <td>avispa-fukuoka</td>\n",
       "      <td>13</td>\n",
       "      <td>23</td>\n",
       "      <td>1</td>\n",
       "      <td>1</td>\n",
       "      <td>0</td>\n",
       "      <td>静岡</td>\n",
       "      <td>28564</td>\n",
       "    </tr>\n",
       "    <tr>\n",
       "      <th>6010820</th>\n",
       "      <td>2006</td>\n",
       "      <td>1</td>\n",
       "      <td>2006-03-05</td>\n",
       "      <td>nagoya-grampus-eight</td>\n",
       "      <td>cerezo-osaka</td>\n",
       "      <td>8</td>\n",
       "      <td>20</td>\n",
       "      <td>3</td>\n",
       "      <td>2</td>\n",
       "      <td>1</td>\n",
       "      <td>瑞穂陸</td>\n",
       "      <td>17199</td>\n",
       "    </tr>\n",
       "    <tr>\n",
       "      <th>...</th>\n",
       "      <td>...</td>\n",
       "      <td>...</td>\n",
       "      <td>...</td>\n",
       "      <td>...</td>\n",
       "      <td>...</td>\n",
       "      <td>...</td>\n",
       "      <td>...</td>\n",
       "      <td>...</td>\n",
       "      <td>...</td>\n",
       "      <td>...</td>\n",
       "      <td>...</td>\n",
       "      <td>...</td>\n",
       "    </tr>\n",
       "    <tr>\n",
       "      <th>20340120</th>\n",
       "      <td>2020</td>\n",
       "      <td>34</td>\n",
       "      <td>2020-12-19</td>\n",
       "      <td>kashima-antlers</td>\n",
       "      <td>cerezo-osaka</td>\n",
       "      <td>1</td>\n",
       "      <td>20</td>\n",
       "      <td>1</td>\n",
       "      <td>1</td>\n",
       "      <td>0</td>\n",
       "      <td>カシマ</td>\n",
       "      <td>11251</td>\n",
       "    </tr>\n",
       "    <tr>\n",
       "      <th>20340810</th>\n",
       "      <td>2020</td>\n",
       "      <td>34</td>\n",
       "      <td>2020-12-19</td>\n",
       "      <td>nagoya-grampus-eight</td>\n",
       "      <td>sanfrecce-hiroshima</td>\n",
       "      <td>8</td>\n",
       "      <td>10</td>\n",
       "      <td>1</td>\n",
       "      <td>0</td>\n",
       "      <td>1</td>\n",
       "      <td>豊田ス</td>\n",
       "      <td>16825</td>\n",
       "    </tr>\n",
       "    <tr>\n",
       "      <th>20343331</th>\n",
       "      <td>2020</td>\n",
       "      <td>34</td>\n",
       "      <td>2020-12-19</td>\n",
       "      <td>sagan-tosu</td>\n",
       "      <td>oita-trinita</td>\n",
       "      <td>33</td>\n",
       "      <td>31</td>\n",
       "      <td>2</td>\n",
       "      <td>2</td>\n",
       "      <td>0</td>\n",
       "      <td>駅スタ</td>\n",
       "      <td>8966</td>\n",
       "    </tr>\n",
       "    <tr>\n",
       "      <th>20342218</th>\n",
       "      <td>2020</td>\n",
       "      <td>34</td>\n",
       "      <td>2020-12-19</td>\n",
       "      <td>fc-tokyo</td>\n",
       "      <td>vissel-kobe</td>\n",
       "      <td>22</td>\n",
       "      <td>18</td>\n",
       "      <td>1</td>\n",
       "      <td>0</td>\n",
       "      <td>1</td>\n",
       "      <td>味スタ</td>\n",
       "      <td>14373</td>\n",
       "    </tr>\n",
       "    <tr>\n",
       "      <th>20340314</th>\n",
       "      <td>2020</td>\n",
       "      <td>34</td>\n",
       "      <td>2020-12-19</td>\n",
       "      <td>urawa-red-diamonds</td>\n",
       "      <td>consadole-sapporo</td>\n",
       "      <td>3</td>\n",
       "      <td>14</td>\n",
       "      <td>0</td>\n",
       "      <td>2</td>\n",
       "      <td>2</td>\n",
       "      <td>埼玉</td>\n",
       "      <td>19319</td>\n",
       "    </tr>\n",
       "  </tbody>\n",
       "</table>\n",
       "<p>4590 rows × 12 columns</p>\n",
       "</div>"
      ],
      "text/plain": [
       "          Year  Sec       Date                  Home                 Away  \\\n",
       "ID                                                                          \n",
       "6010903   2006    1 2006-03-04           gamba-osaka   urawa-red-diamonds   \n",
       "6012807   2006    1 2006-03-05        ventforet-kofu      shimizu-s-pulse   \n",
       "6012231   2006    1 2006-03-05              fc-tokyo         oita-trinita   \n",
       "6011323   2006    1 2006-03-05          jubilo-iwata       avispa-fukuoka   \n",
       "6010820   2006    1 2006-03-05  nagoya-grampus-eight         cerezo-osaka   \n",
       "...        ...  ...        ...                   ...                  ...   \n",
       "20340120  2020   34 2020-12-19       kashima-antlers         cerezo-osaka   \n",
       "20340810  2020   34 2020-12-19  nagoya-grampus-eight  sanfrecce-hiroshima   \n",
       "20343331  2020   34 2020-12-19            sagan-tosu         oita-trinita   \n",
       "20342218  2020   34 2020-12-19              fc-tokyo          vissel-kobe   \n",
       "20340314  2020   34 2020-12-19    urawa-red-diamonds    consadole-sapporo   \n",
       "\n",
       "          HomeID  AwayID  HomeGF  AwayGF  W/L Stadium  Attendances  \n",
       "ID                                                                  \n",
       "6010903        9       3       1       1    0      万博        20916  \n",
       "6012807       28       7       0       2    2      小瀬        14277  \n",
       "6012231       22      31       2       0    1     味スタ        22531  \n",
       "6011323       13      23       1       1    0      静岡        28564  \n",
       "6010820        8      20       3       2    1     瑞穂陸        17199  \n",
       "...          ...     ...     ...     ...  ...     ...          ...  \n",
       "20340120       1      20       1       1    0     カシマ        11251  \n",
       "20340810       8      10       1       0    1     豊田ス        16825  \n",
       "20343331      33      31       2       2    0     駅スタ         8966  \n",
       "20342218      22      18       1       0    1     味スタ        14373  \n",
       "20340314       3      14       0       2    2      埼玉        19319  \n",
       "\n",
       "[4590 rows x 12 columns]"
      ]
     },
     "execution_count": 3,
     "metadata": {},
     "output_type": "execute_result"
    }
   ],
   "source": [
    "df_allmatch = pd.read_csv(\"./match_data_yearly/all_years.csv\", index_col=0)\n",
    "df_allmatch[\"Date\"] = pd.to_datetime(df_allmatch[\"Date\"])\n",
    "df_allmatch"
   ]
  },
  {
   "cell_type": "markdown",
   "metadata": {},
   "source": [
    "### 2019年 第7節 ジュビロ対エスパルス "
   ]
  },
  {
   "cell_type": "code",
   "execution_count": 4,
   "metadata": {},
   "outputs": [
    {
     "name": "stdout",
     "output_type": "stream",
     "text": [
      "jubilo-iwataのホームでの平均得点 : 1.2352941176470589\n",
      "jubilo-iwataのホームでの平均失点 : 1.588235294117647\n",
      "shimizu-s-pulseのアウェイでの平均得点 : 1.411764705882353\n",
      "shimizu-s-pulseのアウェイでの平均失点 : 1.8823529411764706\n",
      "リーグ全体のホームでの平均得点 : 1.416403785488959\n",
      "リーグ全体のアウェイでの平均得点 : 1.2712933753943219\n"
     ]
    }
   ],
   "source": [
    "match_id=19071307\n",
    "match_range = 17\n",
    "\n",
    "current_day = df_allmatch.at[match_id,\"Date\"]\n",
    "home = df_allmatch.at[match_id,\"Home\"]\n",
    "away = df_allmatch.at[match_id,\"Away\"]\n",
    "\n",
    "df_recent_home = df_allmatch[\n",
    "    (df_allmatch[\"Date\"] < current_day) &\n",
    "    ((current_day.year-1)<= df_allmatch[\"Year\"]) &\n",
    "    (df_allmatch[\"Home\"] == home) \n",
    "].tail(match_range)\n",
    "\n",
    "if  (match_range- len(df_recent_home)) :\n",
    "    for _ in range(match_range- len(df_recent_home)):\n",
    "        df_recent_home = df_recent_home.append({'Date':(current_day-relativedelta(days=1)) , 'HomeGF': 0.99, 'AwayGF': 1.66}, ignore_index=True)\n",
    "\n",
    "df_recent_away = df_allmatch[\n",
    "    (df_allmatch[\"Date\"] < current_day) &\n",
    "    ((current_day.year-1)<= df_allmatch[\"Year\"]) &\n",
    "    (df_allmatch[\"Away\"] == away)\n",
    "].tail(match_range)\n",
    "\n",
    "if  (match_range- len(df_recent_away)) :\n",
    "    for _ in range(match_range- len(df_recent_away)):\n",
    "        df_recent_away = df_recent_away.append({'Date':(current_day-relativedelta(days=1)) , 'HomeGF': 1.83, 'AwayGF': 0.94}, ignore_index=True)\n",
    "\n",
    "beginning_day = min(df_recent_home.iloc[0,2],df_recent_away.iloc[0,2])\n",
    "\n",
    "df_recent = df_allmatch[\n",
    "    (beginning_day <= df_allmatch[\"Date\"] ) &\n",
    "    (df_allmatch[\"Date\"] < current_day) \n",
    "]\n",
    "\n",
    "homegf_ave = df_recent_home[\"HomeGF\"].mean()\n",
    "homega_ave = df_recent_home[\"AwayGF\"].mean()\n",
    "awaygf_ave = df_recent_away[\"AwayGF\"].mean()\n",
    "awayga_ave = df_recent_away[\"HomeGF\"].mean()\n",
    "homegf_league_ave = df_recent[\"HomeGF\"].mean()\n",
    "awaygf_league_ave = df_recent[\"AwayGF\"].mean()\n",
    "\n",
    "print(f\"{home}のホームでの平均得点 : {homegf_ave}\")\n",
    "print(f\"{home}のホームでの平均失点 : {homega_ave}\")\n",
    "print(f\"{away}のアウェイでの平均得点 : {awaygf_ave}\")\n",
    "print(f\"{away}のアウェイでの平均失点 : {awayga_ave}\")\n",
    "print(f\"リーグ全体のホームでの平均得点 : {homegf_league_ave}\")\n",
    "print(f\"リーグ全体のアウェイでの平均得点 : {awaygf_league_ave}\")"
   ]
  },
  {
   "cell_type": "code",
   "execution_count": 5,
   "metadata": {},
   "outputs": [
    {
     "name": "stdout",
     "output_type": "stream",
     "text": [
      "HA:0.8721341543298834, AA:1.1104948182747043, HD:1.2493066705590423, AD:1.3289663304074413, \n",
      "得点予測  jubilo-iwata 1.64 - 1.76 shimizu-s-pulse\n"
     ]
    }
   ],
   "source": [
    "home_attack = homegf_ave / homegf_league_ave\n",
    "away_defense = awayga_ave / homegf_league_ave\n",
    "homegf_pred = home_attack * away_defense * homegf_league_ave\n",
    "\n",
    "away_attack = awaygf_ave / awaygf_league_ave\n",
    "home_defense = homega_ave / awaygf_league_ave\n",
    "awaygf_pred = away_attack * home_defense * awaygf_league_ave\n",
    "\n",
    "print(f\"HA:{home_attack}, AA:{away_attack}, HD:{home_defense}, AD:{away_defense}, \")\n",
    "\n",
    "print(f\"得点予測  {home} {homegf_pred:.2f} - {awaygf_pred:.2f} {away}\")"
   ]
  },
  {
   "cell_type": "code",
   "execution_count": 6,
   "metadata": {},
   "outputs": [
    {
     "data": {
      "image/png": "[encoded data removed]",
      "text/plain": [
       "<Figure size 432x288 with 1 Axes>"
      ]
     },
     "metadata": {
      "needs_background": "light"
     },
     "output_type": "display_data"
    }
   ],
   "source": [
    "x =  np.arange(0, 10, 1)\n",
    "\n",
    "home_poisson = poisson.pmf(x, homegf_pred)\n",
    "away_poisson = poisson.pmf(x, awaygf_pred)\n",
    "\n",
    "\n",
    "plt.bar(x, home_poisson, align=\"edge\", width=-0.4,  color=\"#7399D1\", label=f'Home : {home}')\n",
    "plt.bar(x, away_poisson, align=\"edge\", width= 0.4,  color=\"#FA870A\", label=f'Away : {away}')\n",
    "\n",
    "plt.xlabel('Goals for')\n",
    "plt.ylabel('Probability')\n",
    "plt.grid(color='b', linestyle=':', linewidth=0.3)\n",
    "plt.title(f\"{home} - {away}\")\n",
    "plt.legend()\n",
    "plt.show()"
   ]
  },
  {
   "cell_type": "code",
   "execution_count": 30,
   "metadata": {},
   "outputs": [
    {
     "data": {
      "text/plain": [
       "<matplotlib.legend.Legend at 0x7f6b45141850>"
      ]
     },
     "execution_count": 30,
     "metadata": {},
     "output_type": "execute_result"
    },
    {
     "data": {
      "image/png": "[encoded data removed]",
      "text/plain": [
       "<Figure size 432x288 with 1 Axes>"
      ]
     },
     "metadata": {
      "needs_background": "light"
     },
     "output_type": "display_data"
    }
   ],
   "source": [
    "#PR用\n",
    "\n",
    "x =  np.arange(0, 10, 1)\n",
    "\n",
    "home_poisson = poisson.pmf(x, homegf_pred)\n",
    "away_poisson = poisson.pmf(x, awaygf_pred)\n",
    "\n",
    "plt.subplots(figsize=(6,4))\n",
    "plt.bar(x, home_poisson, align=\"edge\", width=-0.4,  color=\"#7399D1\", label=f'Home : {home}')\n",
    "plt.bar(x, away_poisson, align=\"edge\", width= 0.4,  color=\"#FA870A\", label=f'Away : {away}')\n",
    "\n",
    "plt.xlabel('Goals for', fontsize=12)\n",
    "plt.ylabel('Probability', fontsize=12)\n",
    "plt.grid()\n",
    "plt.legend()"
   ]
  },
  {
   "cell_type": "code",
   "execution_count": 8,
   "metadata": {},
   "outputs": [
    {
     "data": {
      "text/html": [
       "<div>\n",
       "<style scoped>\n",
       "    .dataframe tbody tr th:only-of-type {\n",
       "        vertical-align: middle;\n",
       "    }\n",
       "\n",
       "    .dataframe tbody tr th {\n",
       "        vertical-align: top;\n",
       "    }\n",
       "\n",
       "    .dataframe thead th {\n",
       "        text-align: right;\n",
       "    }\n",
       "</style>\n",
       "<table border=\"1\" class=\"dataframe\">\n",
       "  <thead>\n",
       "    <tr style=\"text-align: right;\">\n",
       "      <th></th>\n",
       "      <th>0</th>\n",
       "      <th>1</th>\n",
       "      <th>2</th>\n",
       "      <th>3</th>\n",
       "      <th>4</th>\n",
       "      <th>5</th>\n",
       "      <th>6</th>\n",
       "      <th>7</th>\n",
       "      <th>8</th>\n",
       "      <th>9</th>\n",
       "    </tr>\n",
       "  </thead>\n",
       "  <tbody>\n",
       "    <tr>\n",
       "      <th>jubilo-iwata</th>\n",
       "      <td>0.194</td>\n",
       "      <td>0.318</td>\n",
       "      <td>0.261</td>\n",
       "      <td>0.143</td>\n",
       "      <td>0.059</td>\n",
       "      <td>0.019</td>\n",
       "      <td>0.005</td>\n",
       "      <td>0.001</td>\n",
       "      <td>0.0</td>\n",
       "      <td>0.0</td>\n",
       "    </tr>\n",
       "    <tr>\n",
       "      <th>shimizu-s-pulse</th>\n",
       "      <td>0.171</td>\n",
       "      <td>0.302</td>\n",
       "      <td>0.267</td>\n",
       "      <td>0.157</td>\n",
       "      <td>0.069</td>\n",
       "      <td>0.024</td>\n",
       "      <td>0.007</td>\n",
       "      <td>0.002</td>\n",
       "      <td>0.0</td>\n",
       "      <td>0.0</td>\n",
       "    </tr>\n",
       "  </tbody>\n",
       "</table>\n",
       "</div>"
      ],
      "text/plain": [
       "                     0      1      2      3      4      5      6      7    8  \\\n",
       "jubilo-iwata     0.194  0.318  0.261  0.143  0.059  0.019  0.005  0.001  0.0   \n",
       "shimizu-s-pulse  0.171  0.302  0.267  0.157  0.069  0.024  0.007  0.002  0.0   \n",
       "\n",
       "                   9  \n",
       "jubilo-iwata     0.0  \n",
       "shimizu-s-pulse  0.0  "
      ]
     },
     "execution_count": 8,
     "metadata": {},
     "output_type": "execute_result"
    }
   ],
   "source": [
    "df_poisson = pd.DataFrame([home_poisson,away_poisson],columns=x, index=[home,away])\n",
    "round(df_poisson,3)"
   ]
  },
  {
   "cell_type": "code",
   "execution_count": 9,
   "metadata": {},
   "outputs": [
    {
     "name": "stdout",
     "output_type": "stream",
     "text": [
      "jubilo-iwata - shimizu-s-pulse\n",
      "win 36.18%\n",
      "loss 41.24%\n",
      "draw 22.58%\n"
     ]
    }
   ],
   "source": [
    "win_prob_sum = 0\n",
    "loss_prob_sum = 0\n",
    "draw_prob_sum = 0\n",
    "\n",
    "for gf in x:\n",
    "    gf_prob = df_poisson.at[home, gf]\n",
    "    for ga in x:\n",
    "        ga_prob = df_poisson.at[away,ga]\n",
    "        score_prob = gf_prob * ga_prob\n",
    "\n",
    "        if gf>ga:\n",
    "            win_prob_sum += score_prob\n",
    "        elif gf<ga:\n",
    "            loss_prob_sum += score_prob\n",
    "        else:\n",
    "            draw_prob_sum += score_prob\n",
    "\n",
    "prob_sum = win_prob_sum+loss_prob_sum+draw_prob_sum\n",
    "win_prob_sum = win_prob_sum/prob_sum\n",
    "loss_prob_sum = loss_prob_sum/prob_sum\n",
    "draw_prob_sum = draw_prob_sum/prob_sum\n",
    "\n",
    "print(f\"{home} - {away}\")\n",
    "print(f\"win {win_prob_sum:.2%}\")\n",
    "print(f\"loss {loss_prob_sum:.2%}\")\n",
    "print(f\"draw {draw_prob_sum:.2%}\")"
   ]
  },
  {
   "cell_type": "markdown",
   "metadata": {},
   "source": [
    "### ポアソン分布による勝敗予測を関数化"
   ]
  },
  {
   "cell_type": "code",
   "execution_count": 10,
   "metadata": {},
   "outputs": [],
   "source": [
    "def predict_with_poisson(match_id, match_range = 17):\n",
    "\n",
    "    current_day = df_allmatch.at[match_id,\"Date\"]\n",
    "    home = df_allmatch.at[match_id,\"Home\"]\n",
    "    away = df_allmatch.at[match_id,\"Away\"]\n",
    "    \n",
    "    df_recent_home = df_allmatch[\n",
    "        (df_allmatch[\"Date\"] < current_day) &\n",
    "        ((current_day.year-1)<= df_allmatch[\"Year\"]) &\n",
    "        (df_allmatch[\"Home\"] == home) \n",
    "    ].tail(match_range)\n",
    "\n",
    "    if  (match_range- len(df_recent_home)) :\n",
    "        for _ in range(match_range- len(df_recent_home)):\n",
    "            df_recent_home = df_recent_home.append({'Date':(current_day-relativedelta(days=1)) , 'HomeGF': 0.99, 'AwayGF': 1.66}, ignore_index=True)\n",
    "\n",
    "    df_recent_away = df_allmatch[\n",
    "        (df_allmatch[\"Date\"] < current_day) &\n",
    "        ((current_day.year-1)<= df_allmatch[\"Year\"]) &\n",
    "        (df_allmatch[\"Away\"] == away)\n",
    "    ].tail(match_range)\n",
    "\n",
    "    if  (match_range- len(df_recent_away)) :\n",
    "        for _ in range(match_range- len(df_recent_away)):\n",
    "            df_recent_away = df_recent_away.append({'Date':(current_day-relativedelta(days=1)) , 'HomeGF': 1.83, 'AwayGF': 0.94}, ignore_index=True)\n",
    "\n",
    "    beginning_day = min(df_recent_home.iloc[0,2],df_recent_away.iloc[0,2])\n",
    "\n",
    "    df_recent = df_allmatch[\n",
    "        (beginning_day <= df_allmatch[\"Date\"] ) &\n",
    "        (df_allmatch[\"Date\"] < current_day) \n",
    "    ]\n",
    "\n",
    "    homegf_ave = df_recent_home[\"HomeGF\"].mean()\n",
    "    homega_ave = df_recent_home[\"AwayGF\"].mean()\n",
    "    awaygf_ave = df_recent_away[\"AwayGF\"].mean()\n",
    "    awayga_ave = df_recent_away[\"HomeGF\"].mean()\n",
    "    homegf_league_ave = df_recent[\"HomeGF\"].mean()\n",
    "    awaygf_league_ave = df_recent[\"AwayGF\"].mean()\n",
    "    \n",
    "#     print(f\"{home}のホームでの平均得点 : {homegf_ave}\")\n",
    "#     print(f\"{home}のホームでの平均失点 : {homega_ave}\")\n",
    "#     print(f\"{away}のアウェイでの平均得点 : {awaygf_ave}\")\n",
    "#     print(f\"{away}のアウェイでの平均失点 : {awayga_ave}\")\n",
    "#     print(f\"リーグ全体のホームでの平均得点 : {homegf_league_ave}\")\n",
    "#     print(f\"リーグ全体のアウェイでの平均得点 : {awaygf_league_ave}\")\n",
    "    \n",
    "    home_attack = homegf_ave / homegf_league_ave\n",
    "    away_defense = awayga_ave / homegf_league_ave\n",
    "    homegf_pred = home_attack * away_defense * homegf_league_ave\n",
    "    \n",
    "    away_attack = awaygf_ave / awaygf_league_ave\n",
    "    home_defense = homega_ave / awaygf_league_ave\n",
    "    awaygf_pred = away_attack * home_defense * awaygf_league_ave\n",
    "    \n",
    "#     print(f\"HA:{home_attack}, AA:{away_attack}, HD:{home_defense}, AD:{away_defense}, \")\n",
    "\n",
    "#     print(f\"得点予測  {home} {homegf_pred:.2f} - {awaygf_pred:.2f} {away}\")\n",
    "    \n",
    "    x =  np.arange(0, 10, 1)\n",
    "\n",
    "    home_poisson = poisson.pmf(x, homegf_pred)\n",
    "    away_poisson = poisson.pmf(x, awaygf_pred)\n",
    "\n",
    "\n",
    "#     plt.bar(x, home_poisson, align=\"edge\", width=-0.4,  color=\"#7399D1\", label=f'Home : {home}')\n",
    "#     plt.bar(x, away_poisson, align=\"edge\", width= 0.4,  color=\"#FA870A\", label=f'Away : {away}')\n",
    "\n",
    "#     plt.xlabel('Goals for')\n",
    "#     plt.ylabel('Probability')\n",
    "#     plt.grid(color='b', linestyle=':', linewidth=0.3)\n",
    "#     plt.title(f\"{match_id} {home} - {away}\", color='rebeccapurple')\n",
    "#     plt.legend()\n",
    "#     plt.show()\n",
    "\n",
    "    df_poisson = pd.DataFrame([home_poisson,away_poisson],columns=x, index=[home,away])\n",
    "    \n",
    "    \n",
    "    win_prob_sum = 0\n",
    "    loss_prob_sum = 0\n",
    "    draw_prob_sum = 0\n",
    "    \n",
    "    for gf in x:\n",
    "        gf_prob = df_poisson.at[home, gf]\n",
    "        for ga in x:\n",
    "            ga_prob = df_poisson.at[away,ga]\n",
    "            score_prob = gf_prob * ga_prob\n",
    "\n",
    "            if gf>ga:\n",
    "                win_prob_sum += score_prob\n",
    "            elif gf<ga:\n",
    "                loss_prob_sum += score_prob\n",
    "            else:\n",
    "                draw_prob_sum += score_prob\n",
    "\n",
    "    prob_sum = win_prob_sum+loss_prob_sum+draw_prob_sum\n",
    "    win_prob_sum = win_prob_sum/prob_sum\n",
    "    loss_prob_sum = loss_prob_sum/prob_sum\n",
    "    draw_prob_sum = draw_prob_sum/prob_sum\n",
    "\n",
    "#     print(f\"{home} - {away}\")\n",
    "#     print(f\"win {win_prob_sum:.2%}\")\n",
    "#     print(f\"loss {loss_prob_sum:.2%}\")\n",
    "#     print(f\"draw {draw_prob_sum:.2%}\")\n",
    "\n",
    "    return draw_prob_sum,win_prob_sum,loss_prob_sum"
   ]
  },
  {
   "cell_type": "code",
   "execution_count": 11,
   "metadata": {},
   "outputs": [
    {
     "data": {
      "text/plain": [
       "(0.22582333767491594, 0.3617548608605765, 0.4124218014645075)"
      ]
     },
     "execution_count": 11,
     "metadata": {},
     "output_type": "execute_result"
    }
   ],
   "source": [
    "predict_with_poisson(19071307)"
   ]
  },
  {
   "cell_type": "markdown",
   "metadata": {},
   "source": [
    "### 15-20年で予測"
   ]
  },
  {
   "cell_type": "code",
   "execution_count": 12,
   "metadata": {},
   "outputs": [
    {
     "name": "stdout",
     "output_type": "stream",
     "text": [
      "2015 的中率:0.480, 対数損失:1.052\n",
      "2016 的中率:0.474, 対数損失:1.056\n",
      "2017 的中率:0.461, 対数損失:1.081\n",
      "2018 的中率:0.431, 対数損失:1.129\n",
      "2019 的中率:0.448, 対数損失:1.090\n",
      "2020 的中率:0.477, 対数損失:1.067\n",
      "==============================================\n",
      "的中率(Accuracy) : 0.46187363834422657\n",
      "対数損失(Log loss) : 1.079116976898283\n"
     ]
    }
   ],
   "source": [
    "wl_tests=[]\n",
    "wl_preds=[]\n",
    "loglosses = []\n",
    "accuracies = []\n",
    "correct_preds = []\n",
    "draw_correct_count = 0\n",
    "\n",
    "for y in range(2015,2021):\n",
    "    df_pred = pd.DataFrame(index=df_allmatch[df_allmatch[\"Year\"] == y].index, columns=[0,1,2,\"pred\",\"actual\"])\n",
    "    correct_count = 0\n",
    "    y_test = []\n",
    "    y_pred_proba = []\n",
    "\n",
    "    for index, row in df_pred.iterrows():   \n",
    "\n",
    "        d_pred = predict_with_poisson(index)[0]\n",
    "        w_pred = predict_with_poisson(index)[1]\n",
    "        l_pred = predict_with_poisson(index)[2]\n",
    "\n",
    "        if max(predict_with_poisson(index)) == w_pred:\n",
    "            wl_pred = 1\n",
    "        elif max(predict_with_poisson(index)) == l_pred:\n",
    "            wl_pred = 2\n",
    "        else:\n",
    "            wl_pred = 0\n",
    "            \n",
    "        wl_preds.append(wl_pred)\n",
    "\n",
    "        actual = df_allmatch.at[index, \"W/L\"]\n",
    "        \n",
    "        wl_tests.append(actual)\n",
    "\n",
    "        row[0] = d_pred\n",
    "        row[1] = w_pred\n",
    "        row[2] = l_pred\n",
    "        row[\"pred\"] = wl_pred\n",
    "        row[\"actual\"] = actual\n",
    "        \n",
    "        y_pred_proba.append([d_pred,w_pred,l_pred])\n",
    "        y_test.append(actual)\n",
    "        \n",
    "        if wl_pred == actual:\n",
    "            correct_count += 1\n",
    "            correct_preds.append(wl_pred)\n",
    "    \n",
    "    logloss = log_loss(y_test,y_pred_proba,labels=[0,1,2])\n",
    "    loglosses.append(logloss)\n",
    "\n",
    "    accuracy = correct_count/len(df_pred)\n",
    "    accuracies.append(accuracy)\n",
    "    print(f\"{y} 的中率:{accuracy:.3f}, 対数損失:{logloss:.3f}\")\n",
    "    \n",
    "print(\"==============================================\")\n",
    "print(f\"的中率(Accuracy) : {np.mean(accuracies)}\" )\n",
    "print(f\"対数損失(Log loss) : {np.mean(loglosses)}\" )\n"
   ]
  },
  {
   "cell_type": "code",
   "execution_count": 13,
   "metadata": {},
   "outputs": [
    {
     "data": {
      "text/plain": [
       "Counter({1: 474, 2: 368, 0: 6})"
      ]
     },
     "execution_count": 13,
     "metadata": {},
     "output_type": "execute_result"
    }
   ],
   "source": [
    "import collections\n",
    "collections.Counter(correct_preds)"
   ]
  },
  {
   "cell_type": "code",
   "execution_count": 14,
   "metadata": {},
   "outputs": [
    {
     "data": {
      "text/plain": [
       "848"
      ]
     },
     "execution_count": 14,
     "metadata": {},
     "output_type": "execute_result"
    }
   ],
   "source": [
    "len(correct_preds)"
   ]
  },
  {
   "cell_type": "code",
   "execution_count": 15,
   "metadata": {},
   "outputs": [
    {
     "data": {
      "text/plain": [
       "Counter({1: 1009, 2: 803, 0: 24})"
      ]
     },
     "execution_count": 15,
     "metadata": {},
     "output_type": "execute_result"
    }
   ],
   "source": [
    "collections.Counter(wl_preds)"
   ]
  },
  {
   "cell_type": "code",
   "execution_count": 16,
   "metadata": {},
   "outputs": [
    {
     "data": {
      "text/plain": [
       "Counter({0: 427, 1: 735, 2: 674})"
      ]
     },
     "execution_count": 16,
     "metadata": {},
     "output_type": "execute_result"
    }
   ],
   "source": [
    "collections.Counter(wl_tests)"
   ]
  },
  {
   "cell_type": "code",
   "execution_count": 17,
   "metadata": {},
   "outputs": [
    {
     "data": {
      "text/plain": [
       "1836"
      ]
     },
     "execution_count": 17,
     "metadata": {},
     "output_type": "execute_result"
    }
   ],
   "source": [
    "len(wl_preds)"
   ]
  },
  {
   "cell_type": "code",
   "execution_count": 18,
   "metadata": {},
   "outputs": [
    {
     "data": {
      "text/plain": [
       "(0.6448979591836734, 0.5459940652818991, 0.01405152224824356)"
      ]
     },
     "execution_count": 18,
     "metadata": {},
     "output_type": "execute_result"
    }
   ],
   "source": [
    "474/735,368/674,6/427"
   ]
  },
  {
   "cell_type": "code",
   "execution_count": 19,
   "metadata": {},
   "outputs": [
    {
     "data": {
      "text/plain": [
       "0.46187363834422657"
      ]
     },
     "execution_count": 19,
     "metadata": {},
     "output_type": "execute_result"
    }
   ],
   "source": [
    "848/1836"
   ]
  },
  {
   "cell_type": "code",
   "execution_count": 20,
   "metadata": {},
   "outputs": [
    {
     "name": "stdout",
     "output_type": "stream",
     "text": [
      "[1, 1, 1, 2, 2, 1, 2, 1, 2, 1, 1, 2, 1, 1, 1, 2, 0, 2, 1, 2, 1, 2, 1, 2, 1, 1, 1, 1, 2, 1, 1, 2, 1, 2, 2, 1, 1, 1, 1, 2, 1, 2, 1, 1, 2, 2, 1, 2, 1, 1, 1, 1, 2, 1, 1, 1, 1, 2, 1, 2, 1, 2, 1, 1, 1, 2, 1, 1, 2, 2, 2, 1, 0, 1, 1, 2, 1, 1, 2, 1, 1, 2, 2, 2, 2, 2, 2, 1, 1, 2, 1, 2, 1, 1, 1, 1, 1, 2, 2, 1, 2, 1, 1, 1, 2, 2, 1, 2, 2, 2, 1, 1, 2, 2, 2, 1, 1, 2, 1, 2, 2, 1, 1, 1, 1, 2, 1, 1, 1, 2, 2, 2, 1, 2, 2, 1, 2, 2, 2, 1, 1, 1, 1, 1, 1, 0, 1, 1, 2, 1, 1, 2, 2, 1, 1, 1, 2, 1, 1, 1, 2, 2, 2, 1, 1, 2, 1, 2, 1, 2, 1, 1, 2, 2, 2, 1, 2, 2, 2, 1, 1, 2, 2, 1, 1, 2, 0, 1, 1, 2, 2, 1, 1, 1, 1, 2, 2, 2, 1, 2, 1, 1, 1, 0, 2, 2, 2, 1, 1, 1, 1, 1, 2, 1, 1, 2, 1, 2, 1, 2, 2, 2, 1, 1, 1, 1, 2, 2, 1, 2, 2, 1, 1, 1, 1, 2, 1, 2, 2, 2, 2, 2, 1, 1, 2, 1, 1, 1, 1, 1, 1, 2, 2, 2, 1, 2, 1, 1, 2, 1, 2, 2, 2, 1, 2, 1, 1, 1, 1, 1, 1, 2, 2, 2, 2, 2, 1, 1, 1, 2, 2, 1, 2, 2, 1, 1, 2, 1, 1, 2, 2, 2, 2, 1, 2, 2, 1, 2, 2, 1, 1, 2, 1, 1, 2, 1, 2, 1, 2, 2, 1, 2, 1, 1, 2, 1, 1, 2, 2, 2, 2, 1, 1, 2, 2, 2, 1, 1, 1, 1, 2, 1, 1, 2, 2, 2, 2, 2, 2, 2, 1, 2, 1, 1, 1, 2, 2, 2, 1, 1, 1, 2, 1, 1, 2, 1, 1, 1, 2, 2, 2, 1, 2, 1, 1, 1, 1, 1, 1, 1, 1, 2, 1, 2, 1, 1, 1, 2, 2, 2, 2, 2, 1, 1, 1, 1, 2, 2, 1, 1, 1, 1, 1, 1, 2, 2, 1, 2, 2, 2, 1, 1, 1, 2, 1, 1, 1, 2, 1, 2, 2, 1, 1, 1, 2, 1, 1, 2, 2, 2, 1, 1, 1, 1, 2, 2, 1, 2, 2, 1, 1, 1, 1, 1, 2, 1, 1, 2, 1, 1, 1, 1, 2, 2, 1, 1, 2, 1, 1, 1, 1, 1, 1, 2, 2, 2, 2, 1, 2, 1, 1, 1, 2, 2, 1, 2, 1, 1, 2, 1, 2, 1, 1, 2, 1, 2, 1, 1, 1, 2, 2, 2, 1, 1, 1, 2, 1, 1, 2, 2, 1, 2, 1, 2, 1, 2, 2, 2, 1, 1, 2, 1, 2, 1, 2, 2, 1, 1, 1, 1, 2, 2, 2, 1, 1, 2, 1, 1, 2, 1, 1, 2, 2, 1, 1, 1, 2, 2, 1, 2, 2, 1, 1, 1, 1, 1, 2, 2, 1, 1, 2, 1, 0, 2, 1, 1, 2, 1, 1, 1, 2, 1, 1, 2, 1, 2, 1, 2, 1, 2, 2, 1, 2, 1, 1, 1, 1, 2, 1, 2, 2, 1, 1, 2, 1, 1, 1, 2, 1, 2, 2, 2, 1, 1, 1, 1, 1, 2, 2, 2, 2, 1, 1, 1, 1, 1, 2, 2, 1, 2, 2, 1, 1, 2, 1, 1, 1, 1, 2, 2, 1, 1, 1, 1, 1, 1, 2, 2, 1, 1, 2, 1, 1, 1, 1, 2, 1, 1, 2, 2, 1, 1, 1, 1, 1, 1, 1, 2, 1, 1, 2, 2, 1, 2, 1, 2, 2, 1, 1, 1, 1, 1, 1, 2, 2, 2, 1, 2, 2, 1, 2, 2, 1, 1, 1, 1, 1, 1, 1, 2, 2, 2, 2, 2, 2, 2, 1, 1, 1, 2, 1, 1, 2, 2, 1, 1, 2, 1, 1, 1, 2, 1, 2, 1, 1, 1, 1, 2, 2, 1, 1, 2, 2, 1, 2, 2, 2, 1, 2, 2, 2, 1, 2, 1, 2, 1, 2, 1, 2, 1, 1, 1, 1, 1, 1, 2, 2, 1, 1, 2, 2, 2, 2, 1, 1, 1, 1, 2, 1, 2, 2, 2, 2, 1, 1, 1, 1, 1, 2, 1, 2, 2, 2, 2, 2, 2, 1, 1, 1, 1, 1, 1, 1, 2, 1, 2, 1, 2, 2, 2, 2, 1, 2, 1, 2, 2, 1, 1, 1, 1, 2, 1, 1, 1, 2, 2, 2, 1, 2, 2, 2, 1, 1, 2, 2, 2, 2, 1, 1, 1, 1, 2, 2, 2, 1, 1, 1, 1, 2, 1, 1, 1, 1, 1, 1, 1, 2, 2, 1, 1, 1, 2, 2, 1, 1, 1, 1, 1, 1, 1, 2, 1, 2, 1, 2, 2, 1, 2, 2, 2, 2, 1, 2, 2, 1, 2, 2, 1]\n"
     ]
    }
   ],
   "source": [
    "print(correct_preds)"
   ]
  },
  {
   "cell_type": "code",
   "execution_count": 21,
   "metadata": {
    "scrolled": true
   },
   "outputs": [
    {
     "name": "stdout",
     "output_type": "stream",
     "text": [
      "[1, 1, 1, 1, 1, 2, 1, 2, 2, 1, 1, 1, 0, 1, 1, 1, 2, 2, 1, 1, 1, 1, 2, 1, 2, 2, 2, 2, 1, 1, 2, 1, 1, 1, 1, 1, 2, 0, 2, 2, 1, 2, 1, 1, 1, 1, 2, 2, 1, 2, 1, 1, 2, 1, 2, 1, 1, 1, 1, 1, 2, 1, 1, 2, 0, 1, 1, 1, 2, 2, 1, 2, 1, 1, 2, 1, 1, 1, 1, 2, 1, 1, 1, 2, 2, 1, 2, 2, 1, 1, 1, 2, 2, 1, 1, 1, 1, 1, 0, 2, 1, 1, 2, 0, 1, 1, 2, 1, 1, 1, 2, 1, 1, 1, 1, 1, 0, 1, 2, 2, 2, 1, 2, 1, 1, 2, 1, 1, 1, 1, 2, 1, 2, 2, 2, 1, 1, 2, 1, 1, 1, 1, 2, 2, 1, 1, 1, 1, 2, 2, 1, 2, 2, 2, 1, 1, 2, 1, 1, 2, 2, 1, 2, 0, 1, 1, 2, 1, 1, 1, 2, 2, 2, 2, 1, 1, 2, 1, 1, 1, 1, 1, 2, 1, 2, 1, 2, 1, 1, 1, 2, 1, 2, 2, 2, 1, 2, 2, 1, 2, 1, 2, 1, 1, 1, 1, 1, 0, 2, 2, 2, 1, 2, 2, 1, 1, 1, 2, 1, 1, 1, 2, 1, 2, 1, 2, 2, 2, 2, 1, 1, 1, 1, 1, 1, 2, 2, 1, 2, 1, 2, 1, 2, 1, 2, 1, 1, 1, 1, 2, 1, 1, 2, 2, 2, 2, 2, 1, 1, 2, 1, 2, 2, 1, 1, 1, 2, 1, 1, 1, 1, 2, 1, 2, 1, 1, 1, 1, 2, 2, 1, 2, 2, 1, 2, 2, 1, 2, 1, 2, 1, 2, 2, 1, 1, 2, 1, 1, 1, 1, 1, 1, 1, 0, 1, 1, 1, 1, 1, 2, 1, 1, 1, 1, 1, 1, 1, 2, 1, 2, 2, 1, 2, 2, 1, 1, 1, 2, 1, 2, 2, 1, 1, 1, 2, 1, 2, 2, 2, 1, 2, 2, 1, 1, 2, 2, 2, 1, 2, 1, 1, 1, 1, 1, 2, 2, 1, 2, 2, 2, 1, 1, 1, 1, 2, 2, 2, 2, 1, 1, 2, 2, 2, 1, 2, 1, 1, 1, 2, 1, 1, 2, 1, 2, 1, 2, 1, 2, 2, 1, 1, 2, 1, 1, 0, 1, 2, 1, 2, 2, 2, 1, 1, 1, 2, 1, 1, 1, 2, 1, 2, 1, 2, 1, 2, 1, 2, 2, 0, 1, 2, 1, 2, 2, 1, 2, 1, 0, 2, 2, 1, 2, 2, 2, 2, 1, 1, 2, 2, 2, 1, 1, 2, 2, 2, 2, 2, 1, 1, 1, 1, 1, 1, 1, 2, 2, 1, 1, 0, 2, 1, 2, 1, 2, 0, 1, 2, 2, 2, 1, 1, 1, 1, 2, 2, 1, 1, 2, 1, 2, 2, 2, 2, 1, 2, 1, 1, 2, 2, 1, 1, 2, 1, 1, 1, 1, 1, 1, 2, 1, 2, 2, 1, 2, 2, 2, 1, 2, 2, 2, 2, 2, 1, 1, 1, 2, 1, 1, 1, 1, 1, 1, 2, 2, 2, 1, 2, 2, 2, 1, 2, 1, 2, 1, 2, 2, 1, 1, 1, 1, 2, 2, 1, 2, 1, 2, 2, 1, 2, 2, 1, 1, 1, 1, 2, 1, 1, 1, 1, 2, 2, 1, 2, 2, 1, 1, 2, 1, 2, 1, 2, 1, 2, 2, 1, 2, 1, 1, 1, 1, 2, 1, 1, 2, 2, 1, 2, 1, 2, 2, 1, 2, 2, 2, 2, 1, 1, 2, 1, 1, 1, 2, 2, 1, 1, 1, 1, 1, 2, 2, 2, 1, 2, 2, 1, 1, 1, 2, 2, 2, 1, 1, 2, 1, 2, 2, 1, 1, 2, 1, 2, 1, 1, 1, 2, 2, 1, 2, 1, 2, 1, 2, 2, 2, 1, 1, 2, 2, 2, 2, 1, 1, 2, 1, 1, 2, 1, 1, 1, 1, 1, 2, 1, 1, 1, 2, 2, 2, 2, 2, 2, 2, 1, 2, 2, 1, 1, 2, 1, 1, 1, 2, 2, 2, 2, 2, 1, 2, 1, 1, 1, 1, 2, 1, 1, 1, 2, 1, 2, 2, 2, 1, 2, 1, 2, 2, 2, 2, 1, 2, 2, 2, 1, 2, 2, 1, 2, 1, 1, 1, 2, 1, 1, 1, 1, 1, 1, 2, 2, 2, 2, 1, 1, 2, 2, 2, 1, 2, 1, 1, 1, 2, 1, 1, 1, 1, 2, 2, 2, 1, 1, 1, 1, 2, 2, 1, 2, 2, 2, 1, 2, 2, 1, 1, 1, 2, 1, 1, 1, 1, 2, 2, 1, 1, 2, 2, 1, 1, 1, 1, 1, 2, 2, 1, 2, 1, 1, 2, 1, 1, 1, 1, 1, 2, 2, 2, 1, 2, 2, 1, 2, 2, 1, 2, 1, 1, 1, 2, 1, 2, 1, 2, 2, 2, 1, 1, 1, 1, 1, 1, 1, 2, 1, 2, 1, 1, 2, 2, 2, 2, 1, 2, 1, 1, 2, 2, 2, 2, 2, 2, 2, 1, 2, 1, 1, 2, 1, 2, 1, 1, 1, 2, 1, 1, 1, 2, 2, 2, 1, 1, 2, 1, 1, 2, 2, 1, 2, 1, 1, 1, 1, 2, 1, 1, 1, 2, 2, 2, 1, 1, 1, 1, 2, 2, 1, 1, 2, 2, 2, 2, 1, 1, 1, 1, 1, 2, 2, 1, 1, 2, 2, 1, 1, 1, 2, 2, 2, 2, 2, 1, 1, 2, 1, 1, 2, 1, 1, 2, 1, 2, 2, 1, 1, 2, 2, 2, 1, 1, 1, 1, 2, 1, 1, 2, 2, 1, 1, 1, 1, 2, 1, 1, 1, 1, 1, 2, 1, 2, 1, 2, 2, 2, 1, 2, 1, 1, 2, 2, 1, 1, 1, 1, 1, 1, 2, 1, 1, 2, 2, 1, 1, 2, 2, 2, 2, 2, 1, 2, 2, 1, 2, 1, 2, 1, 1, 2, 1, 1, 2, 2, 2, 1, 2, 1, 1, 1, 1, 2, 2, 2, 1, 2, 2, 1, 1, 2, 1, 1, 2, 1, 2, 1, 1, 2, 1, 2, 1, 1, 1, 2, 2, 2, 1, 1, 2, 1, 1, 2, 1, 1, 1, 2, 2, 2, 1, 1, 2, 1, 2, 2, 1, 1, 1, 1, 1, 2, 2, 1, 1, 1, 2, 2, 1, 2, 1, 2, 2, 2, 1, 2, 1, 2, 1, 1, 2, 2, 1, 2, 1, 2, 1, 1, 2, 2, 1, 2, 1, 1, 2, 1, 2, 2, 1, 1, 1, 2, 1, 1, 1, 2, 1, 2, 1, 1, 1, 2, 1, 2, 2, 2, 2, 2, 2, 1, 1, 1, 1, 1, 2, 2, 2, 2, 1, 1, 2, 1, 2, 1, 1, 2, 2, 1, 1, 1, 1, 2, 2, 2, 1, 2, 1, 2, 2, 1, 1, 1, 2, 2, 1, 1, 1, 1, 1, 2, 2, 1, 1, 1, 1, 2, 1, 1, 2, 2, 1, 1, 2, 2, 1, 2, 1, 2, 1, 2, 1, 2, 1, 2, 1, 1, 1, 1, 0, 2, 2, 2, 1, 2, 1, 1, 1, 2, 2, 1, 2, 1, 2, 1, 2, 1, 1, 2, 2, 1, 1, 1, 1, 2, 1, 2, 1, 1, 1, 1, 2, 1, 2, 1, 2, 2, 1, 1, 2, 1, 2, 1, 1, 2, 2, 2, 2, 1, 2, 1, 1, 1, 1, 1, 2, 1, 1, 1, 2, 1, 1, 2, 1, 2, 1, 2, 1, 1, 1, 2, 1, 1, 2, 1, 1, 2, 2, 1, 1, 1, 1, 1, 1, 2, 2, 2, 1, 1, 2, 1, 2, 1, 2, 2, 1, 1, 1, 1, 1, 1, 1, 1, 0, 2, 1, 1, 1, 2, 2, 2, 2, 1, 1, 2, 1, 1, 2, 1, 0, 1, 1, 1, 1, 2, 2, 2, 2, 1, 2, 2, 2, 1, 1, 1, 1, 2, 1, 2, 1, 2, 1, 2, 2, 2, 1, 2, 2, 1, 1, 1, 1, 1, 2, 1, 1, 1, 1, 2, 1, 1, 2, 1, 2, 1, 1, 2, 2, 2, 2, 1, 2, 2, 0, 2, 2, 1, 2, 1, 1, 2, 2, 1, 2, 2, 1, 1, 1, 1, 1, 1, 0, 2, 2, 1, 2, 1, 1, 2, 2, 2, 1, 1, 1, 2, 1, 1, 1, 1, 1, 1, 1, 2, 1, 2, 1, 1, 2, 2, 2, 1, 1, 2, 2, 1, 2, 2, 1, 1, 2, 2, 2, 1, 0, 2, 1, 1, 1, 2, 1, 1, 1, 1, 1, 2, 1, 2, 1, 2, 1, 2, 1, 1, 2, 1, 2, 2, 1, 1, 1, 1, 1, 1, 2, 1, 1, 1, 1, 2, 1, 2, 2, 1, 2, 2, 1, 2, 2, 1, 1, 1, 1, 1, 1, 1, 2, 1, 1, 1, 1, 2, 1, 2, 2, 2, 1, 2, 1, 2, 2, 2, 2, 2, 1, 2, 2, 2, 1, 2, 1, 2, 2, 1, 1, 1, 2, 1, 1, 1, 1, 0, 2, 2, 1, 1, 2, 1, 1, 2, 1, 1, 2, 1, 1, 1, 2, 2, 2, 1, 2, 1, 1, 2, 2, 1, 1, 1, 1, 1, 2, 2, 2, 1, 1, 0, 2, 2, 2, 1, 1, 2, 1, 2, 0, 1, 1, 1, 2, 2, 1, 2, 2, 2, 2, 2, 1, 1, 1, 2, 1, 1, 1, 1, 2, 1, 1, 2, 2, 2, 2, 1, 2, 1, 1, 2, 1, 1, 1, 0, 2, 1, 1, 1, 2, 1, 2, 2, 1, 1, 1, 2, 2, 2, 2, 1, 1, 1, 2, 1, 1, 2, 1, 1, 2, 2, 2, 2, 1, 2, 2, 1, 1, 1, 1, 1, 1, 1, 2, 2, 1, 2, 1, 2, 2, 1, 2, 2, 1, 1, 2, 2, 1, 1, 1, 2, 2, 1, 1, 2, 1, 1, 2, 1, 1, 2, 1, 1, 2, 1, 1, 1, 2, 2, 2, 1, 2, 2, 2, 2, 1, 1, 1, 1, 1, 2, 1, 1, 1, 2, 1, 2, 2, 1, 2, 1, 1, 2, 1, 1, 2, 1, 1, 2, 2, 2, 2, 1, 2, 2, 1, 2, 1, 2, 2, 2, 1, 1, 1, 1, 2, 1, 1, 1, 1, 2, 2, 1, 1, 2, 2, 1, 1, 2, 1, 2, 2, 1, 2, 1, 2, 1, 2, 2, 2, 2, 1, 1, 2, 1, 1, 1, 2, 2, 1, 2, 1, 1, 1, 1, 1, 1, 1, 2, 2, 2, 1, 2, 2, 1, 1, 2, 1, 1, 1, 1, 1, 1, 2, 1, 1, 2, 2, 1, 2, 2, 2, 1, 1, 1, 1, 2, 1, 1, 2, 2, 1, 1, 2, 2, 1, 2, 1, 1, 2, 1, 1, 1, 1, 2, 1, 1, 1, 1, 2, 2, 1, 1, 2, 1, 1, 2, 1, 2, 1, 2, 2, 1, 1, 1, 1, 1, 2, 1, 2, 2, 2, 2, 2, 1, 2, 1, 2, 1, 1, 2, 2, 1, 1, 1, 2, 1, 2, 1, 2, 2, 2, 1, 2, 2, 1, 2, 2, 1]\n"
     ]
    }
   ],
   "source": [
    "print(wl_preds)"
   ]
  }
 ],
 "metadata": {
  "kernelspec": {
   "display_name": "Python 3",
   "language": "python",
   "name": "python3"
  },
  "language_info": {
   "codemirror_mode": {
    "name": "ipython",
    "version": 3
   },
   "file_extension": ".py",
   "mimetype": "text/x-python",
   "name": "python",
   "nbconvert_exporter": "python",
   "pygments_lexer": "ipython3",
   "version": "3.8.5"
  }
 },
 "nbformat": 4,
 "nbformat_minor": 4
}
