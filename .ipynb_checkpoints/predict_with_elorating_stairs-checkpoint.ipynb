{
 "cells": [
  {
   "cell_type": "code",
   "execution_count": 17,
   "metadata": {},
   "outputs": [],
   "source": [
    "import csv\n",
    "import pandas as pd\n",
    "import numpy as np\n",
    "import matplotlib.pyplot as plt\n",
    "import mglearn\n",
    "from sklearn import svm\n",
    "import datetime as dt\n",
    "from sklearn.ensemble import RandomForestClassifier "
   ]
  },
  {
   "cell_type": "code",
   "execution_count": 18,
   "metadata": {},
   "outputs": [],
   "source": [
    "accuracies = []\n",
    "\n",
    "def predict(year):\n",
    "    df_past_1 = pd.read_csv(f'./match_data_yearly/{year-1}.csv')\n",
    "    df_past_2 = pd.read_csv(f'./match_data_yearly/{year-2}.csv')\n",
    "    df_past_3 = pd.read_csv(f'./match_data_yearly/{year-3}.csv')\n",
    "    \n",
    "    df_past = pd.concat([df_past_3,df_past_2,df_past_1])    \n",
    "    X_train = df_past[[\"HomeElo\",\"AwayElo\",\"HomeED\",\"AwayED\"]].values\n",
    "    y_train = df_past[\"W/L\"].values\n",
    "    \n",
    "    df_future = pd.read_csv(f'./match_data_yearly/{year}.csv')\n",
    "    X_test = df_future[[\"HomeElo\",\"AwayElo\",\"HomeED\",\"AwayED\"]].values\n",
    "    y_test = df_future[\"W/L\"].values\n",
    "    \n",
    "    rf= RandomForestClassifier(max_depth=5)  \n",
    "    rf.fit(X_train,y_train)\n",
    "    y_pred = rf.predict(X_test)\n",
    "    \n",
    "    accuracy = rf.score(X_test,y_test) \n",
    "    accuracies.append(accuracy)\n",
    "        "
   ]
  },
  {
   "cell_type": "code",
   "execution_count": 23,
   "metadata": {},
   "outputs": [],
   "source": [
    "for y in (2013,2014,2015,2016,2017,2018,2019,2020):\n",
    "    predict(y)"
   ]
  },
  {
   "cell_type": "code",
   "execution_count": 24,
   "metadata": {},
   "outputs": [
    {
     "data": {
      "text/plain": [
       "[0.6601307189542484,\n",
       " 0.6372549019607843,\n",
       " 0.6111111111111112,\n",
       " 0.6699346405228758,\n",
       " 0.6535947712418301,\n",
       " 0.6209150326797386,\n",
       " 0.6470588235294118,\n",
       " 0.5947712418300654,\n",
       " 0.6503267973856209,\n",
       " 0.6143790849673203,\n",
       " 0.6176470588235294,\n",
       " 0.6633986928104575,\n",
       " 0.6405228758169934,\n",
       " 0.6111111111111112,\n",
       " 0.6437908496732027,\n",
       " 0.5784313725490197]"
      ]
     },
     "execution_count": 24,
     "metadata": {},
     "output_type": "execute_result"
    }
   ],
   "source": [
    "accuracies"
   ]
  },
  {
   "cell_type": "code",
   "execution_count": 25,
   "metadata": {
    "scrolled": true
   },
   "outputs": [
    {
     "data": {
      "image/png": "[encoded data removed]",
      "text/plain": [
       "<Figure size 432x288 with 1 Axes>"
      ]
     },
     "metadata": {
      "needs_background": "light"
     },
     "output_type": "display_data"
    }
   ],
   "source": [
    "n, bins, patches=plt.hist(accuracies, bins=5)\n",
    "plt.xlabel(\"Accuracy\")\n",
    "plt.ylabel(\"Frequency\")\n",
    "plt.title(\"Histogram\")\n",
    "plt.show()"
   ]
  },
  {
   "cell_type": "code",
   "execution_count": 26,
   "metadata": {},
   "outputs": [
    {
     "data": {
      "text/plain": [
       "0.6321486928104575"
      ]
     },
     "execution_count": 26,
     "metadata": {},
     "output_type": "execute_result"
    }
   ],
   "source": [
    "np.mean(accuracies)"
   ]
  },
  {
   "cell_type": "markdown",
   "metadata": {},
   "source": [
    "### 考察\n",
    "\n",
    "2013-2020を予測するシーズンとし､そのシーズンの過去3年間を訓練データとした｡\n",
    "試合時のEloratingと前月との差分を入力データに使い､勝敗予測の精度を出したところ､2013-2020でおよそ60%台前半にぐらいになる"
   ]
  },
  {
   "cell_type": "code",
   "execution_count": null,
   "metadata": {},
   "outputs": [],
   "source": []
  }
 ],
 "metadata": {
  "kernelspec": {
   "display_name": "Python 3",
   "language": "python",
   "name": "python3"
  },
  "language_info": {
   "codemirror_mode": {
    "name": "ipython",
    "version": 3
   },
   "file_extension": ".py",
   "mimetype": "text/x-python",
   "name": "python",
   "nbconvert_exporter": "python",
   "pygments_lexer": "ipython3",
   "version": "3.8.5"
  }
 },
 "nbformat": 4,
 "nbformat_minor": 4
}
