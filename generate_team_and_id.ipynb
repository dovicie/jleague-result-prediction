{
 "cells": [
  {
   "cell_type": "code",
   "execution_count": 13,
   "metadata": {},
   "outputs": [],
   "source": [
    "import pandas as pd\n",
    "import csv\n"
   ]
  },
  {
   "cell_type": "code",
   "execution_count": 4,
   "metadata": {},
   "outputs": [],
   "source": [
    "team = pd.Series(['consadole-sapporo','vegalta-sendai','kashima-antlers','urawa-red-diamonds','kashiwa-reysol','fc-tokyo','kawasaki-frontale','yokohama-fa-marinos','yokohama-fc','shonan-bellmare','shimizu-s-pulse','nagoya-grampus-eight','gamba-osaka','cerezo-osaka','vissel-kobe','sanfrecce-hiroshima','tokushima-vortis','avispa-fukuoka','sagan-tosu','oita-trinita'])"
   ]
  },
  {
   "cell_type": "code",
   "execution_count": 5,
   "metadata": {},
   "outputs": [
    {
     "data": {
      "text/plain": [
       "0        consadole-sapporo\n",
       "1           vegalta-sendai\n",
       "2          kashima-antlers\n",
       "3       urawa-red-diamonds\n",
       "4           kashiwa-reysol\n",
       "5                 fc-tokyo\n",
       "6        kawasaki-frontale\n",
       "7      yokohama-fa-marinos\n",
       "8              yokohama-fc\n",
       "9          shonan-bellmare\n",
       "10         shimizu-s-pulse\n",
       "11    nagoya-grampus-eight\n",
       "12             gamba-osaka\n",
       "13            cerezo-osaka\n",
       "14             vissel-kobe\n",
       "15     sanfrecce-hiroshima\n",
       "16        tokushima-vortis\n",
       "17          avispa-fukuoka\n",
       "18              sagan-tosu\n",
       "19            oita-trinita\n",
       "dtype: object"
      ]
     },
     "execution_count": 5,
     "metadata": {},
     "output_type": "execute_result"
    }
   ],
   "source": [
    "team"
   ]
  },
  {
   "cell_type": "code",
   "execution_count": 6,
   "metadata": {},
   "outputs": [],
   "source": [
    "team_id = pd.Series([1,2,3,4,5,6,7,8,9,10,11,12,13,14,15,16,17,18,19,20]) "
   ]
  },
  {
   "cell_type": "code",
   "execution_count": 24,
   "metadata": {},
   "outputs": [],
   "source": [
    "df = pd.DataFrame({'team_id': [1,2,3,4,5,6,7,8,9,10,11,12,13,14,15,16,17,18],\n",
    "                  \"team\": ['consadole-sapporo','vegalta-sendai','kashima-antlers','urawa-red-diamonds','kashiwa-reysol','fc-tokyo','kawasaki-frontale','yokohama-fa-marinos','yokohama-fc','shonan-bellmare','shimizu-s-pulse','nagoya-grampus-eight','gamba-osaka','cerezo-osaka','vissel-kobe','sanfrecce-hiroshima','sagan-tosu','oita-trinita'],\n",
    "                   \"チーム名\":['札幌','仙台','鹿島','浦和','柏','FC東京','川崎Ｆ','横浜FM','横浜FC','湘南','清水','名古屋','Ｇ大阪','Ｃ大阪','神戸','広島','鳥栖','大分']   })"
   ]
  },
  {
   "cell_type": "code",
   "execution_count": 25,
   "metadata": {},
   "outputs": [
    {
     "data": {
      "text/html": [
       "<div>\n",
       "<style scoped>\n",
       "    .dataframe tbody tr th:only-of-type {\n",
       "        vertical-align: middle;\n",
       "    }\n",
       "\n",
       "    .dataframe tbody tr th {\n",
       "        vertical-align: top;\n",
       "    }\n",
       "\n",
       "    .dataframe thead th {\n",
       "        text-align: right;\n",
       "    }\n",
       "</style>\n",
       "<table border=\"1\" class=\"dataframe\">\n",
       "  <thead>\n",
       "    <tr style=\"text-align: right;\">\n",
       "      <th></th>\n",
       "      <th>team_id</th>\n",
       "      <th>team</th>\n",
       "      <th>チーム名</th>\n",
       "    </tr>\n",
       "  </thead>\n",
       "  <tbody>\n",
       "    <tr>\n",
       "      <th>0</th>\n",
       "      <td>1</td>\n",
       "      <td>consadole-sapporo</td>\n",
       "      <td>札幌</td>\n",
       "    </tr>\n",
       "    <tr>\n",
       "      <th>1</th>\n",
       "      <td>2</td>\n",
       "      <td>vegalta-sendai</td>\n",
       "      <td>仙台</td>\n",
       "    </tr>\n",
       "    <tr>\n",
       "      <th>2</th>\n",
       "      <td>3</td>\n",
       "      <td>kashima-antlers</td>\n",
       "      <td>鹿島</td>\n",
       "    </tr>\n",
       "    <tr>\n",
       "      <th>3</th>\n",
       "      <td>4</td>\n",
       "      <td>urawa-red-diamonds</td>\n",
       "      <td>浦和</td>\n",
       "    </tr>\n",
       "    <tr>\n",
       "      <th>4</th>\n",
       "      <td>5</td>\n",
       "      <td>kashiwa-reysol</td>\n",
       "      <td>柏</td>\n",
       "    </tr>\n",
       "    <tr>\n",
       "      <th>5</th>\n",
       "      <td>6</td>\n",
       "      <td>fc-tokyo</td>\n",
       "      <td>FC東京</td>\n",
       "    </tr>\n",
       "    <tr>\n",
       "      <th>6</th>\n",
       "      <td>7</td>\n",
       "      <td>kawasaki-frontale</td>\n",
       "      <td>川崎Ｆ</td>\n",
       "    </tr>\n",
       "    <tr>\n",
       "      <th>7</th>\n",
       "      <td>8</td>\n",
       "      <td>yokohama-fa-marinos</td>\n",
       "      <td>横浜FM</td>\n",
       "    </tr>\n",
       "    <tr>\n",
       "      <th>8</th>\n",
       "      <td>9</td>\n",
       "      <td>yokohama-fc</td>\n",
       "      <td>横浜FC</td>\n",
       "    </tr>\n",
       "    <tr>\n",
       "      <th>9</th>\n",
       "      <td>10</td>\n",
       "      <td>shonan-bellmare</td>\n",
       "      <td>湘南</td>\n",
       "    </tr>\n",
       "    <tr>\n",
       "      <th>10</th>\n",
       "      <td>11</td>\n",
       "      <td>shimizu-s-pulse</td>\n",
       "      <td>清水</td>\n",
       "    </tr>\n",
       "    <tr>\n",
       "      <th>11</th>\n",
       "      <td>12</td>\n",
       "      <td>nagoya-grampus-eight</td>\n",
       "      <td>名古屋</td>\n",
       "    </tr>\n",
       "    <tr>\n",
       "      <th>12</th>\n",
       "      <td>13</td>\n",
       "      <td>gamba-osaka</td>\n",
       "      <td>Ｇ大阪</td>\n",
       "    </tr>\n",
       "    <tr>\n",
       "      <th>13</th>\n",
       "      <td>14</td>\n",
       "      <td>cerezo-osaka</td>\n",
       "      <td>Ｃ大阪</td>\n",
       "    </tr>\n",
       "    <tr>\n",
       "      <th>14</th>\n",
       "      <td>15</td>\n",
       "      <td>vissel-kobe</td>\n",
       "      <td>神戸</td>\n",
       "    </tr>\n",
       "    <tr>\n",
       "      <th>15</th>\n",
       "      <td>16</td>\n",
       "      <td>sanfrecce-hiroshima</td>\n",
       "      <td>広島</td>\n",
       "    </tr>\n",
       "    <tr>\n",
       "      <th>16</th>\n",
       "      <td>17</td>\n",
       "      <td>sagan-tosu</td>\n",
       "      <td>鳥栖</td>\n",
       "    </tr>\n",
       "    <tr>\n",
       "      <th>17</th>\n",
       "      <td>18</td>\n",
       "      <td>oita-trinita</td>\n",
       "      <td>大分</td>\n",
       "    </tr>\n",
       "  </tbody>\n",
       "</table>\n",
       "</div>"
      ],
      "text/plain": [
       "    team_id                  team  チーム名\n",
       "0         1     consadole-sapporo    札幌\n",
       "1         2        vegalta-sendai    仙台\n",
       "2         3       kashima-antlers    鹿島\n",
       "3         4    urawa-red-diamonds    浦和\n",
       "4         5        kashiwa-reysol     柏\n",
       "5         6              fc-tokyo  FC東京\n",
       "6         7     kawasaki-frontale   川崎Ｆ\n",
       "7         8   yokohama-fa-marinos  横浜FM\n",
       "8         9           yokohama-fc  横浜FC\n",
       "9        10       shonan-bellmare    湘南\n",
       "10       11       shimizu-s-pulse    清水\n",
       "11       12  nagoya-grampus-eight   名古屋\n",
       "12       13           gamba-osaka   Ｇ大阪\n",
       "13       14          cerezo-osaka   Ｃ大阪\n",
       "14       15           vissel-kobe    神戸\n",
       "15       16   sanfrecce-hiroshima    広島\n",
       "16       17            sagan-tosu    鳥栖\n",
       "17       18          oita-trinita    大分"
      ]
     },
     "execution_count": 25,
     "metadata": {},
     "output_type": "execute_result"
    }
   ],
   "source": [
    "df"
   ]
  },
  {
   "cell_type": "code",
   "execution_count": 26,
   "metadata": {},
   "outputs": [],
   "source": [
    "df.to_csv('team_and_id.csv', index= False)"
   ]
  },
  {
   "cell_type": "code",
   "execution_count": null,
   "metadata": {},
   "outputs": [],
   "source": []
  }
 ],
 "metadata": {
  "kernelspec": {
   "display_name": "Python 3",
   "language": "python",
   "name": "python3"
  },
  "language_info": {
   "codemirror_mode": {
    "name": "ipython",
    "version": 3
   },
   "file_extension": ".py",
   "mimetype": "text/x-python",
   "name": "python",
   "nbconvert_exporter": "python",
   "pygments_lexer": "ipython3",
   "version": "3.8.5"
  }
 },
 "nbformat": 4,
 "nbformat_minor": 4
}
