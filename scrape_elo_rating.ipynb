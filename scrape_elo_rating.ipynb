{
 "cells": [
  {
   "cell_type": "code",
   "execution_count": 1,
   "metadata": {},
   "outputs": [],
   "source": [
    "import csv\n",
    "import time\n",
    "import requests\n",
    "import datetime\n",
    "import pandas as pd\n",
    "from bs4 import BeautifulSoup"
   ]
  },
  {
   "cell_type": "code",
   "execution_count": 84,
   "metadata": {},
   "outputs": [],
   "source": [
    "url = \"https://footballdatabase.com/clubs-ranking/kawasaki-frontale\""
   ]
  },
  {
   "cell_type": "code",
   "execution_count": 85,
   "metadata": {},
   "outputs": [],
   "source": [
    "r = requests.get(url)"
   ]
  },
  {
   "cell_type": "code",
   "execution_count": 86,
   "metadata": {},
   "outputs": [
    {
     "data": {
      "text/plain": [
       "<Response [200]>"
      ]
     },
     "execution_count": 86,
     "metadata": {},
     "output_type": "execute_result"
    }
   ],
   "source": [
    "r"
   ]
  },
  {
   "cell_type": "code",
   "execution_count": 87,
   "metadata": {},
   "outputs": [],
   "source": [
    "soup = BeautifulSoup(r.text, 'html.parser')"
   ]
  },
  {
   "cell_type": "code",
   "execution_count": 88,
   "metadata": {},
   "outputs": [],
   "source": [
    "records = soup.find_all(\"script\")"
   ]
  },
  {
   "cell_type": "code",
   "execution_count": 89,
   "metadata": {},
   "outputs": [
    {
     "data": {
      "text/plain": [
       "17"
      ]
     },
     "execution_count": 89,
     "metadata": {},
     "output_type": "execute_result"
    }
   ],
   "source": [
    "len(records)"
   ]
  },
  {
   "cell_type": "code",
   "execution_count": 90,
   "metadata": {},
   "outputs": [
    {
     "data": {
      "text/plain": [
       "<script type=\"text/javascript\">window.onresize=function(){startDrawingChart()};window.onload=function(){startDrawingChart()};var data_array=[['Month','Points','Rank'],['January 2010',1416,551],['February 2010',1408,576],['March 2010',1396,646],['April 2010',1411,569],['May 2010',1409,569],['June 2010',1409,572],['July 2010',1407,587],['August 2010',1417,554],['September 2010',1411,568],['October 2010',1420,552],['November 2010',1418,560],['December 2010',1418,558],['January 2011',1418,558],['February 2011',1418,557],['March 2011',1422,540],['April 2011',1411,573],['May 2011',1421,549],['June 2011',1443,472],['July 2011',1425,539],['August 2011',1401,618],['September 2011',1392,682],['October 2011',1392,678],['November 2011',1399,656],['December 2011',1394,680],['January 2012',1394,682],['February 2012',1394,672],['March 2012',1401,631],['April 2012',1386,715],['May 2012',1401,635],['June 2012',1398,657],['July 2012',1400,653],['August 2012',1391,688],['September 2012',1395,667],['October 2012',1388,705],['November 2012',1403,617],['December 2012',1404,613],['January 2013',1404,616],['February 2013',1404,609],['March 2013',1390,685],['April 2013',1388,702],['May 2013',1409,591],['June 2013',1409,590],['July 2013',1418,555],['August 2013',1420,547],['September 2013',1426,525],['October 2013',1429,517],['November 2013',1447,460],['December 2013',1451,425],['January 2014',1451,425],['February 2014',1455,412],['March 2014',1444,473],['April 2014',1470,354],['May 2014',1472,355],['June 2014',1472,354],['July 2014',1494,293],['August 2014',1487,314],['September 2014',1491,302],['October 2014',1477,333],['November 2014',1464,384],['December 2014',1469,365],['January 2015',1469,364],['February 2015',1469,360],['March 2015',1469,358],['April 2015',1470,358],['May 2015',1461,389],['June 2015',1472,351],['July 2015',1481,331],['August 2015',1454,419],['September 2015',1472,359],['October 2015',1469,360],['November 2015',1474,354],['December 2015',1474,351],['January 2016',1474,351],['February 2016',1481,335],['March 2016',1489,316],['April 2016',1499,283],['May 2016',1509,248],['June 2016',1516,232],['July 2016',1539,180],['August 2016',1529,205],['September 2016',1527,201],['October 2016',1530,196],['November 2016',1523,213],['December 2016',1523,217],['January 2017',1523,216],['February 2017',1527,210],['March 2017',1519,233],['April 2017',1517,234],['May 2017',1560,157],['June 2017',1566,150],['July 2017',1561,153],['August 2017',1576,133],['September 2017',1574,133],['October 2017',1584,115],['November 2017',1592,103],['December 2017',1594,107],['January 2018',1594,114],['February 2018',1582,128],['March 2018',1570,148],['April 2018',1569,153],['May 2018',1554,174],['June 2018',1554,176],['July 2018',1558,168],['August 2018',1562,165],['September 2018',1567,161],['October 2018',1571,155],['November 2018',1576,140],['December 2018',1578,142],['January 2019',1578,146],['February 2019',1575,145],['March 2019',1567,158],['April 2019',1564,160],['May 2019',1583,133],['June 2019',1582,134],['July 2019',1583,133],['August 2019',1562,164],['September 2019',1551,182],['October 2019',1557,173],['November 2019',1565,158],['December 2019',1569,146],['January 2020',1569,146],['February 2020',1565,159],['March 2020',1565,157],['April 2020',1565,157],['May 2020',1565,154],['June 2020',1565,160],['July 2020',1591,120],['August 2020',1608,108],['September 2020',1624,96],['October 2020',1643,81],['November 2020',1628,84],['December 2020',1630,91],['January 2021',1630,89],['February 2021',1633,84],['March 2021',1646,76],['April 2021',1658,67],['May 2021',1661,67],['Today',1664,66]];startDrawingChart=function(){google.load(\"visualization\",\"1\",{packages:[\"corechart\"],callback:drawChart});function drawChart(){var data=google.visualization.arrayToDataTable(data_array);var options={curveType:\"none\",colors:[\"#2c3e50\",\"#feb729\"],tooltip:{showColorCode:true},chartArea:{width:\"100%\",height:\"100%\"},legend:{position:\"in\"},hAxis:{textPosition:\"in\"},vAxis:{textPosition:\"in\"},vAxes:{0:{direction:1,title:\"Points\"},1:{direction:-1,minValue:1,title:\"Rank\",viewWindow:{min:1}}},series:{0:{targetAxisIndex:0},1:{targetAxisIndex:1}}};var chart=new google.visualization.LineChart(document.getElementById(\"chart_div\"));chart.draw(data,options)}};\n",
       "</script>"
      ]
     },
     "execution_count": 90,
     "metadata": {},
     "output_type": "execute_result"
    }
   ],
   "source": [
    "records[1]"
   ]
  },
  {
   "cell_type": "code",
   "execution_count": 91,
   "metadata": {},
   "outputs": [],
   "source": [
    "import re\n",
    "\n",
    "m = re.search('^.*var data_array=([^;]*).*$', records[1].contents[0])"
   ]
  },
  {
   "cell_type": "code",
   "execution_count": 100,
   "metadata": {},
   "outputs": [
    {
     "data": {
      "text/plain": [
       "re.Match"
      ]
     },
     "execution_count": 100,
     "metadata": {},
     "output_type": "execute_result"
    }
   ],
   "source": [
    "type(m)"
   ]
  },
  {
   "cell_type": "code",
   "execution_count": 94,
   "metadata": {},
   "outputs": [
    {
     "data": {
      "text/plain": [
       "\"[['Month','Points','Rank'],['January 2010',1416,551],['February 2010',1408,576],['March 2010',1396,646],['April 2010',1411,569],['May 2010',1409,569],['June 2010',1409,572],['July 2010',1407,587],['August 2010',1417,554],['September 2010',1411,568],['October 2010',1420,552],['November 2010',1418,560],['December 2010',1418,558],['January 2011',1418,558],['February 2011',1418,557],['March 2011',1422,540],['April 2011',1411,573],['May 2011',1421,549],['June 2011',1443,472],['July 2011',1425,539],['August 2011',1401,618],['September 2011',1392,682],['October 2011',1392,678],['November 2011',1399,656],['December 2011',1394,680],['January 2012',1394,682],['February 2012',1394,672],['March 2012',1401,631],['April 2012',1386,715],['May 2012',1401,635],['June 2012',1398,657],['July 2012',1400,653],['August 2012',1391,688],['September 2012',1395,667],['October 2012',1388,705],['November 2012',1403,617],['December 2012',1404,613],['January 2013',1404,616],['February 2013',1404,609],['March 2013',1390,685],['April 2013',1388,702],['May 2013',1409,591],['June 2013',1409,590],['July 2013',1418,555],['August 2013',1420,547],['September 2013',1426,525],['October 2013',1429,517],['November 2013',1447,460],['December 2013',1451,425],['January 2014',1451,425],['February 2014',1455,412],['March 2014',1444,473],['April 2014',1470,354],['May 2014',1472,355],['June 2014',1472,354],['July 2014',1494,293],['August 2014',1487,314],['September 2014',1491,302],['October 2014',1477,333],['November 2014',1464,384],['December 2014',1469,365],['January 2015',1469,364],['February 2015',1469,360],['March 2015',1469,358],['April 2015',1470,358],['May 2015',1461,389],['June 2015',1472,351],['July 2015',1481,331],['August 2015',1454,419],['September 2015',1472,359],['October 2015',1469,360],['November 2015',1474,354],['December 2015',1474,351],['January 2016',1474,351],['February 2016',1481,335],['March 2016',1489,316],['April 2016',1499,283],['May 2016',1509,248],['June 2016',1516,232],['July 2016',1539,180],['August 2016',1529,205],['September 2016',1527,201],['October 2016',1530,196],['November 2016',1523,213],['December 2016',1523,217],['January 2017',1523,216],['February 2017',1527,210],['March 2017',1519,233],['April 2017',1517,234],['May 2017',1560,157],['June 2017',1566,150],['July 2017',1561,153],['August 2017',1576,133],['September 2017',1574,133],['October 2017',1584,115],['November 2017',1592,103],['December 2017',1594,107],['January 2018',1594,114],['February 2018',1582,128],['March 2018',1570,148],['April 2018',1569,153],['May 2018',1554,174],['June 2018',1554,176],['July 2018',1558,168],['August 2018',1562,165],['September 2018',1567,161],['October 2018',1571,155],['November 2018',1576,140],['December 2018',1578,142],['January 2019',1578,146],['February 2019',1575,145],['March 2019',1567,158],['April 2019',1564,160],['May 2019',1583,133],['June 2019',1582,134],['July 2019',1583,133],['August 2019',1562,164],['September 2019',1551,182],['October 2019',1557,173],['November 2019',1565,158],['December 2019',1569,146],['January 2020',1569,146],['February 2020',1565,159],['March 2020',1565,157],['April 2020',1565,157],['May 2020',1565,154],['June 2020',1565,160],['July 2020',1591,120],['August 2020',1608,108],['September 2020',1624,96],['October 2020',1643,81],['November 2020',1628,84],['December 2020',1630,91],['January 2021',1630,89],['February 2021',1633,84],['March 2021',1646,76],['April 2021',1658,67],['May 2021',1661,67],['Today',1664,66]]\""
      ]
     },
     "execution_count": 94,
     "metadata": {},
     "output_type": "execute_result"
    }
   ],
   "source": [
    "m.group(1)"
   ]
  },
  {
   "cell_type": "code",
   "execution_count": 95,
   "metadata": {},
   "outputs": [],
   "source": [
    "from ast import literal_eval\n",
    "\n",
    "data = literal_eval(m.group(1))"
   ]
  },
  {
   "cell_type": "code",
   "execution_count": 96,
   "metadata": {
    "scrolled": false
   },
   "outputs": [
    {
     "data": {
      "text/plain": [
       "[['Month', 'Points', 'Rank'],\n",
       " ['January 2010', 1416, 551],\n",
       " ['February 2010', 1408, 576],\n",
       " ['March 2010', 1396, 646],\n",
       " ['April 2010', 1411, 569],\n",
       " ['May 2010', 1409, 569],\n",
       " ['June 2010', 1409, 572],\n",
       " ['July 2010', 1407, 587],\n",
       " ['August 2010', 1417, 554],\n",
       " ['September 2010', 1411, 568],\n",
       " ['October 2010', 1420, 552],\n",
       " ['November 2010', 1418, 560],\n",
       " ['December 2010', 1418, 558],\n",
       " ['January 2011', 1418, 558],\n",
       " ['February 2011', 1418, 557],\n",
       " ['March 2011', 1422, 540],\n",
       " ['April 2011', 1411, 573],\n",
       " ['May 2011', 1421, 549],\n",
       " ['June 2011', 1443, 472],\n",
       " ['July 2011', 1425, 539],\n",
       " ['August 2011', 1401, 618],\n",
       " ['September 2011', 1392, 682],\n",
       " ['October 2011', 1392, 678],\n",
       " ['November 2011', 1399, 656],\n",
       " ['December 2011', 1394, 680],\n",
       " ['January 2012', 1394, 682],\n",
       " ['February 2012', 1394, 672],\n",
       " ['March 2012', 1401, 631],\n",
       " ['April 2012', 1386, 715],\n",
       " ['May 2012', 1401, 635],\n",
       " ['June 2012', 1398, 657],\n",
       " ['July 2012', 1400, 653],\n",
       " ['August 2012', 1391, 688],\n",
       " ['September 2012', 1395, 667],\n",
       " ['October 2012', 1388, 705],\n",
       " ['November 2012', 1403, 617],\n",
       " ['December 2012', 1404, 613],\n",
       " ['January 2013', 1404, 616],\n",
       " ['February 2013', 1404, 609],\n",
       " ['March 2013', 1390, 685],\n",
       " ['April 2013', 1388, 702],\n",
       " ['May 2013', 1409, 591],\n",
       " ['June 2013', 1409, 590],\n",
       " ['July 2013', 1418, 555],\n",
       " ['August 2013', 1420, 547],\n",
       " ['September 2013', 1426, 525],\n",
       " ['October 2013', 1429, 517],\n",
       " ['November 2013', 1447, 460],\n",
       " ['December 2013', 1451, 425],\n",
       " ['January 2014', 1451, 425],\n",
       " ['February 2014', 1455, 412],\n",
       " ['March 2014', 1444, 473],\n",
       " ['April 2014', 1470, 354],\n",
       " ['May 2014', 1472, 355],\n",
       " ['June 2014', 1472, 354],\n",
       " ['July 2014', 1494, 293],\n",
       " ['August 2014', 1487, 314],\n",
       " ['September 2014', 1491, 302],\n",
       " ['October 2014', 1477, 333],\n",
       " ['November 2014', 1464, 384],\n",
       " ['December 2014', 1469, 365],\n",
       " ['January 2015', 1469, 364],\n",
       " ['February 2015', 1469, 360],\n",
       " ['March 2015', 1469, 358],\n",
       " ['April 2015', 1470, 358],\n",
       " ['May 2015', 1461, 389],\n",
       " ['June 2015', 1472, 351],\n",
       " ['July 2015', 1481, 331],\n",
       " ['August 2015', 1454, 419],\n",
       " ['September 2015', 1472, 359],\n",
       " ['October 2015', 1469, 360],\n",
       " ['November 2015', 1474, 354],\n",
       " ['December 2015', 1474, 351],\n",
       " ['January 2016', 1474, 351],\n",
       " ['February 2016', 1481, 335],\n",
       " ['March 2016', 1489, 316],\n",
       " ['April 2016', 1499, 283],\n",
       " ['May 2016', 1509, 248],\n",
       " ['June 2016', 1516, 232],\n",
       " ['July 2016', 1539, 180],\n",
       " ['August 2016', 1529, 205],\n",
       " ['September 2016', 1527, 201],\n",
       " ['October 2016', 1530, 196],\n",
       " ['November 2016', 1523, 213],\n",
       " ['December 2016', 1523, 217],\n",
       " ['January 2017', 1523, 216],\n",
       " ['February 2017', 1527, 210],\n",
       " ['March 2017', 1519, 233],\n",
       " ['April 2017', 1517, 234],\n",
       " ['May 2017', 1560, 157],\n",
       " ['June 2017', 1566, 150],\n",
       " ['July 2017', 1561, 153],\n",
       " ['August 2017', 1576, 133],\n",
       " ['September 2017', 1574, 133],\n",
       " ['October 2017', 1584, 115],\n",
       " ['November 2017', 1592, 103],\n",
       " ['December 2017', 1594, 107],\n",
       " ['January 2018', 1594, 114],\n",
       " ['February 2018', 1582, 128],\n",
       " ['March 2018', 1570, 148],\n",
       " ['April 2018', 1569, 153],\n",
       " ['May 2018', 1554, 174],\n",
       " ['June 2018', 1554, 176],\n",
       " ['July 2018', 1558, 168],\n",
       " ['August 2018', 1562, 165],\n",
       " ['September 2018', 1567, 161],\n",
       " ['October 2018', 1571, 155],\n",
       " ['November 2018', 1576, 140],\n",
       " ['December 2018', 1578, 142],\n",
       " ['January 2019', 1578, 146],\n",
       " ['February 2019', 1575, 145],\n",
       " ['March 2019', 1567, 158],\n",
       " ['April 2019', 1564, 160],\n",
       " ['May 2019', 1583, 133],\n",
       " ['June 2019', 1582, 134],\n",
       " ['July 2019', 1583, 133],\n",
       " ['August 2019', 1562, 164],\n",
       " ['September 2019', 1551, 182],\n",
       " ['October 2019', 1557, 173],\n",
       " ['November 2019', 1565, 158],\n",
       " ['December 2019', 1569, 146],\n",
       " ['January 2020', 1569, 146],\n",
       " ['February 2020', 1565, 159],\n",
       " ['March 2020', 1565, 157],\n",
       " ['April 2020', 1565, 157],\n",
       " ['May 2020', 1565, 154],\n",
       " ['June 2020', 1565, 160],\n",
       " ['July 2020', 1591, 120],\n",
       " ['August 2020', 1608, 108],\n",
       " ['September 2020', 1624, 96],\n",
       " ['October 2020', 1643, 81],\n",
       " ['November 2020', 1628, 84],\n",
       " ['December 2020', 1630, 91],\n",
       " ['January 2021', 1630, 89],\n",
       " ['February 2021', 1633, 84],\n",
       " ['March 2021', 1646, 76],\n",
       " ['April 2021', 1658, 67],\n",
       " ['May 2021', 1661, 67]]"
      ]
     },
     "execution_count": 96,
     "metadata": {},
     "output_type": "execute_result"
    }
   ],
   "source": [
    "del data[-1]\n",
    "data"
   ]
  },
  {
   "cell_type": "code",
   "execution_count": 97,
   "metadata": {
    "scrolled": true
   },
   "outputs": [
    {
     "data": {
      "text/plain": [
       "list"
      ]
     },
     "execution_count": 97,
     "metadata": {},
     "output_type": "execute_result"
    }
   ],
   "source": [
    "type(data)"
   ]
  },
  {
   "cell_type": "code",
   "execution_count": 98,
   "metadata": {},
   "outputs": [],
   "source": [
    "from datetime import datetime\n",
    "for i in data[1:]:\n",
    "    i[0] = datetime.strptime(i[0], '%B %Y')"
   ]
  },
  {
   "cell_type": "code",
   "execution_count": 80,
   "metadata": {},
   "outputs": [
    {
     "data": {
      "text/plain": [
       "<matplotlib.legend.Legend at 0x7f17d5e98dc0>"
      ]
     },
     "execution_count": 80,
     "metadata": {},
     "output_type": "execute_result"
    },
    {
     "data": {
      "image/png": "[encoded data removed]",
      "text/plain": [
       "<Figure size 432x288 with 1 Axes>"
      ]
     },
     "metadata": {
      "needs_background": "light"
     },
     "output_type": "display_data"
    }
   ],
   "source": [
    "%matplotlib inline\n",
    "import matplotlib.pyplot as plt\n",
    "\n",
    "xs = [d[1] for d in data[1:]]\n",
    "ys = [d[2] for d in data[1:]] \n",
    "plt.plot(xs, label='point')\n",
    "plt.plot(ys, label='rank')\n",
    "plt.legend()"
   ]
  },
  {
   "cell_type": "code",
   "execution_count": 81,
   "metadata": {},
   "outputs": [
    {
     "data": {
      "text/plain": [
       "[['Month', 'Points', 'Rank'],\n",
       " [datetime.datetime(2010, 1, 1, 0, 0), 1416, 551],\n",
       " [datetime.datetime(2010, 2, 1, 0, 0), 1408, 576],\n",
       " [datetime.datetime(2010, 3, 1, 0, 0), 1396, 646],\n",
       " [datetime.datetime(2010, 4, 1, 0, 0), 1411, 569],\n",
       " [datetime.datetime(2010, 5, 1, 0, 0), 1409, 569],\n",
       " [datetime.datetime(2010, 6, 1, 0, 0), 1409, 572],\n",
       " [datetime.datetime(2010, 7, 1, 0, 0), 1407, 587],\n",
       " [datetime.datetime(2010, 8, 1, 0, 0), 1417, 554],\n",
       " [datetime.datetime(2010, 9, 1, 0, 0), 1411, 568],\n",
       " [datetime.datetime(2010, 10, 1, 0, 0), 1420, 552],\n",
       " [datetime.datetime(2010, 11, 1, 0, 0), 1418, 560],\n",
       " [datetime.datetime(2010, 12, 1, 0, 0), 1418, 558],\n",
       " [datetime.datetime(2011, 1, 1, 0, 0), 1418, 558],\n",
       " [datetime.datetime(2011, 2, 1, 0, 0), 1418, 557],\n",
       " [datetime.datetime(2011, 3, 1, 0, 0), 1422, 540],\n",
       " [datetime.datetime(2011, 4, 1, 0, 0), 1411, 573],\n",
       " [datetime.datetime(2011, 5, 1, 0, 0), 1421, 549],\n",
       " [datetime.datetime(2011, 6, 1, 0, 0), 1443, 472],\n",
       " [datetime.datetime(2011, 7, 1, 0, 0), 1425, 539],\n",
       " [datetime.datetime(2011, 8, 1, 0, 0), 1401, 618],\n",
       " [datetime.datetime(2011, 9, 1, 0, 0), 1392, 682],\n",
       " [datetime.datetime(2011, 10, 1, 0, 0), 1392, 678],\n",
       " [datetime.datetime(2011, 11, 1, 0, 0), 1399, 656],\n",
       " [datetime.datetime(2011, 12, 1, 0, 0), 1394, 680],\n",
       " [datetime.datetime(2012, 1, 1, 0, 0), 1394, 682],\n",
       " [datetime.datetime(2012, 2, 1, 0, 0), 1394, 672],\n",
       " [datetime.datetime(2012, 3, 1, 0, 0), 1401, 631],\n",
       " [datetime.datetime(2012, 4, 1, 0, 0), 1386, 715],\n",
       " [datetime.datetime(2012, 5, 1, 0, 0), 1401, 635],\n",
       " [datetime.datetime(2012, 6, 1, 0, 0), 1398, 657],\n",
       " [datetime.datetime(2012, 7, 1, 0, 0), 1400, 653],\n",
       " [datetime.datetime(2012, 8, 1, 0, 0), 1391, 688],\n",
       " [datetime.datetime(2012, 9, 1, 0, 0), 1395, 667],\n",
       " [datetime.datetime(2012, 10, 1, 0, 0), 1388, 705],\n",
       " [datetime.datetime(2012, 11, 1, 0, 0), 1403, 617],\n",
       " [datetime.datetime(2012, 12, 1, 0, 0), 1404, 613],\n",
       " [datetime.datetime(2013, 1, 1, 0, 0), 1404, 616],\n",
       " [datetime.datetime(2013, 2, 1, 0, 0), 1404, 609],\n",
       " [datetime.datetime(2013, 3, 1, 0, 0), 1390, 685],\n",
       " [datetime.datetime(2013, 4, 1, 0, 0), 1388, 702],\n",
       " [datetime.datetime(2013, 5, 1, 0, 0), 1409, 591],\n",
       " [datetime.datetime(2013, 6, 1, 0, 0), 1409, 590],\n",
       " [datetime.datetime(2013, 7, 1, 0, 0), 1418, 555],\n",
       " [datetime.datetime(2013, 8, 1, 0, 0), 1420, 547],\n",
       " [datetime.datetime(2013, 9, 1, 0, 0), 1426, 525],\n",
       " [datetime.datetime(2013, 10, 1, 0, 0), 1429, 517],\n",
       " [datetime.datetime(2013, 11, 1, 0, 0), 1447, 460],\n",
       " [datetime.datetime(2013, 12, 1, 0, 0), 1451, 425],\n",
       " [datetime.datetime(2014, 1, 1, 0, 0), 1451, 425],\n",
       " [datetime.datetime(2014, 2, 1, 0, 0), 1455, 412],\n",
       " [datetime.datetime(2014, 3, 1, 0, 0), 1444, 473],\n",
       " [datetime.datetime(2014, 4, 1, 0, 0), 1470, 354],\n",
       " [datetime.datetime(2014, 5, 1, 0, 0), 1472, 355],\n",
       " [datetime.datetime(2014, 6, 1, 0, 0), 1472, 354],\n",
       " [datetime.datetime(2014, 7, 1, 0, 0), 1494, 293],\n",
       " [datetime.datetime(2014, 8, 1, 0, 0), 1487, 314],\n",
       " [datetime.datetime(2014, 9, 1, 0, 0), 1491, 302],\n",
       " [datetime.datetime(2014, 10, 1, 0, 0), 1477, 333],\n",
       " [datetime.datetime(2014, 11, 1, 0, 0), 1464, 384],\n",
       " [datetime.datetime(2014, 12, 1, 0, 0), 1469, 365],\n",
       " [datetime.datetime(2015, 1, 1, 0, 0), 1469, 364],\n",
       " [datetime.datetime(2015, 2, 1, 0, 0), 1469, 360],\n",
       " [datetime.datetime(2015, 3, 1, 0, 0), 1469, 358],\n",
       " [datetime.datetime(2015, 4, 1, 0, 0), 1470, 358],\n",
       " [datetime.datetime(2015, 5, 1, 0, 0), 1461, 389],\n",
       " [datetime.datetime(2015, 6, 1, 0, 0), 1472, 351],\n",
       " [datetime.datetime(2015, 7, 1, 0, 0), 1481, 331],\n",
       " [datetime.datetime(2015, 8, 1, 0, 0), 1454, 419],\n",
       " [datetime.datetime(2015, 9, 1, 0, 0), 1472, 359],\n",
       " [datetime.datetime(2015, 10, 1, 0, 0), 1469, 360],\n",
       " [datetime.datetime(2015, 11, 1, 0, 0), 1474, 354],\n",
       " [datetime.datetime(2015, 12, 1, 0, 0), 1474, 351],\n",
       " [datetime.datetime(2016, 1, 1, 0, 0), 1474, 351],\n",
       " [datetime.datetime(2016, 2, 1, 0, 0), 1481, 335],\n",
       " [datetime.datetime(2016, 3, 1, 0, 0), 1489, 316],\n",
       " [datetime.datetime(2016, 4, 1, 0, 0), 1499, 283],\n",
       " [datetime.datetime(2016, 5, 1, 0, 0), 1509, 248],\n",
       " [datetime.datetime(2016, 6, 1, 0, 0), 1516, 232],\n",
       " [datetime.datetime(2016, 7, 1, 0, 0), 1539, 180],\n",
       " [datetime.datetime(2016, 8, 1, 0, 0), 1529, 205],\n",
       " [datetime.datetime(2016, 9, 1, 0, 0), 1527, 201],\n",
       " [datetime.datetime(2016, 10, 1, 0, 0), 1530, 196],\n",
       " [datetime.datetime(2016, 11, 1, 0, 0), 1523, 213],\n",
       " [datetime.datetime(2016, 12, 1, 0, 0), 1523, 217],\n",
       " [datetime.datetime(2017, 1, 1, 0, 0), 1523, 216],\n",
       " [datetime.datetime(2017, 2, 1, 0, 0), 1527, 210],\n",
       " [datetime.datetime(2017, 3, 1, 0, 0), 1519, 233],\n",
       " [datetime.datetime(2017, 4, 1, 0, 0), 1517, 234],\n",
       " [datetime.datetime(2017, 5, 1, 0, 0), 1560, 157],\n",
       " [datetime.datetime(2017, 6, 1, 0, 0), 1566, 150],\n",
       " [datetime.datetime(2017, 7, 1, 0, 0), 1561, 153],\n",
       " [datetime.datetime(2017, 8, 1, 0, 0), 1576, 133],\n",
       " [datetime.datetime(2017, 9, 1, 0, 0), 1574, 133],\n",
       " [datetime.datetime(2017, 10, 1, 0, 0), 1584, 115],\n",
       " [datetime.datetime(2017, 11, 1, 0, 0), 1592, 103],\n",
       " [datetime.datetime(2017, 12, 1, 0, 0), 1594, 107],\n",
       " [datetime.datetime(2018, 1, 1, 0, 0), 1594, 114],\n",
       " [datetime.datetime(2018, 2, 1, 0, 0), 1582, 128],\n",
       " [datetime.datetime(2018, 3, 1, 0, 0), 1570, 148],\n",
       " [datetime.datetime(2018, 4, 1, 0, 0), 1569, 153],\n",
       " [datetime.datetime(2018, 5, 1, 0, 0), 1554, 174],\n",
       " [datetime.datetime(2018, 6, 1, 0, 0), 1554, 176],\n",
       " [datetime.datetime(2018, 7, 1, 0, 0), 1558, 168],\n",
       " [datetime.datetime(2018, 8, 1, 0, 0), 1562, 165],\n",
       " [datetime.datetime(2018, 9, 1, 0, 0), 1567, 161],\n",
       " [datetime.datetime(2018, 10, 1, 0, 0), 1571, 155],\n",
       " [datetime.datetime(2018, 11, 1, 0, 0), 1576, 140],\n",
       " [datetime.datetime(2018, 12, 1, 0, 0), 1578, 142],\n",
       " [datetime.datetime(2019, 1, 1, 0, 0), 1578, 146],\n",
       " [datetime.datetime(2019, 2, 1, 0, 0), 1575, 145],\n",
       " [datetime.datetime(2019, 3, 1, 0, 0), 1567, 158],\n",
       " [datetime.datetime(2019, 4, 1, 0, 0), 1564, 160],\n",
       " [datetime.datetime(2019, 5, 1, 0, 0), 1583, 133],\n",
       " [datetime.datetime(2019, 6, 1, 0, 0), 1582, 134],\n",
       " [datetime.datetime(2019, 7, 1, 0, 0), 1583, 133],\n",
       " [datetime.datetime(2019, 8, 1, 0, 0), 1562, 164],\n",
       " [datetime.datetime(2019, 9, 1, 0, 0), 1551, 182],\n",
       " [datetime.datetime(2019, 10, 1, 0, 0), 1557, 173],\n",
       " [datetime.datetime(2019, 11, 1, 0, 0), 1565, 158],\n",
       " [datetime.datetime(2019, 12, 1, 0, 0), 1569, 146],\n",
       " [datetime.datetime(2020, 1, 1, 0, 0), 1569, 146],\n",
       " [datetime.datetime(2020, 2, 1, 0, 0), 1565, 159],\n",
       " [datetime.datetime(2020, 3, 1, 0, 0), 1565, 157],\n",
       " [datetime.datetime(2020, 4, 1, 0, 0), 1565, 157],\n",
       " [datetime.datetime(2020, 5, 1, 0, 0), 1565, 154],\n",
       " [datetime.datetime(2020, 6, 1, 0, 0), 1565, 160],\n",
       " [datetime.datetime(2020, 7, 1, 0, 0), 1591, 120],\n",
       " [datetime.datetime(2020, 8, 1, 0, 0), 1608, 108],\n",
       " [datetime.datetime(2020, 9, 1, 0, 0), 1624, 96],\n",
       " [datetime.datetime(2020, 10, 1, 0, 0), 1643, 81],\n",
       " [datetime.datetime(2020, 11, 1, 0, 0), 1628, 84],\n",
       " [datetime.datetime(2020, 12, 1, 0, 0), 1630, 91],\n",
       " [datetime.datetime(2021, 1, 1, 0, 0), 1630, 89],\n",
       " [datetime.datetime(2021, 2, 1, 0, 0), 1633, 84],\n",
       " [datetime.datetime(2021, 3, 1, 0, 0), 1646, 76],\n",
       " [datetime.datetime(2021, 4, 1, 0, 0), 1658, 67],\n",
       " [datetime.datetime(2021, 5, 1, 0, 0), 1661, 67]]"
      ]
     },
     "execution_count": 81,
     "metadata": {},
     "output_type": "execute_result"
    }
   ],
   "source": [
    "data"
   ]
  },
  {
   "cell_type": "code",
   "execution_count": 26,
   "metadata": {},
   "outputs": [],
   "source": [
    " df = pd.read_csv(f\"./elo_rating_data/kawasaki-frontale.csv\")"
   ]
  },
  {
   "cell_type": "code",
   "execution_count": 28,
   "metadata": {
    "scrolled": true
   },
   "outputs": [
    {
     "data": {
      "text/html": [
       "<div>\n",
       "<style scoped>\n",
       "    .dataframe tbody tr th:only-of-type {\n",
       "        vertical-align: middle;\n",
       "    }\n",
       "\n",
       "    .dataframe tbody tr th {\n",
       "        vertical-align: top;\n",
       "    }\n",
       "\n",
       "    .dataframe thead th {\n",
       "        text-align: right;\n",
       "    }\n",
       "</style>\n",
       "<table border=\"1\" class=\"dataframe\">\n",
       "  <thead>\n",
       "    <tr style=\"text-align: right;\">\n",
       "      <th></th>\n",
       "      <th>Month</th>\n",
       "      <th>Points</th>\n",
       "      <th>Rank</th>\n",
       "    </tr>\n",
       "  </thead>\n",
       "  <tbody>\n",
       "    <tr>\n",
       "      <th>0</th>\n",
       "      <td>January 2010</td>\n",
       "      <td>1416</td>\n",
       "      <td>551</td>\n",
       "    </tr>\n",
       "    <tr>\n",
       "      <th>1</th>\n",
       "      <td>February 2010</td>\n",
       "      <td>1408</td>\n",
       "      <td>576</td>\n",
       "    </tr>\n",
       "    <tr>\n",
       "      <th>2</th>\n",
       "      <td>March 2010</td>\n",
       "      <td>1396</td>\n",
       "      <td>646</td>\n",
       "    </tr>\n",
       "    <tr>\n",
       "      <th>3</th>\n",
       "      <td>April 2010</td>\n",
       "      <td>1411</td>\n",
       "      <td>569</td>\n",
       "    </tr>\n",
       "    <tr>\n",
       "      <th>4</th>\n",
       "      <td>May 2010</td>\n",
       "      <td>1409</td>\n",
       "      <td>569</td>\n",
       "    </tr>\n",
       "    <tr>\n",
       "      <th>...</th>\n",
       "      <td>...</td>\n",
       "      <td>...</td>\n",
       "      <td>...</td>\n",
       "    </tr>\n",
       "    <tr>\n",
       "      <th>133</th>\n",
       "      <td>February 2021</td>\n",
       "      <td>1633</td>\n",
       "      <td>84</td>\n",
       "    </tr>\n",
       "    <tr>\n",
       "      <th>134</th>\n",
       "      <td>March 2021</td>\n",
       "      <td>1646</td>\n",
       "      <td>76</td>\n",
       "    </tr>\n",
       "    <tr>\n",
       "      <th>135</th>\n",
       "      <td>April 2021</td>\n",
       "      <td>1658</td>\n",
       "      <td>67</td>\n",
       "    </tr>\n",
       "    <tr>\n",
       "      <th>136</th>\n",
       "      <td>May 2021</td>\n",
       "      <td>1661</td>\n",
       "      <td>67</td>\n",
       "    </tr>\n",
       "    <tr>\n",
       "      <th>137</th>\n",
       "      <td>Today</td>\n",
       "      <td>1664</td>\n",
       "      <td>65</td>\n",
       "    </tr>\n",
       "  </tbody>\n",
       "</table>\n",
       "<p>138 rows × 3 columns</p>\n",
       "</div>"
      ],
      "text/plain": [
       "             Month  Points  Rank\n",
       "0     January 2010    1416   551\n",
       "1    February 2010    1408   576\n",
       "2       March 2010    1396   646\n",
       "3       April 2010    1411   569\n",
       "4         May 2010    1409   569\n",
       "..             ...     ...   ...\n",
       "133  February 2021    1633    84\n",
       "134     March 2021    1646    76\n",
       "135     April 2021    1658    67\n",
       "136       May 2021    1661    67\n",
       "137          Today    1664    65\n",
       "\n",
       "[138 rows x 3 columns]"
      ]
     },
     "execution_count": 28,
     "metadata": {},
     "output_type": "execute_result"
    }
   ],
   "source": [
    "df"
   ]
  },
  {
   "cell_type": "code",
   "execution_count": 29,
   "metadata": {},
   "outputs": [
    {
     "data": {
      "text/html": [
       "<div>\n",
       "<style scoped>\n",
       "    .dataframe tbody tr th:only-of-type {\n",
       "        vertical-align: middle;\n",
       "    }\n",
       "\n",
       "    .dataframe tbody tr th {\n",
       "        vertical-align: top;\n",
       "    }\n",
       "\n",
       "    .dataframe thead th {\n",
       "        text-align: right;\n",
       "    }\n",
       "</style>\n",
       "<table border=\"1\" class=\"dataframe\">\n",
       "  <thead>\n",
       "    <tr style=\"text-align: right;\">\n",
       "      <th></th>\n",
       "      <th>Month</th>\n",
       "      <th>Points</th>\n",
       "      <th>Rank</th>\n",
       "    </tr>\n",
       "  </thead>\n",
       "  <tbody>\n",
       "    <tr>\n",
       "      <th>0</th>\n",
       "      <td>January 2010</td>\n",
       "      <td>1416</td>\n",
       "      <td>551</td>\n",
       "    </tr>\n",
       "    <tr>\n",
       "      <th>1</th>\n",
       "      <td>February 2010</td>\n",
       "      <td>1408</td>\n",
       "      <td>576</td>\n",
       "    </tr>\n",
       "    <tr>\n",
       "      <th>2</th>\n",
       "      <td>March 2010</td>\n",
       "      <td>1396</td>\n",
       "      <td>646</td>\n",
       "    </tr>\n",
       "    <tr>\n",
       "      <th>3</th>\n",
       "      <td>April 2010</td>\n",
       "      <td>1411</td>\n",
       "      <td>569</td>\n",
       "    </tr>\n",
       "    <tr>\n",
       "      <th>4</th>\n",
       "      <td>May 2010</td>\n",
       "      <td>1409</td>\n",
       "      <td>569</td>\n",
       "    </tr>\n",
       "    <tr>\n",
       "      <th>...</th>\n",
       "      <td>...</td>\n",
       "      <td>...</td>\n",
       "      <td>...</td>\n",
       "    </tr>\n",
       "    <tr>\n",
       "      <th>132</th>\n",
       "      <td>January 2021</td>\n",
       "      <td>1630</td>\n",
       "      <td>89</td>\n",
       "    </tr>\n",
       "    <tr>\n",
       "      <th>133</th>\n",
       "      <td>February 2021</td>\n",
       "      <td>1633</td>\n",
       "      <td>84</td>\n",
       "    </tr>\n",
       "    <tr>\n",
       "      <th>134</th>\n",
       "      <td>March 2021</td>\n",
       "      <td>1646</td>\n",
       "      <td>76</td>\n",
       "    </tr>\n",
       "    <tr>\n",
       "      <th>135</th>\n",
       "      <td>April 2021</td>\n",
       "      <td>1658</td>\n",
       "      <td>67</td>\n",
       "    </tr>\n",
       "    <tr>\n",
       "      <th>136</th>\n",
       "      <td>May 2021</td>\n",
       "      <td>1661</td>\n",
       "      <td>67</td>\n",
       "    </tr>\n",
       "  </tbody>\n",
       "</table>\n",
       "<p>137 rows × 3 columns</p>\n",
       "</div>"
      ],
      "text/plain": [
       "             Month  Points  Rank\n",
       "0     January 2010    1416   551\n",
       "1    February 2010    1408   576\n",
       "2       March 2010    1396   646\n",
       "3       April 2010    1411   569\n",
       "4         May 2010    1409   569\n",
       "..             ...     ...   ...\n",
       "132   January 2021    1630    89\n",
       "133  February 2021    1633    84\n",
       "134     March 2021    1646    76\n",
       "135     April 2021    1658    67\n",
       "136       May 2021    1661    67\n",
       "\n",
       "[137 rows x 3 columns]"
      ]
     },
     "execution_count": 29,
     "metadata": {},
     "output_type": "execute_result"
    }
   ],
   "source": [
    "df = df.drop(df.index[-1])\n",
    "df"
   ]
  },
  {
   "cell_type": "code",
   "execution_count": null,
   "metadata": {},
   "outputs": [],
   "source": []
  },
  {
   "cell_type": "code",
   "execution_count": 30,
   "metadata": {},
   "outputs": [],
   "source": [
    "for index,row in  df.iterrows():\n",
    "    df.at[index,\"Month\"] = datetime.datetime.strptime(row[\"Month\"],'%B %Y')\n",
    "    "
   ]
  },
  {
   "cell_type": "code",
   "execution_count": 31,
   "metadata": {},
   "outputs": [
    {
     "data": {
      "text/html": [
       "<div>\n",
       "<style scoped>\n",
       "    .dataframe tbody tr th:only-of-type {\n",
       "        vertical-align: middle;\n",
       "    }\n",
       "\n",
       "    .dataframe tbody tr th {\n",
       "        vertical-align: top;\n",
       "    }\n",
       "\n",
       "    .dataframe thead th {\n",
       "        text-align: right;\n",
       "    }\n",
       "</style>\n",
       "<table border=\"1\" class=\"dataframe\">\n",
       "  <thead>\n",
       "    <tr style=\"text-align: right;\">\n",
       "      <th></th>\n",
       "      <th>Month</th>\n",
       "      <th>Points</th>\n",
       "      <th>Rank</th>\n",
       "    </tr>\n",
       "  </thead>\n",
       "  <tbody>\n",
       "    <tr>\n",
       "      <th>0</th>\n",
       "      <td>2010-01-01 00:00:00</td>\n",
       "      <td>1416</td>\n",
       "      <td>551</td>\n",
       "    </tr>\n",
       "    <tr>\n",
       "      <th>1</th>\n",
       "      <td>2010-02-01 00:00:00</td>\n",
       "      <td>1408</td>\n",
       "      <td>576</td>\n",
       "    </tr>\n",
       "    <tr>\n",
       "      <th>2</th>\n",
       "      <td>2010-03-01 00:00:00</td>\n",
       "      <td>1396</td>\n",
       "      <td>646</td>\n",
       "    </tr>\n",
       "    <tr>\n",
       "      <th>3</th>\n",
       "      <td>2010-04-01 00:00:00</td>\n",
       "      <td>1411</td>\n",
       "      <td>569</td>\n",
       "    </tr>\n",
       "    <tr>\n",
       "      <th>4</th>\n",
       "      <td>2010-05-01 00:00:00</td>\n",
       "      <td>1409</td>\n",
       "      <td>569</td>\n",
       "    </tr>\n",
       "    <tr>\n",
       "      <th>...</th>\n",
       "      <td>...</td>\n",
       "      <td>...</td>\n",
       "      <td>...</td>\n",
       "    </tr>\n",
       "    <tr>\n",
       "      <th>132</th>\n",
       "      <td>2021-01-01 00:00:00</td>\n",
       "      <td>1630</td>\n",
       "      <td>89</td>\n",
       "    </tr>\n",
       "    <tr>\n",
       "      <th>133</th>\n",
       "      <td>2021-02-01 00:00:00</td>\n",
       "      <td>1633</td>\n",
       "      <td>84</td>\n",
       "    </tr>\n",
       "    <tr>\n",
       "      <th>134</th>\n",
       "      <td>2021-03-01 00:00:00</td>\n",
       "      <td>1646</td>\n",
       "      <td>76</td>\n",
       "    </tr>\n",
       "    <tr>\n",
       "      <th>135</th>\n",
       "      <td>2021-04-01 00:00:00</td>\n",
       "      <td>1658</td>\n",
       "      <td>67</td>\n",
       "    </tr>\n",
       "    <tr>\n",
       "      <th>136</th>\n",
       "      <td>2021-05-01 00:00:00</td>\n",
       "      <td>1661</td>\n",
       "      <td>67</td>\n",
       "    </tr>\n",
       "  </tbody>\n",
       "</table>\n",
       "<p>137 rows × 3 columns</p>\n",
       "</div>"
      ],
      "text/plain": [
       "                   Month  Points  Rank\n",
       "0    2010-01-01 00:00:00    1416   551\n",
       "1    2010-02-01 00:00:00    1408   576\n",
       "2    2010-03-01 00:00:00    1396   646\n",
       "3    2010-04-01 00:00:00    1411   569\n",
       "4    2010-05-01 00:00:00    1409   569\n",
       "..                   ...     ...   ...\n",
       "132  2021-01-01 00:00:00    1630    89\n",
       "133  2021-02-01 00:00:00    1633    84\n",
       "134  2021-03-01 00:00:00    1646    76\n",
       "135  2021-04-01 00:00:00    1658    67\n",
       "136  2021-05-01 00:00:00    1661    67\n",
       "\n",
       "[137 rows x 3 columns]"
      ]
     },
     "execution_count": 31,
     "metadata": {},
     "output_type": "execute_result"
    }
   ],
   "source": [
    "df"
   ]
  },
  {
   "cell_type": "code",
   "execution_count": null,
   "metadata": {},
   "outputs": [],
   "source": []
  }
 ],
 "metadata": {
  "kernelspec": {
   "display_name": "Python 3",
   "language": "python",
   "name": "python3"
  },
  "language_info": {
   "codemirror_mode": {
    "name": "ipython",
    "version": 3
   },
   "file_extension": ".py",
   "mimetype": "text/x-python",
   "name": "python",
   "nbconvert_exporter": "python",
   "pygments_lexer": "ipython3",
   "version": "3.8.5"
  }
 },
 "nbformat": 4,
 "nbformat_minor": 4
}
