{
 "cells": [
  {
   "cell_type": "code",
   "execution_count": 2,
   "metadata": {},
   "outputs": [],
   "source": [
    "import csv\n",
    "import time\n",
    "import requests\n",
    "import datetime\n",
    "import pandas as pd\n",
    "import matplotlib.pyplot as plt\n",
    "from bs4 import BeautifulSoup"
   ]
  },
  {
   "cell_type": "code",
   "execution_count": 3,
   "metadata": {},
   "outputs": [],
   "source": [
    "df = pd.read_csv(\"./match_data/sapp/sapp_2020.csv\")"
   ]
  },
  {
   "cell_type": "code",
   "execution_count": 4,
   "metadata": {},
   "outputs": [],
   "source": [
    "for s in ('send','kasm','uraw','kasw','fctk',\"ka-f\",\"y-fm\",'y-fc','shon','shim','nago','g-os','c-os','kobe','hiro','toku','fuku','tosu','oita'):\n",
    "    df_s = pd.read_csv(f\"./match_data/{s}/{s}_2020.csv\")\n",
    "    df = pd.concat([df, df_s])\n"
   ]
  },
  {
   "cell_type": "code",
   "execution_count": 5,
   "metadata": {},
   "outputs": [],
   "source": [
    "df= df.reset_index(drop=True)"
   ]
  },
  {
   "cell_type": "code",
   "execution_count": 6,
   "metadata": {},
   "outputs": [
    {
     "data": {
      "text/html": [
       "<div>\n",
       "<style scoped>\n",
       "    .dataframe tbody tr th:only-of-type {\n",
       "        vertical-align: middle;\n",
       "    }\n",
       "\n",
       "    .dataframe tbody tr th {\n",
       "        vertical-align: top;\n",
       "    }\n",
       "\n",
       "    .dataframe thead th {\n",
       "        text-align: right;\n",
       "    }\n",
       "</style>\n",
       "<table border=\"1\" class=\"dataframe\">\n",
       "  <thead>\n",
       "    <tr style=\"text-align: right;\">\n",
       "      <th></th>\n",
       "      <th>節</th>\n",
       "      <th>開催日</th>\n",
       "      <th>曜日</th>\n",
       "      <th>相手</th>\n",
       "      <th>スコア</th>\n",
       "      <th>得点</th>\n",
       "      <th>失点</th>\n",
       "      <th>勝敗</th>\n",
       "      <th>H/A</th>\n",
       "      <th>会場</th>\n",
       "      <th>...</th>\n",
       "      <th>チャンス構築率</th>\n",
       "      <th>シュート</th>\n",
       "      <th>シュート成功率</th>\n",
       "      <th>支配率</th>\n",
       "      <th>攻撃CBP</th>\n",
       "      <th>パスCBP</th>\n",
       "      <th>奪取P</th>\n",
       "      <th>守備P</th>\n",
       "      <th>得点者</th>\n",
       "      <th>指揮官</th>\n",
       "    </tr>\n",
       "  </thead>\n",
       "  <tbody>\n",
       "    <tr>\n",
       "      <th>0</th>\n",
       "      <td>1</td>\n",
       "      <td>2020-02-22</td>\n",
       "      <td>(土)</td>\n",
       "      <td>柏</td>\n",
       "      <td>2-4</td>\n",
       "      <td>2</td>\n",
       "      <td>4</td>\n",
       "      <td>2</td>\n",
       "      <td>1</td>\n",
       "      <td>三協Ｆ柏</td>\n",
       "      <td>...</td>\n",
       "      <td>0.173</td>\n",
       "      <td>27</td>\n",
       "      <td>0.074</td>\n",
       "      <td>0.506</td>\n",
       "      <td>24.59</td>\n",
       "      <td>15.50</td>\n",
       "      <td>106.59</td>\n",
       "      <td>13.83</td>\n",
       "      <td>['荒野', '鈴木']</td>\n",
       "      <td>ペトロヴィッチ</td>\n",
       "    </tr>\n",
       "    <tr>\n",
       "      <th>1</th>\n",
       "      <td>2</td>\n",
       "      <td>2020-07-04</td>\n",
       "      <td>(土)</td>\n",
       "      <td>横浜FC</td>\n",
       "      <td>2-1</td>\n",
       "      <td>2</td>\n",
       "      <td>1</td>\n",
       "      <td>1</td>\n",
       "      <td>1</td>\n",
       "      <td>ニッパツ</td>\n",
       "      <td>...</td>\n",
       "      <td>0.111</td>\n",
       "      <td>12</td>\n",
       "      <td>0.167</td>\n",
       "      <td>0.427</td>\n",
       "      <td>15.91</td>\n",
       "      <td>12.13</td>\n",
       "      <td>71.45</td>\n",
       "      <td>15.38</td>\n",
       "      <td>['鈴木x2']</td>\n",
       "      <td>ペトロヴィッチ</td>\n",
       "    </tr>\n",
       "    <tr>\n",
       "      <th>2</th>\n",
       "      <td>3</td>\n",
       "      <td>2020-07-08</td>\n",
       "      <td>(水)</td>\n",
       "      <td>鹿島</td>\n",
       "      <td>2-0</td>\n",
       "      <td>2</td>\n",
       "      <td>0</td>\n",
       "      <td>1</td>\n",
       "      <td>1</td>\n",
       "      <td>カシマ</td>\n",
       "      <td>...</td>\n",
       "      <td>0.065</td>\n",
       "      <td>7</td>\n",
       "      <td>0.286</td>\n",
       "      <td>0.462</td>\n",
       "      <td>13.19</td>\n",
       "      <td>11.99</td>\n",
       "      <td>76.32</td>\n",
       "      <td>17.79</td>\n",
       "      <td>['鈴木', 'Ｌフェルナンデス']</td>\n",
       "      <td>ペトロヴィッチ</td>\n",
       "    </tr>\n",
       "    <tr>\n",
       "      <th>3</th>\n",
       "      <td>4</td>\n",
       "      <td>2020-07-12</td>\n",
       "      <td>(日)</td>\n",
       "      <td>湘南</td>\n",
       "      <td>0-0</td>\n",
       "      <td>0</td>\n",
       "      <td>0</td>\n",
       "      <td>0</td>\n",
       "      <td>1</td>\n",
       "      <td>ＢＭＷス</td>\n",
       "      <td>...</td>\n",
       "      <td>0.067</td>\n",
       "      <td>7</td>\n",
       "      <td>0.000</td>\n",
       "      <td>0.474</td>\n",
       "      <td>16.32</td>\n",
       "      <td>13.93</td>\n",
       "      <td>70.91</td>\n",
       "      <td>14.59</td>\n",
       "      <td>['']</td>\n",
       "      <td>ペトロヴィッチ</td>\n",
       "    </tr>\n",
       "    <tr>\n",
       "      <th>4</th>\n",
       "      <td>5</td>\n",
       "      <td>2020-07-18</td>\n",
       "      <td>(土)</td>\n",
       "      <td>仙台</td>\n",
       "      <td>2-2</td>\n",
       "      <td>2</td>\n",
       "      <td>2</td>\n",
       "      <td>0</td>\n",
       "      <td>1</td>\n",
       "      <td>ユアスタ</td>\n",
       "      <td>...</td>\n",
       "      <td>0.136</td>\n",
       "      <td>15</td>\n",
       "      <td>0.133</td>\n",
       "      <td>0.504</td>\n",
       "      <td>15.33</td>\n",
       "      <td>12.20</td>\n",
       "      <td>61.17</td>\n",
       "      <td>14.91</td>\n",
       "      <td>['チャナティップ', '田中']</td>\n",
       "      <td>ペトロヴィッチ</td>\n",
       "    </tr>\n",
       "    <tr>\n",
       "      <th>...</th>\n",
       "      <td>...</td>\n",
       "      <td>...</td>\n",
       "      <td>...</td>\n",
       "      <td>...</td>\n",
       "      <td>...</td>\n",
       "      <td>...</td>\n",
       "      <td>...</td>\n",
       "      <td>...</td>\n",
       "      <td>...</td>\n",
       "      <td>...</td>\n",
       "      <td>...</td>\n",
       "      <td>...</td>\n",
       "      <td>...</td>\n",
       "      <td>...</td>\n",
       "      <td>...</td>\n",
       "      <td>...</td>\n",
       "      <td>...</td>\n",
       "      <td>...</td>\n",
       "      <td>...</td>\n",
       "      <td>...</td>\n",
       "      <td>...</td>\n",
       "    </tr>\n",
       "    <tr>\n",
       "      <th>691</th>\n",
       "      <td>31</td>\n",
       "      <td>2020-12-06</td>\n",
       "      <td>(日)</td>\n",
       "      <td>仙台</td>\n",
       "      <td>0-2</td>\n",
       "      <td>0</td>\n",
       "      <td>2</td>\n",
       "      <td>2</td>\n",
       "      <td>0</td>\n",
       "      <td>昭和電ド</td>\n",
       "      <td>...</td>\n",
       "      <td>0.061</td>\n",
       "      <td>7</td>\n",
       "      <td>0.000</td>\n",
       "      <td>0.707</td>\n",
       "      <td>16.49</td>\n",
       "      <td>15.32</td>\n",
       "      <td>102.31</td>\n",
       "      <td>7.85</td>\n",
       "      <td>['']</td>\n",
       "      <td>片野坂　知宏</td>\n",
       "    </tr>\n",
       "    <tr>\n",
       "      <th>692</th>\n",
       "      <td>27</td>\n",
       "      <td>2020-12-09</td>\n",
       "      <td>(水)</td>\n",
       "      <td>柏</td>\n",
       "      <td>1-1</td>\n",
       "      <td>1</td>\n",
       "      <td>1</td>\n",
       "      <td>0</td>\n",
       "      <td>1</td>\n",
       "      <td>三協Ｆ柏</td>\n",
       "      <td>...</td>\n",
       "      <td>0.059</td>\n",
       "      <td>7</td>\n",
       "      <td>0.143</td>\n",
       "      <td>0.590</td>\n",
       "      <td>13.74</td>\n",
       "      <td>11.84</td>\n",
       "      <td>81.28</td>\n",
       "      <td>16.68</td>\n",
       "      <td>['岩田']</td>\n",
       "      <td>片野坂　知宏</td>\n",
       "    </tr>\n",
       "    <tr>\n",
       "      <th>693</th>\n",
       "      <td>32</td>\n",
       "      <td>2020-12-12</td>\n",
       "      <td>(土)</td>\n",
       "      <td>札幌</td>\n",
       "      <td>1-1</td>\n",
       "      <td>1</td>\n",
       "      <td>1</td>\n",
       "      <td>0</td>\n",
       "      <td>0</td>\n",
       "      <td>昭和電ド</td>\n",
       "      <td>...</td>\n",
       "      <td>0.076</td>\n",
       "      <td>9</td>\n",
       "      <td>0.111</td>\n",
       "      <td>0.441</td>\n",
       "      <td>10.22</td>\n",
       "      <td>8.44</td>\n",
       "      <td>90.55</td>\n",
       "      <td>18.38</td>\n",
       "      <td>['野村']</td>\n",
       "      <td>片野坂　知宏</td>\n",
       "    </tr>\n",
       "    <tr>\n",
       "      <th>694</th>\n",
       "      <td>33</td>\n",
       "      <td>2020-12-16</td>\n",
       "      <td>(水)</td>\n",
       "      <td>湘南</td>\n",
       "      <td>2-1</td>\n",
       "      <td>2</td>\n",
       "      <td>1</td>\n",
       "      <td>1</td>\n",
       "      <td>1</td>\n",
       "      <td>ＢＭＷス</td>\n",
       "      <td>...</td>\n",
       "      <td>0.118</td>\n",
       "      <td>13</td>\n",
       "      <td>0.154</td>\n",
       "      <td>0.521</td>\n",
       "      <td>14.48</td>\n",
       "      <td>12.42</td>\n",
       "      <td>94.76</td>\n",
       "      <td>13.70</td>\n",
       "      <td>['高澤', '伊佐']</td>\n",
       "      <td>片野坂　知宏</td>\n",
       "    </tr>\n",
       "    <tr>\n",
       "      <th>695</th>\n",
       "      <td>34</td>\n",
       "      <td>2020-12-19</td>\n",
       "      <td>(土)</td>\n",
       "      <td>鳥栖</td>\n",
       "      <td>2-2</td>\n",
       "      <td>2</td>\n",
       "      <td>2</td>\n",
       "      <td>0</td>\n",
       "      <td>1</td>\n",
       "      <td>駅スタ</td>\n",
       "      <td>...</td>\n",
       "      <td>0.136</td>\n",
       "      <td>14</td>\n",
       "      <td>0.143</td>\n",
       "      <td>0.405</td>\n",
       "      <td>11.44</td>\n",
       "      <td>9.06</td>\n",
       "      <td>69.93</td>\n",
       "      <td>14.98</td>\n",
       "      <td>['渡', '町田']</td>\n",
       "      <td>片野坂　知宏</td>\n",
       "    </tr>\n",
       "  </tbody>\n",
       "</table>\n",
       "<p>696 rows × 24 columns</p>\n",
       "</div>"
      ],
      "text/plain": [
       "      節         開催日   曜日    相手  スコア  得点  失点  勝敗  H/A    会場  ...  チャンス構築率 シュート  \\\n",
       "0     1  2020-02-22  (土)     柏  2-4   2   4   2    1  三協Ｆ柏  ...    0.173   27   \n",
       "1     2  2020-07-04  (土)  横浜FC  2-1   2   1   1    1  ニッパツ  ...    0.111   12   \n",
       "2     3  2020-07-08  (水)    鹿島  2-0   2   0   1    1   カシマ  ...    0.065    7   \n",
       "3     4  2020-07-12  (日)    湘南  0-0   0   0   0    1  ＢＭＷス  ...    0.067    7   \n",
       "4     5  2020-07-18  (土)    仙台  2-2   2   2   0    1  ユアスタ  ...    0.136   15   \n",
       "..   ..         ...  ...   ...  ...  ..  ..  ..  ...   ...  ...      ...  ...   \n",
       "691  31  2020-12-06  (日)    仙台  0-2   0   2   2    0  昭和電ド  ...    0.061    7   \n",
       "692  27  2020-12-09  (水)     柏  1-1   1   1   0    1  三協Ｆ柏  ...    0.059    7   \n",
       "693  32  2020-12-12  (土)    札幌  1-1   1   1   0    0  昭和電ド  ...    0.076    9   \n",
       "694  33  2020-12-16  (水)    湘南  2-1   2   1   1    1  ＢＭＷス  ...    0.118   13   \n",
       "695  34  2020-12-19  (土)    鳥栖  2-2   2   2   0    1   駅スタ  ...    0.136   14   \n",
       "\n",
       "     シュート成功率    支配率  攻撃CBP  パスCBP     奪取P    守備P                 得点者      指揮官  \n",
       "0      0.074  0.506  24.59  15.50  106.59  13.83        ['荒野', '鈴木']  ペトロヴィッチ  \n",
       "1      0.167  0.427  15.91  12.13   71.45  15.38            ['鈴木x2']  ペトロヴィッチ  \n",
       "2      0.286  0.462  13.19  11.99   76.32  17.79  ['鈴木', 'Ｌフェルナンデス']  ペトロヴィッチ  \n",
       "3      0.000  0.474  16.32  13.93   70.91  14.59                ['']  ペトロヴィッチ  \n",
       "4      0.133  0.504  15.33  12.20   61.17  14.91   ['チャナティップ', '田中']  ペトロヴィッチ  \n",
       "..       ...    ...    ...    ...     ...    ...                 ...      ...  \n",
       "691    0.000  0.707  16.49  15.32  102.31   7.85                ['']   片野坂　知宏  \n",
       "692    0.143  0.590  13.74  11.84   81.28  16.68              ['岩田']   片野坂　知宏  \n",
       "693    0.111  0.441  10.22   8.44   90.55  18.38              ['野村']   片野坂　知宏  \n",
       "694    0.154  0.521  14.48  12.42   94.76  13.70        ['高澤', '伊佐']   片野坂　知宏  \n",
       "695    0.143  0.405  11.44   9.06   69.93  14.98         ['渡', '町田']   片野坂　知宏  \n",
       "\n",
       "[696 rows x 24 columns]"
      ]
     },
     "execution_count": 6,
     "metadata": {},
     "output_type": "execute_result"
    }
   ],
   "source": [
    "df"
   ]
  },
  {
   "cell_type": "code",
   "execution_count": null,
   "metadata": {},
   "outputs": [],
   "source": []
  },
  {
   "cell_type": "code",
   "execution_count": 7,
   "metadata": {},
   "outputs": [],
   "source": [
    "\n",
    "X=[df[\"得点\"].values]"
   ]
  },
  {
   "cell_type": "code",
   "execution_count": 8,
   "metadata": {},
   "outputs": [
    {
     "data": {
      "text/plain": [
       "<matplotlib.collections.PathCollection at 0x7fbf4f52fc70>"
      ]
     },
     "execution_count": 8,
     "metadata": {},
     "output_type": "execute_result"
    },
    {
     "data": {
      "image/png": "[encoded data removed]",
      "text/plain": [
       "<Figure size 432x288 with 1 Axes>"
      ]
     },
     "metadata": {
      "needs_background": "light"
     },
     "output_type": "display_data"
    }
   ],
   "source": [
    "plt.scatter(df[\"得点\"],df[\"失点\"],c=df[\"勝敗\"])"
   ]
  },
  {
   "cell_type": "code",
   "execution_count": 9,
   "metadata": {},
   "outputs": [],
   "source": [
    "df_w=df[df[\"勝敗\"]==1]\n",
    "df_d=df[df[\"勝敗\"]==0]\n",
    "df_l=df[df[\"勝敗\"]==2]"
   ]
  },
  {
   "cell_type": "code",
   "execution_count": 10,
   "metadata": {},
   "outputs": [],
   "source": [
    "kagi_w = df_w[\"KAGI\"].values\n",
    "kagi_d = df_d[\"KAGI\"].values\n",
    "kagi_l = df_l[\"KAGI\"].values"
   ]
  },
  {
   "cell_type": "code",
   "execution_count": 11,
   "metadata": {},
   "outputs": [],
   "source": [
    "agi_w = df_w[\"AGI\"].values\n",
    "agi_d = df_d[\"AGI\"].values\n",
    "agi_l = df_l[\"AGI\"].values"
   ]
  },
  {
   "cell_type": "code",
   "execution_count": 12,
   "metadata": {},
   "outputs": [
    {
     "data": {
      "image/png": "[encoded data removed]",
      "text/plain": [
       "<Figure size 432x288 with 1 Axes>"
      ]
     },
     "metadata": {
      "needs_background": "light"
     },
     "output_type": "display_data"
    }
   ],
   "source": [
    "fig = plt.figure()\n",
    "ax = fig.add_subplot(1,1,1)"
   ]
  },
  {
   "cell_type": "code",
   "execution_count": 13,
   "metadata": {},
   "outputs": [
    {
     "data": {
      "text/plain": [
       "<matplotlib.collections.PathCollection at 0x7fbf4abfd0a0>"
      ]
     },
     "execution_count": 13,
     "metadata": {},
     "output_type": "execute_result"
    }
   ],
   "source": [
    "ax.scatter(kagi_w,agi_w,c=\"red\",label=\"win\")\n",
    "ax.scatter(kagi_d,agi_d,c=\"green\", label=\"drow\")\n",
    "ax.scatter(kagi_l,agi_l,c=\"blue\", label=\"lose\")"
   ]
  },
  {
   "cell_type": "code",
   "execution_count": 14,
   "metadata": {},
   "outputs": [
    {
     "data": {
      "text/plain": [
       "<matplotlib.legend.Legend at 0x7fbf4ac19af0>"
      ]
     },
     "execution_count": 14,
     "metadata": {},
     "output_type": "execute_result"
    }
   ],
   "source": [
    "ax.set_xlabel('kagi')\n",
    "ax.set_ylabel('agi')\n",
    "\n",
    "\n",
    "ax.grid(True)\n",
    "ax.legend(loc='upper left')"
   ]
  },
  {
   "cell_type": "code",
   "execution_count": 15,
   "metadata": {},
   "outputs": [
    {
     "data": {
      "image/png": "[encoded data removed]",
      "text/plain": [
       "<Figure size 432x288 with 1 Axes>"
      ]
     },
     "execution_count": 15,
     "metadata": {},
     "output_type": "execute_result"
    }
   ],
   "source": [
    "fig"
   ]
  },
  {
   "cell_type": "code",
   "execution_count": null,
   "metadata": {},
   "outputs": [],
   "source": []
  }
 ],
 "metadata": {
  "kernelspec": {
   "display_name": "Python 3",
   "language": "python",
   "name": "python3"
  },
  "language_info": {
   "codemirror_mode": {
    "name": "ipython",
    "version": 3
   },
   "file_extension": ".py",
   "mimetype": "text/x-python",
   "name": "python",
   "nbconvert_exporter": "python",
   "pygments_lexer": "ipython3",
   "version": "3.8.5"
  }
 },
 "nbformat": 4,
 "nbformat_minor": 4
}
