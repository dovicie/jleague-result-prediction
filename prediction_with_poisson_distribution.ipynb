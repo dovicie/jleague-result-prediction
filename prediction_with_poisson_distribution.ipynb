{
 "cells": [
  {
   "cell_type": "code",
   "execution_count": 1,
   "metadata": {},
   "outputs": [],
   "source": [
    "from scipy.stats import poisson\n",
    "import math\n",
    "import numpy as np\n",
    "import matplotlib.pyplot as plt\n",
    "import pandas as pd\n",
    "import csv\n",
    "from decimal import Decimal"
   ]
  },
  {
   "cell_type": "code",
   "execution_count": 2,
   "metadata": {
    "scrolled": true
   },
   "outputs": [
    {
     "data": {
      "text/html": [
       "<div>\n",
       "<style scoped>\n",
       "    .dataframe tbody tr th:only-of-type {\n",
       "        vertical-align: middle;\n",
       "    }\n",
       "\n",
       "    .dataframe tbody tr th {\n",
       "        vertical-align: top;\n",
       "    }\n",
       "\n",
       "    .dataframe thead th {\n",
       "        text-align: right;\n",
       "    }\n",
       "</style>\n",
       "<table border=\"1\" class=\"dataframe\">\n",
       "  <thead>\n",
       "    <tr style=\"text-align: right;\">\n",
       "      <th></th>\n",
       "      <th>Year</th>\n",
       "      <th>Sec</th>\n",
       "      <th>Date</th>\n",
       "      <th>Home</th>\n",
       "      <th>Away</th>\n",
       "      <th>HomeID</th>\n",
       "      <th>AwayID</th>\n",
       "      <th>HomeGF</th>\n",
       "      <th>AwayGF</th>\n",
       "      <th>W/L</th>\n",
       "      <th>Stadium</th>\n",
       "      <th>Attendances</th>\n",
       "      <th>HomeRate</th>\n",
       "      <th>AwayRate</th>\n",
       "      <th>HomeRD</th>\n",
       "      <th>AwayRD</th>\n",
       "    </tr>\n",
       "    <tr>\n",
       "      <th>ID</th>\n",
       "      <th></th>\n",
       "      <th></th>\n",
       "      <th></th>\n",
       "      <th></th>\n",
       "      <th></th>\n",
       "      <th></th>\n",
       "      <th></th>\n",
       "      <th></th>\n",
       "      <th></th>\n",
       "      <th></th>\n",
       "      <th></th>\n",
       "      <th></th>\n",
       "      <th></th>\n",
       "      <th></th>\n",
       "      <th></th>\n",
       "      <th></th>\n",
       "    </tr>\n",
       "  </thead>\n",
       "  <tbody>\n",
       "    <tr>\n",
       "      <th>6010903</th>\n",
       "      <td>2006</td>\n",
       "      <td>1</td>\n",
       "      <td>2006-03-04</td>\n",
       "      <td>gamba-osaka</td>\n",
       "      <td>urawa-red-diamonds</td>\n",
       "      <td>9</td>\n",
       "      <td>3</td>\n",
       "      <td>1</td>\n",
       "      <td>1</td>\n",
       "      <td>0</td>\n",
       "      <td>万博</td>\n",
       "      <td>20916</td>\n",
       "      <td>1500</td>\n",
       "      <td>1500</td>\n",
       "      <td>0</td>\n",
       "      <td>0</td>\n",
       "    </tr>\n",
       "    <tr>\n",
       "      <th>6012807</th>\n",
       "      <td>2006</td>\n",
       "      <td>1</td>\n",
       "      <td>2006-03-05</td>\n",
       "      <td>ventforet-kofu</td>\n",
       "      <td>shimizu-s-pulse</td>\n",
       "      <td>28</td>\n",
       "      <td>7</td>\n",
       "      <td>0</td>\n",
       "      <td>2</td>\n",
       "      <td>2</td>\n",
       "      <td>小瀬</td>\n",
       "      <td>14277</td>\n",
       "      <td>1500</td>\n",
       "      <td>1500</td>\n",
       "      <td>0</td>\n",
       "      <td>0</td>\n",
       "    </tr>\n",
       "    <tr>\n",
       "      <th>6012231</th>\n",
       "      <td>2006</td>\n",
       "      <td>1</td>\n",
       "      <td>2006-03-05</td>\n",
       "      <td>fc-tokyo</td>\n",
       "      <td>oita-trinita</td>\n",
       "      <td>22</td>\n",
       "      <td>31</td>\n",
       "      <td>2</td>\n",
       "      <td>0</td>\n",
       "      <td>1</td>\n",
       "      <td>味スタ</td>\n",
       "      <td>22531</td>\n",
       "      <td>1500</td>\n",
       "      <td>1500</td>\n",
       "      <td>0</td>\n",
       "      <td>0</td>\n",
       "    </tr>\n",
       "    <tr>\n",
       "      <th>6011323</th>\n",
       "      <td>2006</td>\n",
       "      <td>1</td>\n",
       "      <td>2006-03-05</td>\n",
       "      <td>jubilo-iwata</td>\n",
       "      <td>avispa-fukuoka</td>\n",
       "      <td>13</td>\n",
       "      <td>23</td>\n",
       "      <td>1</td>\n",
       "      <td>1</td>\n",
       "      <td>0</td>\n",
       "      <td>静岡</td>\n",
       "      <td>28564</td>\n",
       "      <td>1500</td>\n",
       "      <td>1500</td>\n",
       "      <td>0</td>\n",
       "      <td>0</td>\n",
       "    </tr>\n",
       "    <tr>\n",
       "      <th>6010820</th>\n",
       "      <td>2006</td>\n",
       "      <td>1</td>\n",
       "      <td>2006-03-05</td>\n",
       "      <td>nagoya-grampus-eight</td>\n",
       "      <td>cerezo-osaka</td>\n",
       "      <td>8</td>\n",
       "      <td>20</td>\n",
       "      <td>3</td>\n",
       "      <td>2</td>\n",
       "      <td>1</td>\n",
       "      <td>瑞穂陸</td>\n",
       "      <td>17199</td>\n",
       "      <td>1500</td>\n",
       "      <td>1500</td>\n",
       "      <td>0</td>\n",
       "      <td>0</td>\n",
       "    </tr>\n",
       "    <tr>\n",
       "      <th>...</th>\n",
       "      <td>...</td>\n",
       "      <td>...</td>\n",
       "      <td>...</td>\n",
       "      <td>...</td>\n",
       "      <td>...</td>\n",
       "      <td>...</td>\n",
       "      <td>...</td>\n",
       "      <td>...</td>\n",
       "      <td>...</td>\n",
       "      <td>...</td>\n",
       "      <td>...</td>\n",
       "      <td>...</td>\n",
       "      <td>...</td>\n",
       "      <td>...</td>\n",
       "      <td>...</td>\n",
       "      <td>...</td>\n",
       "    </tr>\n",
       "    <tr>\n",
       "      <th>20340120</th>\n",
       "      <td>2020</td>\n",
       "      <td>34</td>\n",
       "      <td>2020-12-19</td>\n",
       "      <td>kashima-antlers</td>\n",
       "      <td>cerezo-osaka</td>\n",
       "      <td>1</td>\n",
       "      <td>20</td>\n",
       "      <td>1</td>\n",
       "      <td>1</td>\n",
       "      <td>0</td>\n",
       "      <td>カシマ</td>\n",
       "      <td>11251</td>\n",
       "      <td>1594</td>\n",
       "      <td>1560</td>\n",
       "      <td>4</td>\n",
       "      <td>-6</td>\n",
       "    </tr>\n",
       "    <tr>\n",
       "      <th>20340810</th>\n",
       "      <td>2020</td>\n",
       "      <td>34</td>\n",
       "      <td>2020-12-19</td>\n",
       "      <td>nagoya-grampus-eight</td>\n",
       "      <td>sanfrecce-hiroshima</td>\n",
       "      <td>8</td>\n",
       "      <td>10</td>\n",
       "      <td>1</td>\n",
       "      <td>0</td>\n",
       "      <td>1</td>\n",
       "      <td>豊田ス</td>\n",
       "      <td>16825</td>\n",
       "      <td>1515</td>\n",
       "      <td>1524</td>\n",
       "      <td>9</td>\n",
       "      <td>-13</td>\n",
       "    </tr>\n",
       "    <tr>\n",
       "      <th>20343331</th>\n",
       "      <td>2020</td>\n",
       "      <td>34</td>\n",
       "      <td>2020-12-19</td>\n",
       "      <td>sagan-tosu</td>\n",
       "      <td>oita-trinita</td>\n",
       "      <td>33</td>\n",
       "      <td>31</td>\n",
       "      <td>2</td>\n",
       "      <td>2</td>\n",
       "      <td>0</td>\n",
       "      <td>駅スタ</td>\n",
       "      <td>8966</td>\n",
       "      <td>1453</td>\n",
       "      <td>1458</td>\n",
       "      <td>17</td>\n",
       "      <td>7</td>\n",
       "    </tr>\n",
       "    <tr>\n",
       "      <th>20342218</th>\n",
       "      <td>2020</td>\n",
       "      <td>34</td>\n",
       "      <td>2020-12-19</td>\n",
       "      <td>fc-tokyo</td>\n",
       "      <td>vissel-kobe</td>\n",
       "      <td>22</td>\n",
       "      <td>18</td>\n",
       "      <td>1</td>\n",
       "      <td>0</td>\n",
       "      <td>1</td>\n",
       "      <td>味スタ</td>\n",
       "      <td>14373</td>\n",
       "      <td>1540</td>\n",
       "      <td>1453</td>\n",
       "      <td>8</td>\n",
       "      <td>0</td>\n",
       "    </tr>\n",
       "    <tr>\n",
       "      <th>20340314</th>\n",
       "      <td>2020</td>\n",
       "      <td>34</td>\n",
       "      <td>2020-12-19</td>\n",
       "      <td>urawa-red-diamonds</td>\n",
       "      <td>consadole-sapporo</td>\n",
       "      <td>3</td>\n",
       "      <td>14</td>\n",
       "      <td>0</td>\n",
       "      <td>2</td>\n",
       "      <td>2</td>\n",
       "      <td>埼玉</td>\n",
       "      <td>19319</td>\n",
       "      <td>1485</td>\n",
       "      <td>1458</td>\n",
       "      <td>-19</td>\n",
       "      <td>3</td>\n",
       "    </tr>\n",
       "  </tbody>\n",
       "</table>\n",
       "<p>4590 rows × 16 columns</p>\n",
       "</div>"
      ],
      "text/plain": [
       "          Year  Sec       Date                  Home                 Away  \\\n",
       "ID                                                                          \n",
       "6010903   2006    1 2006-03-04           gamba-osaka   urawa-red-diamonds   \n",
       "6012807   2006    1 2006-03-05        ventforet-kofu      shimizu-s-pulse   \n",
       "6012231   2006    1 2006-03-05              fc-tokyo         oita-trinita   \n",
       "6011323   2006    1 2006-03-05          jubilo-iwata       avispa-fukuoka   \n",
       "6010820   2006    1 2006-03-05  nagoya-grampus-eight         cerezo-osaka   \n",
       "...        ...  ...        ...                   ...                  ...   \n",
       "20340120  2020   34 2020-12-19       kashima-antlers         cerezo-osaka   \n",
       "20340810  2020   34 2020-12-19  nagoya-grampus-eight  sanfrecce-hiroshima   \n",
       "20343331  2020   34 2020-12-19            sagan-tosu         oita-trinita   \n",
       "20342218  2020   34 2020-12-19              fc-tokyo          vissel-kobe   \n",
       "20340314  2020   34 2020-12-19    urawa-red-diamonds    consadole-sapporo   \n",
       "\n",
       "          HomeID  AwayID  HomeGF  AwayGF  W/L Stadium  Attendances  HomeRate  \\\n",
       "ID                                                                             \n",
       "6010903        9       3       1       1    0      万博        20916      1500   \n",
       "6012807       28       7       0       2    2      小瀬        14277      1500   \n",
       "6012231       22      31       2       0    1     味スタ        22531      1500   \n",
       "6011323       13      23       1       1    0      静岡        28564      1500   \n",
       "6010820        8      20       3       2    1     瑞穂陸        17199      1500   \n",
       "...          ...     ...     ...     ...  ...     ...          ...       ...   \n",
       "20340120       1      20       1       1    0     カシマ        11251      1594   \n",
       "20340810       8      10       1       0    1     豊田ス        16825      1515   \n",
       "20343331      33      31       2       2    0     駅スタ         8966      1453   \n",
       "20342218      22      18       1       0    1     味スタ        14373      1540   \n",
       "20340314       3      14       0       2    2      埼玉        19319      1485   \n",
       "\n",
       "          AwayRate  HomeRD  AwayRD  \n",
       "ID                                  \n",
       "6010903       1500       0       0  \n",
       "6012807       1500       0       0  \n",
       "6012231       1500       0       0  \n",
       "6011323       1500       0       0  \n",
       "6010820       1500       0       0  \n",
       "...            ...     ...     ...  \n",
       "20340120      1560       4      -6  \n",
       "20340810      1524       9     -13  \n",
       "20343331      1458      17       7  \n",
       "20342218      1453       8       0  \n",
       "20340314      1458     -19       3  \n",
       "\n",
       "[4590 rows x 16 columns]"
      ]
     },
     "execution_count": 2,
     "metadata": {},
     "output_type": "execute_result"
    }
   ],
   "source": [
    "df_allmatch = pd.read_csv(\"./match_data_yearly/all_years.csv\", index_col=0)\n",
    "df_allmatch[\"Date\"] = pd.to_datetime(df_allmatch[\"Date\"])\n",
    "df_allmatch"
   ]
  },
  {
   "cell_type": "markdown",
   "metadata": {},
   "source": [
    "### サッカーの得点数とポアソン分布の関係性"
   ]
  },
  {
   "cell_type": "code",
   "execution_count": 3,
   "metadata": {},
   "outputs": [
    {
     "data": {
      "text/plain": [
       "1.361764705882353"
      ]
     },
     "execution_count": 3,
     "metadata": {},
     "output_type": "execute_result"
    }
   ],
   "source": [
    "ave_score = (df_allmatch[\"HomeGF\"].sum()+df_allmatch[\"AwayGF\"].sum()) / (4590*2)\n",
    "ave_score"
   ]
  },
  {
   "cell_type": "code",
   "execution_count": 4,
   "metadata": {
    "scrolled": true
   },
   "outputs": [],
   "source": [
    "scores = []\n",
    "for s in  df_allmatch[[\"HomeGF\",\"AwayGF\"]].values:\n",
    "    scores.extend(s)"
   ]
  },
  {
   "cell_type": "code",
   "execution_count": 5,
   "metadata": {},
   "outputs": [],
   "source": [
    "actual = []\n",
    "for i in range(9):\n",
    "    actual.append(scores.count(i)/len(scores))"
   ]
  },
  {
   "cell_type": "code",
   "execution_count": 6,
   "metadata": {},
   "outputs": [
    {
     "data": {
      "image/png": "[encoded data removed]",
      "text/plain": [
       "<Figure size 432x288 with 1 Axes>"
      ]
     },
     "metadata": {
      "needs_background": "light"
     },
     "output_type": "display_data"
    }
   ],
   "source": [
    "x =  np.arange(0, 9, 1)\n",
    "plt.plot(x, poisson.pmf(x, ave_score), label='Poisson', marker='o',c ='r')\n",
    "plt.bar(x, actual,  color=\"blue\",alpha=0.4, label=\"Actial\")\n",
    "\n",
    "plt.legend()\n",
    "plt.show()"
   ]
  },
  {
   "cell_type": "markdown",
   "metadata": {},
   "source": [
    "06-20シーズンまでの1試合での1チームの平均得点数は1.36｡\n",
    "\n",
    "上図の赤線が平均1.36得点起こる際の各得点別の確率をポワソン分布で算出して折れ線グラフにしたもの｡\n",
    "青色の棒グラフが､実際に06-20シーズンでの1試合での1チームの得点数のヒストグラム｡\n",
    "\n",
    "赤線と青の棒グラフを比較するとほぼ一致することがわかる｡\n",
    "\n",
    "つまりサッカーの得点数がポアソン分布に従うと言える｡"
   ]
  },
  {
   "cell_type": "markdown",
   "metadata": {},
   "source": [
    "---\n",
    "### 攻撃力･守備力の算出\n",
    "\n",
    "一定期間での各チームの得点･失点の平均をリーグの得点･失点の平均で割って比率を算出する｡\n",
    "その比率(リーグ平均と比較して何倍得点しやすいか･失点しやすいか度合い)を攻撃力･守備力とみなす｡\n",
    "攻撃力は多ければ得点数が多いのに対し､守備力は少なければ失点が少ない(≒強い)ことになる｡\n",
    "\n",
    "平均データを取得する期間･範囲は直近5ヶ月とする｡\n",
    "試合数で区切らないのはチームによって消化試合数が異なり､リーグ平均を出すのが困難なため｡"
   ]
  },
  {
   "cell_type": "code",
   "execution_count": 7,
   "metadata": {},
   "outputs": [],
   "source": [
    "import datetime\n",
    "from dateutil.relativedelta import relativedelta"
   ]
  },
  {
   "cell_type": "code",
   "execution_count": 8,
   "metadata": {
    "scrolled": true
   },
   "outputs": [
    {
     "name": "stdout",
     "output_type": "stream",
     "text": [
      "shimizu-s-pulseのホームでの平均得点 : 2.0\n",
      "shimizu-s-pulseのホームでの平均失点 : 1.5714285714285714\n",
      "jubilo-iwataのアウェイでの平均得点 : 0.42857142857142855\n",
      "jubilo-iwataのアウェイでの平均失点 : 1.2857142857142858\n",
      "リーグ全体のホームでの平均得点 : 1.5182481751824817\n",
      "リーグ全体のアウェイでの平均得点 : 1.313868613138686\n",
      "得点予測  shimizu-s-pulse 1.69 - 0.51 jubilo-iwata\n"
     ]
    }
   ],
   "source": [
    "match_id = 18290713\t\n",
    "date_range = 5\n",
    "\n",
    "current_day = df_allmatch.at[match_id,\"Date\"]\n",
    "home = df_allmatch.at[match_id,\"Home\"]\n",
    "away = df_allmatch.at[match_id,\"Away\"]\n",
    "\n",
    "df_recent = df_allmatch[\n",
    "    (current_day-relativedelta(months=date_range) < df_allmatch[\"Date\"] ) &\n",
    "    (df_allmatch[\"Date\"] < current_day) \n",
    "]\n",
    "\n",
    "df_recent_home = df_recent[df_recent[\"Home\"] == home]\n",
    "df_recent_away = df_recent[df_recent[\"Away\"] == away]\n",
    "\n",
    "homegf_ave = df_recent_home[\"HomeGF\"].mean()\n",
    "homega_ave = df_recent_home[\"AwayGF\"].mean()\n",
    "awaygf_ave = df_recent_away[\"AwayGF\"].mean()\n",
    "awayga_ave = df_recent_away[\"HomeGF\"].mean()\n",
    "homegf_league_ave = df_recent[\"HomeGF\"].mean()\n",
    "awaygf_league_ave = df_recent[\"AwayGF\"].mean()\n",
    "\n",
    "\n",
    "print(f\"{home}のホームでの平均得点 : {homegf_ave}\")\n",
    "print(f\"{home}のホームでの平均失点 : {homega_ave}\")\n",
    "print(f\"{away}のアウェイでの平均得点 : {awaygf_ave}\")\n",
    "print(f\"{away}のアウェイでの平均失点 : {awayga_ave}\")\n",
    "print(f\"リーグ全体のホームでの平均得点 : {homegf_league_ave}\")\n",
    "print(f\"リーグ全体のアウェイでの平均得点 : {awaygf_league_ave}\")\n",
    "\n",
    "home_attack = homegf_ave / homegf_league_ave\n",
    "away_defense = awayga_ave / homegf_league_ave\n",
    "homegf_pred = home_attack * away_defense * homegf_league_ave\n",
    "\n",
    "away_attack = awaygf_ave / awaygf_league_ave\n",
    "home_defense = homega_ave / awaygf_league_ave\n",
    "awaygf_pred = away_attack * home_defense * awaygf_league_ave\n",
    "\n",
    "print(f\"得点予測  {home} {homegf_pred:.2f} - {awaygf_pred:.2f} {away}\")"
   ]
  },
  {
   "cell_type": "code",
   "execution_count": 9,
   "metadata": {},
   "outputs": [
    {
     "data": {
      "text/plain": [
       "1.3173076923076923"
      ]
     },
     "execution_count": 9,
     "metadata": {},
     "output_type": "execute_result"
    }
   ],
   "source": [
    "# ホームチームの得点のしやすさ(攻撃力)\n",
    "home_attack = homegf_ave / homegf_league_ave\n",
    "home_attack"
   ]
  },
  {
   "cell_type": "code",
   "execution_count": 10,
   "metadata": {},
   "outputs": [
    {
     "data": {
      "text/plain": [
       "0.8468406593406594"
      ]
     },
     "execution_count": 10,
     "metadata": {},
     "output_type": "execute_result"
    }
   ],
   "source": [
    "#アウェイチームの失点のしやすさ(守備力)\n",
    "away_defense = awayga_ave / homegf_league_ave\n",
    "away_defense"
   ]
  },
  {
   "cell_type": "code",
   "execution_count": 11,
   "metadata": {},
   "outputs": [
    {
     "data": {
      "text/plain": [
       "0.3261904761904762"
      ]
     },
     "execution_count": 11,
     "metadata": {},
     "output_type": "execute_result"
    }
   ],
   "source": [
    "# アウェイチームの得点のしやすさ(攻撃力)\n",
    "away_attack = awaygf_ave / awaygf_league_ave\n",
    "away_attack"
   ]
  },
  {
   "cell_type": "code",
   "execution_count": 12,
   "metadata": {},
   "outputs": [
    {
     "data": {
      "text/plain": [
       "1.196031746031746"
      ]
     },
     "execution_count": 12,
     "metadata": {},
     "output_type": "execute_result"
    }
   ],
   "source": [
    "# ホームチームの失点のしやすさ(守備力)\n",
    "home_defense = homega_ave / awaygf_league_ave\n",
    "home_defense"
   ]
  },
  {
   "cell_type": "markdown",
   "metadata": {},
   "source": [
    "### 得点予測\n",
    "\n",
    "ホームチームの攻撃力にアウェイチームの守備力とリーグ全体のホームチームの平均ゴール数をかけることでホームチームの得点数を予測する｡(アウェイチームの得点数も同様)\n",
    "\n",
    "平均から何倍得点しやすいか､失点しやすいかをそれぞれかけた値を予測値とする"
   ]
  },
  {
   "cell_type": "code",
   "execution_count": 13,
   "metadata": {},
   "outputs": [
    {
     "data": {
      "text/plain": [
       "1.6936813186813187"
      ]
     },
     "execution_count": 13,
     "metadata": {},
     "output_type": "execute_result"
    }
   ],
   "source": [
    "#ホームチームの予想得点数\n",
    "homegf_pred = home_attack * away_defense * homegf_league_ave\n",
    "homegf_pred"
   ]
  },
  {
   "cell_type": "code",
   "execution_count": 14,
   "metadata": {},
   "outputs": [
    {
     "data": {
      "text/plain": [
       "0.5125850340136054"
      ]
     },
     "execution_count": 14,
     "metadata": {},
     "output_type": "execute_result"
    }
   ],
   "source": [
    "# アウェイチームの予想得点数\n",
    "awaygf_pred = away_attack * home_defense * awaygf_league_ave\n",
    "awaygf_pred"
   ]
  },
  {
   "cell_type": "markdown",
   "metadata": {},
   "source": [
    "予測結果は1.69対0.51となった｡\n",
    "上記の予測を平均値として､ポアソン分布で各スコア別の確率を出す\n",
    "\n",
    "ex) \n",
    "1-0 20%\n",
    "2-0 18%\n",
    "1-1 13%\n",
    "2-1 10% ..."
   ]
  },
  {
   "cell_type": "markdown",
   "metadata": {},
   "source": [
    "### ポワソン分布で各スコアの確率を算出\n",
    "\n",
    "J1での1試合の最多得点が9点であることから,ポワソン分布の幅を0-9点とし､10得点以上することはないと考えるが､10点得点以上のゲーム(0-10､10-10､15-20､､､､)の確率も存在してしまうため､最終的に予測した勝率､敗率､分率の和を割合にして､分母が100%になるようにする｡\n"
   ]
  },
  {
   "cell_type": "code",
   "execution_count": 16,
   "metadata": {},
   "outputs": [
    {
     "data": {
      "image/png": "[encoded data removed]",
      "text/plain": [
       "<Figure size 432x288 with 1 Axes>"
      ]
     },
     "metadata": {
      "needs_background": "light"
     },
     "output_type": "display_data"
    }
   ],
   "source": [
    "home_poisson = poisson.pmf(x, homegf_pred)\n",
    "away_poisson = poisson.pmf(x, awaygf_pred)\n",
    "\n",
    "x =  np.arange(0, 10, 1)\n",
    "plt.bar(x, home_poisson, align=\"edge\", width=-0.4,  color=\"#FA880A\", label=f'Home : {home}')\n",
    "plt.bar(x, away_poisson, align=\"edge\", width= 0.4,  color=\"#6C9BD2\", label=f'Away : {away}')\n",
    "\n",
    "plt.xlabel('Goals for')\n",
    "plt.ylabel('Probability')\n",
    "plt.grid(color='b', linestyle=':', linewidth=0.3)\n",
    "plt.title(f\"{match_id} {home} - {away}\", color='rebeccapurple')\n",
    "plt.legend()\n",
    "plt.show()\n"
   ]
  },
  {
   "cell_type": "code",
   "execution_count": 36,
   "metadata": {
    "scrolled": false
   },
   "outputs": [
    {
     "data": {
      "text/html": [
       "<div>\n",
       "<style scoped>\n",
       "    .dataframe tbody tr th:only-of-type {\n",
       "        vertical-align: middle;\n",
       "    }\n",
       "\n",
       "    .dataframe tbody tr th {\n",
       "        vertical-align: top;\n",
       "    }\n",
       "\n",
       "    .dataframe thead th {\n",
       "        text-align: right;\n",
       "    }\n",
       "</style>\n",
       "<table border=\"1\" class=\"dataframe\">\n",
       "  <thead>\n",
       "    <tr style=\"text-align: right;\">\n",
       "      <th></th>\n",
       "      <th>0</th>\n",
       "      <th>1</th>\n",
       "      <th>2</th>\n",
       "      <th>3</th>\n",
       "      <th>4</th>\n",
       "      <th>5</th>\n",
       "      <th>6</th>\n",
       "      <th>7</th>\n",
       "      <th>8</th>\n",
       "      <th>9</th>\n",
       "    </tr>\n",
       "  </thead>\n",
       "  <tbody>\n",
       "    <tr>\n",
       "      <th>shimizu-s-pulse</th>\n",
       "      <td>0.184</td>\n",
       "      <td>0.311</td>\n",
       "      <td>0.264</td>\n",
       "      <td>0.149</td>\n",
       "      <td>0.063</td>\n",
       "      <td>0.021</td>\n",
       "      <td>0.006</td>\n",
       "      <td>0.001</td>\n",
       "      <td>0.0</td>\n",
       "      <td>0.0</td>\n",
       "    </tr>\n",
       "    <tr>\n",
       "      <th>jubilo-iwata</th>\n",
       "      <td>0.599</td>\n",
       "      <td>0.307</td>\n",
       "      <td>0.079</td>\n",
       "      <td>0.013</td>\n",
       "      <td>0.002</td>\n",
       "      <td>0.000</td>\n",
       "      <td>0.000</td>\n",
       "      <td>0.000</td>\n",
       "      <td>0.0</td>\n",
       "      <td>0.0</td>\n",
       "    </tr>\n",
       "  </tbody>\n",
       "</table>\n",
       "</div>"
      ],
      "text/plain": [
       "                     0      1      2      3      4      5      6      7    8  \\\n",
       "shimizu-s-pulse  0.184  0.311  0.264  0.149  0.063  0.021  0.006  0.001  0.0   \n",
       "jubilo-iwata     0.599  0.307  0.079  0.013  0.002  0.000  0.000  0.000  0.0   \n",
       "\n",
       "                   9  \n",
       "shimizu-s-pulse  0.0  \n",
       "jubilo-iwata     0.0  "
      ]
     },
     "execution_count": 36,
     "metadata": {},
     "output_type": "execute_result"
    }
   ],
   "source": [
    "df_poisson = pd.DataFrame([home_poisson,away_poisson],columns=x, index=[home,away])\n",
    "round(df_poisson,3)\n",
    "# df_poisson"
   ]
  },
  {
   "cell_type": "markdown",
   "metadata": {},
   "source": [
    "### 試合の勝,負,分の予測確率を出す"
   ]
  },
  {
   "cell_type": "code",
   "execution_count": 18,
   "metadata": {},
   "outputs": [],
   "source": [
    "win_prob_sum = 0\n",
    "loss_prob_sum = 0\n",
    "draw_prob_sum = 0\n",
    "\n",
    "for gf in x:\n",
    "    gf_prob = df_poisson.at[home, gf]\n",
    "    for ga in x:\n",
    "        ga_prob = df_poisson.at[away,ga]\n",
    "        score_prob = gf_prob * ga_prob\n",
    "        \n",
    "        if gf>ga:\n",
    "            win_prob_sum += score_prob\n",
    "        elif gf<ga:\n",
    "            loss_prob_sum += score_prob\n",
    "        else:\n",
    "            draw_prob_sum += score_prob"
   ]
  },
  {
   "cell_type": "code",
   "execution_count": 19,
   "metadata": {
    "scrolled": true
   },
   "outputs": [
    {
     "data": {
      "text/plain": [
       "0.999988399151543"
      ]
     },
     "execution_count": 19,
     "metadata": {},
     "output_type": "execute_result"
    }
   ],
   "source": [
    "prob_sum = win_prob_sum+loss_prob_sum+draw_prob_sum\n",
    "prob_sum"
   ]
  },
  {
   "cell_type": "code",
   "execution_count": 20,
   "metadata": {},
   "outputs": [],
   "source": [
    "win_prob_sum = win_prob_sum/prob_sum\n",
    "loss_prob_sum = loss_prob_sum/prob_sum\n",
    "draw_prob_sum = draw_prob_sum/prob_sum"
   ]
  },
  {
   "cell_type": "code",
   "execution_count": 21,
   "metadata": {
    "scrolled": true
   },
   "outputs": [
    {
     "data": {
      "text/plain": [
       "1.0"
      ]
     },
     "execution_count": 21,
     "metadata": {},
     "output_type": "execute_result"
    }
   ],
   "source": [
    "win_prob_sum+loss_prob_sum+draw_prob_sum"
   ]
  },
  {
   "cell_type": "code",
   "execution_count": 22,
   "metadata": {
    "scrolled": true
   },
   "outputs": [
    {
     "name": "stdout",
     "output_type": "stream",
     "text": [
      "shimizu-s-pulse - jubilo-iwata\n",
      "win 66.41%\n",
      "loss 10.74%\n",
      "draw 22.86%\n"
     ]
    }
   ],
   "source": [
    "print(f\"{home} - {away}\")\n",
    "print(f\"win {win_prob_sum:.2%}\")\n",
    "print(f\"loss {loss_prob_sum:.2%}\")\n",
    "print(f\"draw {draw_prob_sum:.2%}\")"
   ]
  },
  {
   "cell_type": "code",
   "execution_count": 23,
   "metadata": {},
   "outputs": [
    {
     "data": {
      "text/plain": [
       "Year                          2018\n",
       "Sec                             29\n",
       "Date           2018-10-07 00:00:00\n",
       "Home               shimizu-s-pulse\n",
       "Away                  jubilo-iwata\n",
       "HomeID                           7\n",
       "AwayID                          13\n",
       "HomeGF                           5\n",
       "AwayGF                           1\n",
       "W/L                              1\n",
       "Stadium                       アイスタ\n",
       "Attendances                  19159\n",
       "HomeRate                      1447\n",
       "AwayRate                      1497\n",
       "HomeRD                          12\n",
       "AwayRD                          -7\n",
       "Name: 18290713, dtype: object"
      ]
     },
     "execution_count": 23,
     "metadata": {},
     "output_type": "execute_result"
    }
   ],
   "source": [
    "df_allmatch.loc[18290713]"
   ]
  },
  {
   "cell_type": "markdown",
   "metadata": {},
   "source": [
    "### 評価･考察\n",
    "\n",
    "66.4/10.7/22.9というもっともらしい予測結果になった｡(試合結果は5-1) EloRatingで勝率を出すのとはぜんぜん違う感じになりそう｡Ratingは急激に上がらないのに対し､このポアソン分布は直近5ヶ月に絞っているので､直近の強さを可視化出来ている可能性がある｡\n",
    "\n",
    "長期でこの手法の評価をするために以下で関数化する"
   ]
  },
  {
   "cell_type": "code",
   "execution_count": 24,
   "metadata": {},
   "outputs": [],
   "source": [
    "def predict_with_poisson(match_id,date_range=5):\n",
    "    \n",
    "    current_day = df_allmatch.at[match_id,\"Date\"]\n",
    "    home = df_allmatch.at[match_id,\"Home\"]\n",
    "    away = df_allmatch.at[match_id,\"Away\"]\n",
    "\n",
    "    df_recent = df_allmatch[\n",
    "        (current_day-relativedelta(months=date_range) < df_allmatch[\"Date\"] ) &\n",
    "        (df_allmatch[\"Date\"] < current_day) \n",
    "    ]\n",
    "\n",
    "    df_recent_home = df_recent[df_recent[\"Home\"] == home]\n",
    "    df_recent_away = df_recent[df_recent[\"Away\"] == away]\n",
    "\n",
    "    homegf_ave = df_recent_home[\"HomeGF\"].mean()\n",
    "    homega_ave = df_recent_home[\"AwayGF\"].mean()\n",
    "    awaygf_ave = df_recent_away[\"AwayGF\"].mean()\n",
    "    awayga_ave = df_recent_away[\"HomeGF\"].mean()\n",
    "    homegf_league_ave = df_recent[\"HomeGF\"].mean()\n",
    "    awaygf_league_ave = df_recent[\"AwayGF\"].mean()\n",
    "    \n",
    "    # 欠損値処理\n",
    "    # 10-20までのJ2降格チームのホームとアウェイ別での平均得点と平均失点(0.99,1.66,0.94,1.83)で穴埋め       \n",
    "    if  homegf_ave is np.nan:\n",
    "        homegf_ave = 0.99\n",
    "    if homega_ave is np.nan:\n",
    "        homega_ave = 1.66\n",
    "    if awaygf_ave is np.nan:\n",
    "        awaygf_ave = 0.94\n",
    "    if awayga_ave is np.nan:\n",
    "        awayga_ave = 1.83\n",
    "\n",
    "#     print(f\"{home}のホームでの平均得点 : {homegf_ave}\")\n",
    "#     print(f\"{home}のホームでの平均失点 : {homega_ave}\")\n",
    "#     print(f\"{away}のアウェイでの平均得点 : {awaygf_ave}\")\n",
    "#     print(f\"{away}のアウェイでの平均失点 : {awayga_ave}\")\n",
    "#     print(f\"リーグ全体のホームでの平均得点 : {homegf_league_ave}\")\n",
    "#     print(f\"リーグ全体のアウェイでの平均得点 : {awaygf_league_ave}\")\n",
    "\n",
    "    home_attack = homegf_ave / homegf_league_ave\n",
    "    away_defense = awayga_ave / homegf_league_ave\n",
    "    homegf_pred = home_attack * away_defense * homegf_league_ave\n",
    "\n",
    "    away_attack = awaygf_ave / awaygf_league_ave\n",
    "    home_defense = homega_ave / awaygf_league_ave\n",
    "    awaygf_pred = away_attack * home_defense * awaygf_league_ave\n",
    "\n",
    "#     print(f\"得点予測  {home} {homegf_pred:.2f} - {awaygf_pred:.2f} {away}\")\n",
    "    \n",
    "    x =  np.arange(0, 10, 1)\n",
    "    home_poisson = poisson.pmf(x, homegf_pred)\n",
    "    away_poisson = poisson.pmf(x, awaygf_pred)\n",
    "\n",
    "#     plt.bar(x, home_poisson, align=\"edge\", width=-0.4,  color=\"#FA880A\", label=f'Home : {home}')\n",
    "#     plt.bar(x, away_poisson, align=\"edge\", width= 0.4,  color=\"#6C9BD2\", label=f'Away : {away}')\n",
    "\n",
    "#     plt.xlabel('Goals for')\n",
    "#     plt.ylabel('Probability')\n",
    "#     plt.grid(color='b', linestyle=':', linewidth=0.3)\n",
    "#     plt.title(f\"{match_id} {home} - {away}\", color='rebeccapurple')\n",
    "#     plt.legend()\n",
    "#     plt.show()\n",
    "    \n",
    "    df_poisson = pd.DataFrame([home_poisson,away_poisson],columns=x, index=[home,away])\n",
    "    \n",
    "    win_prob_sum = 0\n",
    "    loss_prob_sum = 0\n",
    "    draw_prob_sum = 0\n",
    "\n",
    "    for gf in x:\n",
    "        gf_prob = df_poisson.at[home, gf]\n",
    "        for ga in x:\n",
    "            ga_prob = df_poisson.at[away,ga]\n",
    "            score_prob = gf_prob * ga_prob\n",
    "\n",
    "            if gf>ga:\n",
    "                win_prob_sum += score_prob\n",
    "            elif gf<ga:\n",
    "                loss_prob_sum += score_prob\n",
    "            else:\n",
    "                draw_prob_sum += score_prob\n",
    "                \n",
    "    prob_sum = win_prob_sum+loss_prob_sum+draw_prob_sum\n",
    "    win_prob_sum = win_prob_sum/prob_sum\n",
    "    loss_prob_sum = loss_prob_sum/prob_sum\n",
    "    draw_prob_sum = draw_prob_sum/prob_sum\n",
    "    \n",
    "#     print(f\"{home} - {away}\")\n",
    "#     print(f\"draw(0) {draw_prob_sum:.2%} win(1) {win_prob_sum:.2%} loss(2) {loss_prob_sum:.2%}\")\n",
    "    \n",
    "    return draw_prob_sum,win_prob_sum,loss_prob_sum\n",
    "                "
   ]
  },
  {
   "cell_type": "code",
   "execution_count": 25,
   "metadata": {},
   "outputs": [
    {
     "data": {
      "text/plain": [
       "(0.13226517104602917, 0.7946191069876959, 0.073115721966275)"
      ]
     },
     "execution_count": 25,
     "metadata": {},
     "output_type": "execute_result"
    }
   ],
   "source": [
    "predict_with_poisson(20011834)"
   ]
  },
  {
   "cell_type": "markdown",
   "metadata": {},
   "source": [
    "### 長期間で予測･評価\n",
    "\n",
    "#### 勝敗予測"
   ]
  },
  {
   "cell_type": "code",
   "execution_count": 26,
   "metadata": {},
   "outputs": [],
   "source": [
    "d_preds = []\n",
    "w_preds = []\n",
    "l_preds = []\n",
    "wl_preds = []\n",
    "wl_actuals = []\n",
    "\n",
    "for index, row in df_allmatch[df_allmatch[\"Year\"] >= 2013].iterrows():\n",
    "    d_pred = predict_with_poisson(index)[0]\n",
    "    w_pred = predict_with_poisson(index)[1]\n",
    "    l_pred = predict_with_poisson(index)[2]\n",
    "    \n",
    "    d_preds.append(d_pred)\n",
    "    w_preds.append(w_pred)\n",
    "    l_preds.append(l_pred)\n",
    "    \n",
    "    if max(predict_with_poisson(index)) == w_pred:\n",
    "        wl_preds.append(1)\n",
    "    elif max(predict_with_poisson(index)) == l_pred:\n",
    "        wl_preds.append(2)\n",
    "    else:\n",
    "        wl_preds.append(0)\n",
    "        \n",
    "    wl_actuals.append(row[\"W/L\"])"
   ]
  },
  {
   "cell_type": "code",
   "execution_count": 27,
   "metadata": {},
   "outputs": [],
   "source": [
    "df_pred = pd.DataFrame(index=df_allmatch[df_allmatch[\"Year\"] >= 2013].index)\n",
    "df_pred.insert(0,\"d_pred\",d_preds)\n",
    "df_pred.insert(1,\"w_pred\",w_preds)\n",
    "df_pred.insert(2,\"l_pred\",l_preds)\n",
    "df_pred.insert(3,\"pred\", wl_preds)\n",
    "df_pred.insert(4,\"actual\", wl_actuals)"
   ]
  },
  {
   "cell_type": "code",
   "execution_count": 28,
   "metadata": {
    "scrolled": true
   },
   "outputs": [
    {
     "data": {
      "text/html": [
       "<div>\n",
       "<style scoped>\n",
       "    .dataframe tbody tr th:only-of-type {\n",
       "        vertical-align: middle;\n",
       "    }\n",
       "\n",
       "    .dataframe tbody tr th {\n",
       "        vertical-align: top;\n",
       "    }\n",
       "\n",
       "    .dataframe thead th {\n",
       "        text-align: right;\n",
       "    }\n",
       "</style>\n",
       "<table border=\"1\" class=\"dataframe\">\n",
       "  <thead>\n",
       "    <tr style=\"text-align: right;\">\n",
       "      <th></th>\n",
       "      <th>d_pred</th>\n",
       "      <th>w_pred</th>\n",
       "      <th>l_pred</th>\n",
       "      <th>pred</th>\n",
       "      <th>actual</th>\n",
       "    </tr>\n",
       "    <tr>\n",
       "      <th>ID</th>\n",
       "      <th></th>\n",
       "      <th></th>\n",
       "      <th></th>\n",
       "      <th></th>\n",
       "      <th></th>\n",
       "    </tr>\n",
       "  </thead>\n",
       "  <tbody>\n",
       "    <tr>\n",
       "      <th>13010512</th>\n",
       "      <td>0.209443</td>\n",
       "      <td>0.718558</td>\n",
       "      <td>0.071999</td>\n",
       "      <td>1</td>\n",
       "      <td>1</td>\n",
       "    </tr>\n",
       "    <tr>\n",
       "      <th>13010813</th>\n",
       "      <td>0.263137</td>\n",
       "      <td>0.636581</td>\n",
       "      <td>0.100282</td>\n",
       "      <td>1</td>\n",
       "      <td>0</td>\n",
       "    </tr>\n",
       "    <tr>\n",
       "      <th>13013301</th>\n",
       "      <td>0.336500</td>\n",
       "      <td>0.171925</td>\n",
       "      <td>0.491574</td>\n",
       "      <td>2</td>\n",
       "      <td>0</td>\n",
       "    </tr>\n",
       "    <tr>\n",
       "      <th>13012078</th>\n",
       "      <td>0.236215</td>\n",
       "      <td>0.083053</td>\n",
       "      <td>0.680732</td>\n",
       "      <td>2</td>\n",
       "      <td>1</td>\n",
       "    </tr>\n",
       "    <tr>\n",
       "      <th>13015428</th>\n",
       "      <td>0.233254</td>\n",
       "      <td>0.568698</td>\n",
       "      <td>0.198048</td>\n",
       "      <td>1</td>\n",
       "      <td>0</td>\n",
       "    </tr>\n",
       "    <tr>\n",
       "      <th>...</th>\n",
       "      <td>...</td>\n",
       "      <td>...</td>\n",
       "      <td>...</td>\n",
       "      <td>...</td>\n",
       "      <td>...</td>\n",
       "    </tr>\n",
       "    <tr>\n",
       "      <th>20340120</th>\n",
       "      <td>0.245170</td>\n",
       "      <td>0.430187</td>\n",
       "      <td>0.324642</td>\n",
       "      <td>1</td>\n",
       "      <td>0</td>\n",
       "    </tr>\n",
       "    <tr>\n",
       "      <th>20340810</th>\n",
       "      <td>0.289840</td>\n",
       "      <td>0.561367</td>\n",
       "      <td>0.148792</td>\n",
       "      <td>1</td>\n",
       "      <td>1</td>\n",
       "    </tr>\n",
       "    <tr>\n",
       "      <th>20343331</th>\n",
       "      <td>0.274471</td>\n",
       "      <td>0.313893</td>\n",
       "      <td>0.411636</td>\n",
       "      <td>2</td>\n",
       "      <td>0</td>\n",
       "    </tr>\n",
       "    <tr>\n",
       "      <th>20342218</th>\n",
       "      <td>0.224348</td>\n",
       "      <td>0.447910</td>\n",
       "      <td>0.327742</td>\n",
       "      <td>1</td>\n",
       "      <td>1</td>\n",
       "    </tr>\n",
       "    <tr>\n",
       "      <th>20340314</th>\n",
       "      <td>0.247840</td>\n",
       "      <td>0.530476</td>\n",
       "      <td>0.221684</td>\n",
       "      <td>1</td>\n",
       "      <td>2</td>\n",
       "    </tr>\n",
       "  </tbody>\n",
       "</table>\n",
       "<p>2448 rows × 5 columns</p>\n",
       "</div>"
      ],
      "text/plain": [
       "            d_pred    w_pred    l_pred  pred  actual\n",
       "ID                                                  \n",
       "13010512  0.209443  0.718558  0.071999     1       1\n",
       "13010813  0.263137  0.636581  0.100282     1       0\n",
       "13013301  0.336500  0.171925  0.491574     2       0\n",
       "13012078  0.236215  0.083053  0.680732     2       1\n",
       "13015428  0.233254  0.568698  0.198048     1       0\n",
       "...            ...       ...       ...   ...     ...\n",
       "20340120  0.245170  0.430187  0.324642     1       0\n",
       "20340810  0.289840  0.561367  0.148792     1       1\n",
       "20343331  0.274471  0.313893  0.411636     2       0\n",
       "20342218  0.224348  0.447910  0.327742     1       1\n",
       "20340314  0.247840  0.530476  0.221684     1       2\n",
       "\n",
       "[2448 rows x 5 columns]"
      ]
     },
     "execution_count": 28,
     "metadata": {},
     "output_type": "execute_result"
    }
   ],
   "source": [
    "df_pred"
   ]
  },
  {
   "cell_type": "code",
   "execution_count": 29,
   "metadata": {},
   "outputs": [
    {
     "data": {
      "text/plain": [
       "0.4505718954248366"
      ]
     },
     "execution_count": 29,
     "metadata": {},
     "output_type": "execute_result"
    }
   ],
   "source": [
    "len(df_pred[df_pred[\"pred\"]==df_pred[\"actual\"]]) / len(df_pred)"
   ]
  },
  {
   "cell_type": "code",
   "execution_count": 30,
   "metadata": {},
   "outputs": [
    {
     "data": {
      "text/plain": [
       "572"
      ]
     },
     "execution_count": 30,
     "metadata": {},
     "output_type": "execute_result"
    }
   ],
   "source": [
    "len(df_pred[(df_pred[\"actual\"]==0)])"
   ]
  },
  {
   "cell_type": "markdown",
   "metadata": {},
   "source": [
    "13-20年での的中率45%となり､機械学習を用いた的中率と比較してわずかに減少した｡どの手法を使っても50%いかないぐらいの的中率になりそう…｡\n",
    "\n",
    "これまでの手法との違いは引きわけを予測すること｡2448試合中178試合引き分けを予測した｡またそのうち47試合を的中させた(26%)｡\n",
    "全引き分け試合572試合中の8%的中｡\n",
    "\n",
    "totoでも同様に検証する\n",
    "\n",
    "#### toto予測"
   ]
  },
  {
   "cell_type": "code",
   "execution_count": 31,
   "metadata": {},
   "outputs": [
    {
     "name": "stdout",
     "output_type": "stream",
     "text": [
      "2013年 総購入金額 : 14100円 総利益 : 10279円 回収率 : 1.7\n",
      "2014年 総購入金額 : 11000円 総利益 : -890円 回収率 : 0.92\n",
      "2015年 総購入金額 : 10600円 総利益 : -10600円 回収率 : 0\n",
      "2016年 総購入金額 : 6500円 総利益 : -2972円 回収率 : 0.54\n",
      "2017年 総購入金額 : 6900円 総利益 : -3275円 回収率 : 0.53\n",
      "2018年 総購入金額 : 13200円 総利益 : 9607円 回収率 : 1.7\n",
      "2019年 総購入金額 : 11900円 総利益 : -6742円 回収率 : 0.43\n",
      "2020年 総購入金額 : 13300円 総利益 : -6496円 回収率 : 0.51\n",
      "平均回収率 0.80 \n",
      "8年間の総利益 -11089円\n"
     ]
    }
   ],
   "source": [
    "df_price =  pd.DataFrame([[100,300,900,2700,8100,24300],[200,600,1800,5400,16200],[400,1200,3600,10800],[800,2400,7200],[1600,4800],[3200]], columns=['t_0','t_1','t_2','t_3','t_4','t_5'], index = ['d_0','d_1','d_2','d_3','d_4','d_5'])\n",
    "pay_back_rates = 0\n",
    "sum_total_profit = 0\n",
    "pay_back_rates = 0\n",
    "for year in range(2013,2021):\n",
    "\n",
    "    df_toto = pd.read_csv(f\"./toto_data/{year}.csv\", header=[0,1], index_col=[0,1])\n",
    "    df_toto.rename(columns={'Unnamed: 2_level_1':'','Unnamed: 3_level_1':''}, level=1, inplace=True)\n",
    "    df_pred = df_pred\n",
    "\n",
    "    total_amount = 0\n",
    "    total_profit = 0\n",
    "    total_winning = 0\n",
    "    for index,row in df_toto.iterrows():\n",
    "\n",
    "        amount = 0\n",
    "        d_count = 0\n",
    "        t_count = 0\n",
    "\n",
    "        buy_lots = []\n",
    "\n",
    "        for i in range(1,6):\n",
    "            m_id = row[(f\"Match{i}\",\"MatchID\")] # これを引数で関数化する\n",
    "            pred = df_pred.loc[m_id]\n",
    "\n",
    "            # 買い方を返す\n",
    "            buy_lot = []\n",
    "            if pred[\"w_pred\"] - pred[\"l_pred\"] >= 0.08:\n",
    "                buy_lot = [1]\n",
    "            elif pred[\"w_pred\"] - pred[\"l_pred\"] > -0.08:\n",
    "                buy_lot = [0,1,2]\n",
    "            else:\n",
    "                buy_lot = [2]\n",
    "\n",
    "            if len(buy_lot) == 3:\n",
    "                t_count += 1\n",
    "            elif len(buy_lot) == 2:\n",
    "                d_count += 1\n",
    "            elif len(buy_lot) == 0:\n",
    "                buy_lot = [0,1,2]\n",
    "                t_count += 1\n",
    "\n",
    "            buy_lots.append(buy_lot)\n",
    "\n",
    "        amount = int(df_price.iloc[d_count,t_count])\n",
    "\n",
    "        # 実際に買っていたときの結果を出力\n",
    "        winning = row[(\"Winning\",\"\")]\n",
    "        is_winning = True\n",
    "        for i in range(1,6):\n",
    "            m_wl = row[(f\"Match{i}\",\"W/L\")]\n",
    "            if not m_wl in buy_lots[i-1]:\n",
    "                is_winning = False\n",
    "\n",
    "\n",
    "        if is_winning:\n",
    "            profit = winning - amount\n",
    "            total_winning += winning\n",
    "        else:\n",
    "            profit = amount * (-1)\n",
    "\n",
    "        total_amount += amount\n",
    "        total_profit += profit\n",
    "        pay_back_rate = total_winning / total_amount\n",
    "\n",
    "        \n",
    "\n",
    "    print(f\"{year}年 総購入金額 : {total_amount}円 総利益 : {total_profit}円 回収率 : {Decimal(pay_back_rate):.02}\") \n",
    "    pay_back_rates += pay_back_rate\n",
    "    sum_total_profit+=total_profit\n",
    "print(f\"平均回収率 {Decimal(pay_back_rates)/8:.02} \")\n",
    "print(f\"8年間の総利益 {sum_total_profit}円\")\n"
   ]
  },
  {
   "cell_type": "markdown",
   "metadata": {},
   "source": [
    "いろいろ調整したが､回収率80%ぐらいがマックス｡ 割と返せているが､年によってばらつきが多く､この検証方法だと検証した年にオーバーフィットしてしまう感じもする｡(来年は1円も回収できないかも)\n",
    "\n",
    "引き分けもある程度しっかり予測できるので､その点ポアソン分布の勝敗予測は優秀｡"
   ]
  },
  {
   "cell_type": "code",
   "execution_count": null,
   "metadata": {},
   "outputs": [],
   "source": []
  }
 ],
 "metadata": {
  "kernelspec": {
   "display_name": "Python 3",
   "language": "python",
   "name": "python3"
  },
  "language_info": {
   "codemirror_mode": {
    "name": "ipython",
    "version": 3
   },
   "file_extension": ".py",
   "mimetype": "text/x-python",
   "name": "python",
   "nbconvert_exporter": "python",
   "pygments_lexer": "ipython3",
   "version": "3.8.5"
  }
 },
 "nbformat": 4,
 "nbformat_minor": 4
}
