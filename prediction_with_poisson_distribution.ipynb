{
 "cells": [
  {
   "cell_type": "code",
   "execution_count": 30,
   "metadata": {},
   "outputs": [],
   "source": [
    "import csv\n",
    "import math\n",
    "import datetime\n",
    "import numpy as np\n",
    "import pandas as pd\n",
    "from decimal import Decimal\n",
    "import matplotlib.pyplot as plt\n",
    "from scipy.stats import poisson\n",
    "from sklearn.metrics import log_loss\n",
    "from dateutil.relativedelta import relativedelta"
   ]
  },
  {
   "cell_type": "code",
   "execution_count": 2,
   "metadata": {
    "scrolled": true
   },
   "outputs": [
    {
     "data": {
      "text/html": [
       "<div>\n",
       "<style scoped>\n",
       "    .dataframe tbody tr th:only-of-type {\n",
       "        vertical-align: middle;\n",
       "    }\n",
       "\n",
       "    .dataframe tbody tr th {\n",
       "        vertical-align: top;\n",
       "    }\n",
       "\n",
       "    .dataframe thead th {\n",
       "        text-align: right;\n",
       "    }\n",
       "</style>\n",
       "<table border=\"1\" class=\"dataframe\">\n",
       "  <thead>\n",
       "    <tr style=\"text-align: right;\">\n",
       "      <th></th>\n",
       "      <th>Year</th>\n",
       "      <th>Sec</th>\n",
       "      <th>Date</th>\n",
       "      <th>Home</th>\n",
       "      <th>Away</th>\n",
       "      <th>HomeID</th>\n",
       "      <th>AwayID</th>\n",
       "      <th>HomeGF</th>\n",
       "      <th>AwayGF</th>\n",
       "      <th>W/L</th>\n",
       "      <th>Stadium</th>\n",
       "      <th>Attendances</th>\n",
       "      <th>HomeRate</th>\n",
       "      <th>AwayRate</th>\n",
       "      <th>HomeRD</th>\n",
       "      <th>AwayRD</th>\n",
       "    </tr>\n",
       "    <tr>\n",
       "      <th>ID</th>\n",
       "      <th></th>\n",
       "      <th></th>\n",
       "      <th></th>\n",
       "      <th></th>\n",
       "      <th></th>\n",
       "      <th></th>\n",
       "      <th></th>\n",
       "      <th></th>\n",
       "      <th></th>\n",
       "      <th></th>\n",
       "      <th></th>\n",
       "      <th></th>\n",
       "      <th></th>\n",
       "      <th></th>\n",
       "      <th></th>\n",
       "      <th></th>\n",
       "    </tr>\n",
       "  </thead>\n",
       "  <tbody>\n",
       "    <tr>\n",
       "      <th>6010903</th>\n",
       "      <td>2006</td>\n",
       "      <td>1</td>\n",
       "      <td>2006-03-04</td>\n",
       "      <td>gamba-osaka</td>\n",
       "      <td>urawa-red-diamonds</td>\n",
       "      <td>9</td>\n",
       "      <td>3</td>\n",
       "      <td>1</td>\n",
       "      <td>1</td>\n",
       "      <td>0</td>\n",
       "      <td>万博</td>\n",
       "      <td>20916</td>\n",
       "      <td>1500</td>\n",
       "      <td>1500</td>\n",
       "      <td>0</td>\n",
       "      <td>0</td>\n",
       "    </tr>\n",
       "    <tr>\n",
       "      <th>6012807</th>\n",
       "      <td>2006</td>\n",
       "      <td>1</td>\n",
       "      <td>2006-03-05</td>\n",
       "      <td>ventforet-kofu</td>\n",
       "      <td>shimizu-s-pulse</td>\n",
       "      <td>28</td>\n",
       "      <td>7</td>\n",
       "      <td>0</td>\n",
       "      <td>2</td>\n",
       "      <td>2</td>\n",
       "      <td>小瀬</td>\n",
       "      <td>14277</td>\n",
       "      <td>1500</td>\n",
       "      <td>1500</td>\n",
       "      <td>0</td>\n",
       "      <td>0</td>\n",
       "    </tr>\n",
       "    <tr>\n",
       "      <th>6012231</th>\n",
       "      <td>2006</td>\n",
       "      <td>1</td>\n",
       "      <td>2006-03-05</td>\n",
       "      <td>fc-tokyo</td>\n",
       "      <td>oita-trinita</td>\n",
       "      <td>22</td>\n",
       "      <td>31</td>\n",
       "      <td>2</td>\n",
       "      <td>0</td>\n",
       "      <td>1</td>\n",
       "      <td>味スタ</td>\n",
       "      <td>22531</td>\n",
       "      <td>1500</td>\n",
       "      <td>1500</td>\n",
       "      <td>0</td>\n",
       "      <td>0</td>\n",
       "    </tr>\n",
       "    <tr>\n",
       "      <th>6011323</th>\n",
       "      <td>2006</td>\n",
       "      <td>1</td>\n",
       "      <td>2006-03-05</td>\n",
       "      <td>jubilo-iwata</td>\n",
       "      <td>avispa-fukuoka</td>\n",
       "      <td>13</td>\n",
       "      <td>23</td>\n",
       "      <td>1</td>\n",
       "      <td>1</td>\n",
       "      <td>0</td>\n",
       "      <td>静岡</td>\n",
       "      <td>28564</td>\n",
       "      <td>1500</td>\n",
       "      <td>1500</td>\n",
       "      <td>0</td>\n",
       "      <td>0</td>\n",
       "    </tr>\n",
       "    <tr>\n",
       "      <th>6010820</th>\n",
       "      <td>2006</td>\n",
       "      <td>1</td>\n",
       "      <td>2006-03-05</td>\n",
       "      <td>nagoya-grampus-eight</td>\n",
       "      <td>cerezo-osaka</td>\n",
       "      <td>8</td>\n",
       "      <td>20</td>\n",
       "      <td>3</td>\n",
       "      <td>2</td>\n",
       "      <td>1</td>\n",
       "      <td>瑞穂陸</td>\n",
       "      <td>17199</td>\n",
       "      <td>1500</td>\n",
       "      <td>1500</td>\n",
       "      <td>0</td>\n",
       "      <td>0</td>\n",
       "    </tr>\n",
       "    <tr>\n",
       "      <th>...</th>\n",
       "      <td>...</td>\n",
       "      <td>...</td>\n",
       "      <td>...</td>\n",
       "      <td>...</td>\n",
       "      <td>...</td>\n",
       "      <td>...</td>\n",
       "      <td>...</td>\n",
       "      <td>...</td>\n",
       "      <td>...</td>\n",
       "      <td>...</td>\n",
       "      <td>...</td>\n",
       "      <td>...</td>\n",
       "      <td>...</td>\n",
       "      <td>...</td>\n",
       "      <td>...</td>\n",
       "      <td>...</td>\n",
       "    </tr>\n",
       "    <tr>\n",
       "      <th>20340120</th>\n",
       "      <td>2020</td>\n",
       "      <td>34</td>\n",
       "      <td>2020-12-19</td>\n",
       "      <td>kashima-antlers</td>\n",
       "      <td>cerezo-osaka</td>\n",
       "      <td>1</td>\n",
       "      <td>20</td>\n",
       "      <td>1</td>\n",
       "      <td>1</td>\n",
       "      <td>0</td>\n",
       "      <td>カシマ</td>\n",
       "      <td>11251</td>\n",
       "      <td>1594</td>\n",
       "      <td>1560</td>\n",
       "      <td>4</td>\n",
       "      <td>-6</td>\n",
       "    </tr>\n",
       "    <tr>\n",
       "      <th>20340810</th>\n",
       "      <td>2020</td>\n",
       "      <td>34</td>\n",
       "      <td>2020-12-19</td>\n",
       "      <td>nagoya-grampus-eight</td>\n",
       "      <td>sanfrecce-hiroshima</td>\n",
       "      <td>8</td>\n",
       "      <td>10</td>\n",
       "      <td>1</td>\n",
       "      <td>0</td>\n",
       "      <td>1</td>\n",
       "      <td>豊田ス</td>\n",
       "      <td>16825</td>\n",
       "      <td>1515</td>\n",
       "      <td>1524</td>\n",
       "      <td>9</td>\n",
       "      <td>-13</td>\n",
       "    </tr>\n",
       "    <tr>\n",
       "      <th>20343331</th>\n",
       "      <td>2020</td>\n",
       "      <td>34</td>\n",
       "      <td>2020-12-19</td>\n",
       "      <td>sagan-tosu</td>\n",
       "      <td>oita-trinita</td>\n",
       "      <td>33</td>\n",
       "      <td>31</td>\n",
       "      <td>2</td>\n",
       "      <td>2</td>\n",
       "      <td>0</td>\n",
       "      <td>駅スタ</td>\n",
       "      <td>8966</td>\n",
       "      <td>1453</td>\n",
       "      <td>1458</td>\n",
       "      <td>17</td>\n",
       "      <td>7</td>\n",
       "    </tr>\n",
       "    <tr>\n",
       "      <th>20342218</th>\n",
       "      <td>2020</td>\n",
       "      <td>34</td>\n",
       "      <td>2020-12-19</td>\n",
       "      <td>fc-tokyo</td>\n",
       "      <td>vissel-kobe</td>\n",
       "      <td>22</td>\n",
       "      <td>18</td>\n",
       "      <td>1</td>\n",
       "      <td>0</td>\n",
       "      <td>1</td>\n",
       "      <td>味スタ</td>\n",
       "      <td>14373</td>\n",
       "      <td>1540</td>\n",
       "      <td>1453</td>\n",
       "      <td>8</td>\n",
       "      <td>0</td>\n",
       "    </tr>\n",
       "    <tr>\n",
       "      <th>20340314</th>\n",
       "      <td>2020</td>\n",
       "      <td>34</td>\n",
       "      <td>2020-12-19</td>\n",
       "      <td>urawa-red-diamonds</td>\n",
       "      <td>consadole-sapporo</td>\n",
       "      <td>3</td>\n",
       "      <td>14</td>\n",
       "      <td>0</td>\n",
       "      <td>2</td>\n",
       "      <td>2</td>\n",
       "      <td>埼玉</td>\n",
       "      <td>19319</td>\n",
       "      <td>1485</td>\n",
       "      <td>1458</td>\n",
       "      <td>-19</td>\n",
       "      <td>3</td>\n",
       "    </tr>\n",
       "  </tbody>\n",
       "</table>\n",
       "<p>4590 rows × 16 columns</p>\n",
       "</div>"
      ],
      "text/plain": [
       "          Year  Sec       Date                  Home                 Away  \\\n",
       "ID                                                                          \n",
       "6010903   2006    1 2006-03-04           gamba-osaka   urawa-red-diamonds   \n",
       "6012807   2006    1 2006-03-05        ventforet-kofu      shimizu-s-pulse   \n",
       "6012231   2006    1 2006-03-05              fc-tokyo         oita-trinita   \n",
       "6011323   2006    1 2006-03-05          jubilo-iwata       avispa-fukuoka   \n",
       "6010820   2006    1 2006-03-05  nagoya-grampus-eight         cerezo-osaka   \n",
       "...        ...  ...        ...                   ...                  ...   \n",
       "20340120  2020   34 2020-12-19       kashima-antlers         cerezo-osaka   \n",
       "20340810  2020   34 2020-12-19  nagoya-grampus-eight  sanfrecce-hiroshima   \n",
       "20343331  2020   34 2020-12-19            sagan-tosu         oita-trinita   \n",
       "20342218  2020   34 2020-12-19              fc-tokyo          vissel-kobe   \n",
       "20340314  2020   34 2020-12-19    urawa-red-diamonds    consadole-sapporo   \n",
       "\n",
       "          HomeID  AwayID  HomeGF  AwayGF  W/L Stadium  Attendances  HomeRate  \\\n",
       "ID                                                                             \n",
       "6010903        9       3       1       1    0      万博        20916      1500   \n",
       "6012807       28       7       0       2    2      小瀬        14277      1500   \n",
       "6012231       22      31       2       0    1     味スタ        22531      1500   \n",
       "6011323       13      23       1       1    0      静岡        28564      1500   \n",
       "6010820        8      20       3       2    1     瑞穂陸        17199      1500   \n",
       "...          ...     ...     ...     ...  ...     ...          ...       ...   \n",
       "20340120       1      20       1       1    0     カシマ        11251      1594   \n",
       "20340810       8      10       1       0    1     豊田ス        16825      1515   \n",
       "20343331      33      31       2       2    0     駅スタ         8966      1453   \n",
       "20342218      22      18       1       0    1     味スタ        14373      1540   \n",
       "20340314       3      14       0       2    2      埼玉        19319      1485   \n",
       "\n",
       "          AwayRate  HomeRD  AwayRD  \n",
       "ID                                  \n",
       "6010903       1500       0       0  \n",
       "6012807       1500       0       0  \n",
       "6012231       1500       0       0  \n",
       "6011323       1500       0       0  \n",
       "6010820       1500       0       0  \n",
       "...            ...     ...     ...  \n",
       "20340120      1560       4      -6  \n",
       "20340810      1524       9     -13  \n",
       "20343331      1458      17       7  \n",
       "20342218      1453       8       0  \n",
       "20340314      1458     -19       3  \n",
       "\n",
       "[4590 rows x 16 columns]"
      ]
     },
     "execution_count": 2,
     "metadata": {},
     "output_type": "execute_result"
    }
   ],
   "source": [
    "df_allmatch = pd.read_csv(\"./match_data_yearly/all_years.csv\", index_col=0)\n",
    "df_allmatch[\"Date\"] = pd.to_datetime(df_allmatch[\"Date\"])\n",
    "df_allmatch"
   ]
  },
  {
   "cell_type": "markdown",
   "metadata": {},
   "source": [
    "### サッカーの得点数とポアソン分布の関係性"
   ]
  },
  {
   "cell_type": "code",
   "execution_count": 3,
   "metadata": {},
   "outputs": [
    {
     "data": {
      "text/plain": [
       "1.361764705882353"
      ]
     },
     "execution_count": 3,
     "metadata": {},
     "output_type": "execute_result"
    }
   ],
   "source": [
    "ave_score = (df_allmatch[\"HomeGF\"].sum()+df_allmatch[\"AwayGF\"].sum()) / (4590*2)\n",
    "ave_score"
   ]
  },
  {
   "cell_type": "code",
   "execution_count": 4,
   "metadata": {
    "scrolled": true
   },
   "outputs": [],
   "source": [
    "scores = []\n",
    "for s in  df_allmatch[[\"HomeGF\",\"AwayGF\"]].values:\n",
    "    scores.extend(s)"
   ]
  },
  {
   "cell_type": "code",
   "execution_count": 5,
   "metadata": {},
   "outputs": [],
   "source": [
    "actual = []\n",
    "for i in range(9):\n",
    "    actual.append(scores.count(i)/len(scores))"
   ]
  },
  {
   "cell_type": "code",
   "execution_count": 6,
   "metadata": {},
   "outputs": [
    {
     "data": {
      "image/png": "[encoded data removed]",
      "text/plain": [
       "<Figure size 432x288 with 1 Axes>"
      ]
     },
     "metadata": {
      "needs_background": "light"
     },
     "output_type": "display_data"
    }
   ],
   "source": [
    "x =  np.arange(0, 9, 1)\n",
    "plt.plot(x, poisson.pmf(x, ave_score), label='Poisson', marker='o',c ='r')\n",
    "plt.bar(x, actual,  color=\"blue\",alpha=0.4, label=\"Actial\")\n",
    "\n",
    "plt.legend()\n",
    "plt.show()"
   ]
  },
  {
   "cell_type": "markdown",
   "metadata": {},
   "source": [
    "06-20シーズンまでの1試合での1チームの平均得点数は1.36｡\n",
    "\n",
    "上図の赤線が平均1.36得点起こる際の各得点別の確率をポワソン分布で算出して折れ線グラフにしたもの｡\n",
    "青色の棒グラフが､実際に06-20シーズンでの1試合での1チームの得点数のヒストグラム｡\n",
    "\n",
    "赤線と青の棒グラフを比較するとほぼ一致することがわかる｡\n",
    "\n",
    "つまりサッカーの得点数がポアソン分布に従うと言える｡"
   ]
  },
  {
   "cell_type": "markdown",
   "metadata": {},
   "source": [
    "---\n",
    "### 攻撃力･守備力の算出\n",
    "\n",
    "一定期間での各チームの得点･失点の平均をリーグの得点･失点の平均で割って比率を算出する｡\n",
    "その比率(リーグ平均と比較して何倍得点しやすいか･失点しやすいか度合い)を攻撃力･守備力とみなす｡\n",
    "攻撃力は多ければ得点数が多いのに対し､守備力は少なければ失点が少ない(≒強い)ことになる｡\n",
    "\n",
    "平均データを取得する期間･範囲は直近5ヶ月とする｡\n",
    "試合数で区切らないのはチームによって消化試合数が異なり､リーグ平均を出すのが困難なため｡"
   ]
  },
  {
   "cell_type": "code",
   "execution_count": 7,
   "metadata": {},
   "outputs": [],
   "source": [
    "import datetime\n",
    "from dateutil.relativedelta import relativedelta"
   ]
  },
  {
   "cell_type": "code",
   "execution_count": 8,
   "metadata": {
    "scrolled": true
   },
   "outputs": [
    {
     "name": "stdout",
     "output_type": "stream",
     "text": [
      "shimizu-s-pulseのホームでの平均得点 : 1.6\n",
      "shimizu-s-pulseのホームでの平均失点 : 1.4\n",
      "jubilo-iwataのアウェイでの平均得点 : 1.0\n",
      "jubilo-iwataのアウェイでの平均失点 : 1.1818181818181819\n",
      "リーグ全体のホームでの平均得点 : 1.4656862745098038\n",
      "リーグ全体のアウェイでの平均得点 : 1.2696078431372548\n",
      "得点予測  shimizu-s-pulse 1.29 - 1.10 jubilo-iwata\n"
     ]
    }
   ],
   "source": [
    "match_id = 18290713\t\n",
    "date_range = 6\n",
    "\n",
    "current_day = df_allmatch.at[match_id,\"Date\"]\n",
    "home = df_allmatch.at[match_id,\"Home\"]\n",
    "away = df_allmatch.at[match_id,\"Away\"]\n",
    "\n",
    "df_recent = df_allmatch[\n",
    "    (current_day-relativedelta(months=date_range) < df_allmatch[\"Date\"] ) &\n",
    "    (df_allmatch[\"Date\"] < current_day) \n",
    "]\n",
    "\n",
    "df_recent_home = df_recent[df_recent[\"Home\"] == home]\n",
    "df_recent_away = df_recent[df_recent[\"Away\"] == away]\n",
    "\n",
    "homegf_ave = df_recent_home[\"HomeGF\"].mean()\n",
    "homega_ave = df_recent_home[\"AwayGF\"].mean()\n",
    "awaygf_ave = df_recent_away[\"AwayGF\"].mean()\n",
    "awayga_ave = df_recent_away[\"HomeGF\"].mean()\n",
    "homegf_league_ave = df_recent[\"HomeGF\"].mean()\n",
    "awaygf_league_ave = df_recent[\"AwayGF\"].mean()\n",
    "\n",
    "\n",
    "print(f\"{home}のホームでの平均得点 : {homegf_ave}\")\n",
    "print(f\"{home}のホームでの平均失点 : {homega_ave}\")\n",
    "print(f\"{away}のアウェイでの平均得点 : {awaygf_ave}\")\n",
    "print(f\"{away}のアウェイでの平均失点 : {awayga_ave}\")\n",
    "print(f\"リーグ全体のホームでの平均得点 : {homegf_league_ave}\")\n",
    "print(f\"リーグ全体のアウェイでの平均得点 : {awaygf_league_ave}\")\n",
    "\n",
    "home_attack = homegf_ave / homegf_league_ave\n",
    "away_defense = awayga_ave / homegf_league_ave\n",
    "homegf_pred = home_attack * away_defense * homegf_league_ave\n",
    "\n",
    "away_attack = awaygf_ave / awaygf_league_ave\n",
    "home_defense = homega_ave / awaygf_league_ave\n",
    "awaygf_pred = away_attack * home_defense * awaygf_league_ave\n",
    "\n",
    "print(f\"得点予測  {home} {homegf_pred:.2f} - {awaygf_pred:.2f} {away}\")"
   ]
  },
  {
   "cell_type": "code",
   "execution_count": 9,
   "metadata": {},
   "outputs": [
    {
     "data": {
      "text/plain": [
       "1.0916387959866223"
      ]
     },
     "execution_count": 9,
     "metadata": {},
     "output_type": "execute_result"
    }
   ],
   "source": [
    "# ホームチームの得点のしやすさ(攻撃力)\n",
    "home_attack = homegf_ave / homegf_league_ave\n",
    "home_attack"
   ]
  },
  {
   "cell_type": "code",
   "execution_count": 10,
   "metadata": {},
   "outputs": [
    {
     "data": {
      "text/plain": [
       "0.8063241106719369"
      ]
     },
     "execution_count": 10,
     "metadata": {},
     "output_type": "execute_result"
    }
   ],
   "source": [
    "#アウェイチームの失点のしやすさ(守備力)\n",
    "away_defense = awayga_ave / homegf_league_ave\n",
    "away_defense"
   ]
  },
  {
   "cell_type": "code",
   "execution_count": 11,
   "metadata": {},
   "outputs": [
    {
     "data": {
      "text/plain": [
       "0.7876447876447877"
      ]
     },
     "execution_count": 11,
     "metadata": {},
     "output_type": "execute_result"
    }
   ],
   "source": [
    "# アウェイチームの得点のしやすさ(攻撃力)\n",
    "away_attack = awaygf_ave / awaygf_league_ave\n",
    "away_attack"
   ]
  },
  {
   "cell_type": "code",
   "execution_count": 12,
   "metadata": {},
   "outputs": [
    {
     "data": {
      "text/plain": [
       "1.1027027027027028"
      ]
     },
     "execution_count": 12,
     "metadata": {},
     "output_type": "execute_result"
    }
   ],
   "source": [
    "# ホームチームの失点のしやすさ(守備力)\n",
    "home_defense = homega_ave / awaygf_league_ave\n",
    "home_defense"
   ]
  },
  {
   "cell_type": "markdown",
   "metadata": {},
   "source": [
    "### 得点予測\n",
    "\n",
    "ホームチームの攻撃力にアウェイチームの守備力とリーグ全体のホームチームの平均ゴール数をかけることでホームチームの得点数を予測する｡(アウェイチームの得点数も同様)\n",
    "\n",
    "平均から何倍得点しやすいか､失点しやすいかをそれぞれかけた値を予測値とする"
   ]
  },
  {
   "cell_type": "code",
   "execution_count": 13,
   "metadata": {},
   "outputs": [
    {
     "data": {
      "text/plain": [
       "1.2901185770750991"
      ]
     },
     "execution_count": 13,
     "metadata": {},
     "output_type": "execute_result"
    }
   ],
   "source": [
    "#ホームチームの予想得点数\n",
    "homegf_pred = home_attack * away_defense * homegf_league_ave\n",
    "homegf_pred"
   ]
  },
  {
   "cell_type": "code",
   "execution_count": 14,
   "metadata": {},
   "outputs": [
    {
     "data": {
      "text/plain": [
       "1.102702702702703"
      ]
     },
     "execution_count": 14,
     "metadata": {},
     "output_type": "execute_result"
    }
   ],
   "source": [
    "# アウェイチームの予想得点数\n",
    "awaygf_pred = away_attack * home_defense * awaygf_league_ave\n",
    "awaygf_pred"
   ]
  },
  {
   "cell_type": "markdown",
   "metadata": {},
   "source": [
    "予測結果は1.29対1.10となった｡\n",
    "上記の予測を平均値として､ポアソン分布で各スコア別の確率を出す\n",
    "\n",
    "ex) \n",
    "1-0 20%\n",
    "2-0 18%\n",
    "1-1 13%\n",
    "2-1 10% ..."
   ]
  },
  {
   "cell_type": "markdown",
   "metadata": {},
   "source": [
    "### ポワソン分布で各スコアの確率を算出\n",
    "\n",
    "J1での1試合の最多得点が9点であることから,ポワソン分布の幅を0-9点とし､10得点以上することはないと考えるが､10点得点以上のゲーム(0-10､10-10､15-20､､､､)の確率も存在してしまうため､最終的に予測した勝率､敗率､分率の和を割合にして､分母が100%になるようにする｡\n"
   ]
  },
  {
   "cell_type": "code",
   "execution_count": 15,
   "metadata": {},
   "outputs": [
    {
     "data": {
      "image/png": "[encoded data removed]",
      "text/plain": [
       "<Figure size 432x288 with 1 Axes>"
      ]
     },
     "metadata": {
      "needs_background": "light"
     },
     "output_type": "display_data"
    }
   ],
   "source": [
    "x =  np.arange(0, 10, 1)\n",
    "\n",
    "home_poisson = poisson.pmf(x, homegf_pred)\n",
    "away_poisson = poisson.pmf(x, awaygf_pred)\n",
    "\n",
    "\n",
    "plt.bar(x, home_poisson, align=\"edge\", width=-0.4,  color=\"#FA880A\", label=f'Home : {home}')\n",
    "plt.bar(x, away_poisson, align=\"edge\", width= 0.4,  color=\"#6C9BD2\", label=f'Away : {away}')\n",
    "\n",
    "plt.xlabel('Goals for')\n",
    "plt.ylabel('Probability')\n",
    "plt.grid(color='b', linestyle=':', linewidth=0.3)\n",
    "plt.title(f\"{match_id} {home} - {away}\", color='rebeccapurple')\n",
    "plt.legend()\n",
    "plt.show()\n"
   ]
  },
  {
   "cell_type": "code",
   "execution_count": 17,
   "metadata": {
    "scrolled": false
   },
   "outputs": [
    {
     "data": {
      "text/html": [
       "<div>\n",
       "<style scoped>\n",
       "    .dataframe tbody tr th:only-of-type {\n",
       "        vertical-align: middle;\n",
       "    }\n",
       "\n",
       "    .dataframe tbody tr th {\n",
       "        vertical-align: top;\n",
       "    }\n",
       "\n",
       "    .dataframe thead th {\n",
       "        text-align: right;\n",
       "    }\n",
       "</style>\n",
       "<table border=\"1\" class=\"dataframe\">\n",
       "  <thead>\n",
       "    <tr style=\"text-align: right;\">\n",
       "      <th></th>\n",
       "      <th>0</th>\n",
       "      <th>1</th>\n",
       "      <th>2</th>\n",
       "      <th>3</th>\n",
       "      <th>4</th>\n",
       "      <th>5</th>\n",
       "      <th>6</th>\n",
       "      <th>7</th>\n",
       "      <th>8</th>\n",
       "      <th>9</th>\n",
       "    </tr>\n",
       "  </thead>\n",
       "  <tbody>\n",
       "    <tr>\n",
       "      <th>shimizu-s-pulse</th>\n",
       "      <td>0.275</td>\n",
       "      <td>0.355</td>\n",
       "      <td>0.229</td>\n",
       "      <td>0.099</td>\n",
       "      <td>0.032</td>\n",
       "      <td>0.008</td>\n",
       "      <td>0.002</td>\n",
       "      <td>0.0</td>\n",
       "      <td>0.0</td>\n",
       "      <td>0.0</td>\n",
       "    </tr>\n",
       "    <tr>\n",
       "      <th>jubilo-iwata</th>\n",
       "      <td>0.332</td>\n",
       "      <td>0.366</td>\n",
       "      <td>0.202</td>\n",
       "      <td>0.074</td>\n",
       "      <td>0.020</td>\n",
       "      <td>0.005</td>\n",
       "      <td>0.001</td>\n",
       "      <td>0.0</td>\n",
       "      <td>0.0</td>\n",
       "      <td>0.0</td>\n",
       "    </tr>\n",
       "  </tbody>\n",
       "</table>\n",
       "</div>"
      ],
      "text/plain": [
       "                     0      1      2      3      4      5      6    7    8  \\\n",
       "shimizu-s-pulse  0.275  0.355  0.229  0.099  0.032  0.008  0.002  0.0  0.0   \n",
       "jubilo-iwata     0.332  0.366  0.202  0.074  0.020  0.005  0.001  0.0  0.0   \n",
       "\n",
       "                   9  \n",
       "shimizu-s-pulse  0.0  \n",
       "jubilo-iwata     0.0  "
      ]
     },
     "execution_count": 17,
     "metadata": {},
     "output_type": "execute_result"
    }
   ],
   "source": [
    "df_poisson = pd.DataFrame([home_poisson,away_poisson],columns=x, index=[home,away])\n",
    "round(df_poisson,3)\n",
    "# df_poisson"
   ]
  },
  {
   "cell_type": "markdown",
   "metadata": {},
   "source": [
    "### 試合の勝,負,分の予測確率を出す"
   ]
  },
  {
   "cell_type": "code",
   "execution_count": 18,
   "metadata": {},
   "outputs": [],
   "source": [
    "win_prob_sum = 0\n",
    "loss_prob_sum = 0\n",
    "draw_prob_sum = 0\n",
    "\n",
    "for gf in x:\n",
    "    gf_prob = df_poisson.at[home, gf]\n",
    "    for ga in x:\n",
    "        ga_prob = df_poisson.at[away,ga]\n",
    "        score_prob = gf_prob * ga_prob\n",
    "        \n",
    "        if gf>ga:\n",
    "            win_prob_sum += score_prob\n",
    "        elif gf<ga:\n",
    "            loss_prob_sum += score_prob\n",
    "        else:\n",
    "            draw_prob_sum += score_prob"
   ]
  },
  {
   "cell_type": "code",
   "execution_count": 19,
   "metadata": {
    "scrolled": true
   },
   "outputs": [
    {
     "data": {
      "text/plain": [
       "0.999998634004885"
      ]
     },
     "execution_count": 19,
     "metadata": {},
     "output_type": "execute_result"
    }
   ],
   "source": [
    "prob_sum = win_prob_sum+loss_prob_sum+draw_prob_sum\n",
    "prob_sum"
   ]
  },
  {
   "cell_type": "code",
   "execution_count": 20,
   "metadata": {},
   "outputs": [],
   "source": [
    "win_prob_sum = win_prob_sum/prob_sum\n",
    "loss_prob_sum = loss_prob_sum/prob_sum\n",
    "draw_prob_sum = draw_prob_sum/prob_sum"
   ]
  },
  {
   "cell_type": "code",
   "execution_count": 21,
   "metadata": {
    "scrolled": true
   },
   "outputs": [
    {
     "data": {
      "text/plain": [
       "1.0"
      ]
     },
     "execution_count": 21,
     "metadata": {},
     "output_type": "execute_result"
    }
   ],
   "source": [
    "win_prob_sum+loss_prob_sum+draw_prob_sum"
   ]
  },
  {
   "cell_type": "code",
   "execution_count": 22,
   "metadata": {
    "scrolled": true
   },
   "outputs": [
    {
     "name": "stdout",
     "output_type": "stream",
     "text": [
      "shimizu-s-pulse - jubilo-iwata\n",
      "win 40.77%\n",
      "loss 31.68%\n",
      "draw 27.56%\n"
     ]
    }
   ],
   "source": [
    "print(f\"{home} - {away}\")\n",
    "print(f\"win {win_prob_sum:.2%}\")\n",
    "print(f\"loss {loss_prob_sum:.2%}\")\n",
    "print(f\"draw {draw_prob_sum:.2%}\")"
   ]
  },
  {
   "cell_type": "code",
   "execution_count": 23,
   "metadata": {},
   "outputs": [
    {
     "data": {
      "text/plain": [
       "Year                          2018\n",
       "Sec                             29\n",
       "Date           2018-10-07 00:00:00\n",
       "Home               shimizu-s-pulse\n",
       "Away                  jubilo-iwata\n",
       "HomeID                           7\n",
       "AwayID                          13\n",
       "HomeGF                           5\n",
       "AwayGF                           1\n",
       "W/L                              1\n",
       "Stadium                       アイスタ\n",
       "Attendances                  19159\n",
       "HomeRate                      1447\n",
       "AwayRate                      1497\n",
       "HomeRD                          12\n",
       "AwayRD                          -7\n",
       "Name: 18290713, dtype: object"
      ]
     },
     "execution_count": 23,
     "metadata": {},
     "output_type": "execute_result"
    }
   ],
   "source": [
    "df_allmatch.loc[18290713]"
   ]
  },
  {
   "cell_type": "markdown",
   "metadata": {},
   "source": [
    "### 評価･考察\n",
    "\n",
    "27.6/40.8/31.7というもっともらしい予測結果になった｡(試合結果は5-1) EloRatingで勝率を出すのとはぜんぜん違う感じになりそう｡Ratingは急激に上がらないのに対し､このポアソン分布は直近6ヶ月に絞っているので､直近の強さを可視化出来ている可能性がある｡\n",
    "\n",
    "長期でこの手法の評価をするために以下で関数化する\n",
    "\n",
    "### ==============================="
   ]
  },
  {
   "cell_type": "code",
   "execution_count": 24,
   "metadata": {},
   "outputs": [],
   "source": [
    "def predict_with_poisson(match_id,date_range=6):\n",
    "    \n",
    "    current_day = df_allmatch.at[match_id,\"Date\"]\n",
    "    home = df_allmatch.at[match_id,\"Home\"]\n",
    "    away = df_allmatch.at[match_id,\"Away\"]\n",
    "\n",
    "    df_recent = df_allmatch[\n",
    "        (current_day-relativedelta(months=date_range) < df_allmatch[\"Date\"] ) &\n",
    "        (df_allmatch[\"Date\"] < current_day) \n",
    "    ]\n",
    "\n",
    "    df_recent_home = df_recent[df_recent[\"Home\"] == home]\n",
    "    df_recent_away = df_recent[df_recent[\"Away\"] == away]\n",
    "\n",
    "    homegf_ave = df_recent_home[\"HomeGF\"].mean()\n",
    "    homega_ave = df_recent_home[\"AwayGF\"].mean()\n",
    "    awaygf_ave = df_recent_away[\"AwayGF\"].mean()\n",
    "    awayga_ave = df_recent_away[\"HomeGF\"].mean()\n",
    "    homegf_league_ave = df_recent[\"HomeGF\"].mean()\n",
    "    awaygf_league_ave = df_recent[\"AwayGF\"].mean()\n",
    "    \n",
    "    # 欠損値処理\n",
    "    # 10-20までのJ2降格チームのホームとアウェイ別での平均得点と平均失点(0.99,1.66,0.94,1.83)で穴埋め       \n",
    "    if  homegf_ave is np.nan:\n",
    "        homegf_ave = 0.99\n",
    "    if homega_ave is np.nan:\n",
    "        homega_ave = 1.66\n",
    "    if awaygf_ave is np.nan:\n",
    "        awaygf_ave = 0.94\n",
    "    if awayga_ave is np.nan:\n",
    "        awayga_ave = 1.83\n",
    "\n",
    "#     print(f\"{home}のホームでの平均得点 : {homegf_ave}\")\n",
    "#     print(f\"{home}のホームでの平均失点 : {homega_ave}\")\n",
    "#     print(f\"{away}のアウェイでの平均得点 : {awaygf_ave}\")\n",
    "#     print(f\"{away}のアウェイでの平均失点 : {awayga_ave}\")\n",
    "#     print(f\"リーグ全体のホームでの平均得点 : {homegf_league_ave}\")\n",
    "#     print(f\"リーグ全体のアウェイでの平均得点 : {awaygf_league_ave}\")\n",
    "\n",
    "    home_attack = homegf_ave / homegf_league_ave\n",
    "    away_defense = awayga_ave / homegf_league_ave\n",
    "    homegf_pred = home_attack * away_defense * homegf_league_ave\n",
    "\n",
    "    away_attack = awaygf_ave / awaygf_league_ave\n",
    "    home_defense = homega_ave / awaygf_league_ave\n",
    "    awaygf_pred = away_attack * home_defense * awaygf_league_ave\n",
    "    \n",
    "    \n",
    "\n",
    "#     print(f\"得点予測  {home} {homegf_pred:.2f} - {awaygf_pred:.2f} {away}\")\n",
    "    \n",
    "    x =  np.arange(0, 10, 1)\n",
    "    home_poisson = poisson.pmf(x, homegf_pred)\n",
    "    away_poisson = poisson.pmf(x, awaygf_pred)\n",
    "\n",
    "#     plt.bar(x, home_poisson, align=\"edge\", width=-0.4,  color=\"#FA880A\", label=f'Home : {home}')\n",
    "#     plt.bar(x, away_poisson, align=\"edge\", width= 0.4,  color=\"#6C9BD2\", label=f'Away : {away}')\n",
    "\n",
    "#     plt.xlabel('Goals for')\n",
    "#     plt.ylabel('Probability')\n",
    "#     plt.grid(color='b', linestyle=':', linewidth=0.3)\n",
    "#     plt.title(f\"{match_id} {home} - {away}\", color='rebeccapurple')\n",
    "#     plt.legend()\n",
    "#     plt.show()\n",
    "    \n",
    "    df_poisson = pd.DataFrame([home_poisson,away_poisson],columns=x, index=[home,away])\n",
    "    \n",
    "    win_prob_sum = 0\n",
    "    loss_prob_sum = 0\n",
    "    draw_prob_sum = 0\n",
    "\n",
    "    for gf in x:\n",
    "        gf_prob = df_poisson.at[home, gf]\n",
    "        for ga in x:\n",
    "            ga_prob = df_poisson.at[away,ga]\n",
    "            score_prob = gf_prob * ga_prob\n",
    "\n",
    "            if gf>ga:\n",
    "                win_prob_sum += score_prob\n",
    "            elif gf<ga:\n",
    "                loss_prob_sum += score_prob\n",
    "            else:\n",
    "                draw_prob_sum += score_prob\n",
    "                \n",
    "    prob_sum = win_prob_sum+loss_prob_sum+draw_prob_sum\n",
    "    win_prob_sum = win_prob_sum/prob_sum\n",
    "    loss_prob_sum = loss_prob_sum/prob_sum\n",
    "    draw_prob_sum = draw_prob_sum/prob_sum\n",
    "    \n",
    "#     print(f\"{home} - {away}\")\n",
    "#     print(f\"draw(0) {draw_prob_sum:.2%} win(1) {win_prob_sum:.2%} loss(2) {loss_prob_sum:.2%}\")\n",
    "    \n",
    "    return draw_prob_sum,win_prob_sum,loss_prob_sum\n",
    "                "
   ]
  },
  {
   "cell_type": "code",
   "execution_count": 25,
   "metadata": {
    "scrolled": true
   },
   "outputs": [
    {
     "data": {
      "text/plain": [
       "(0.14773264939935163, 0.7480294081075571, 0.10423794249309132)"
      ]
     },
     "execution_count": 25,
     "metadata": {},
     "output_type": "execute_result"
    }
   ],
   "source": [
    "predict_with_poisson(20011834)"
   ]
  },
  {
   "cell_type": "markdown",
   "metadata": {},
   "source": [
    "### 長期間で予測･評価\n",
    "\n",
    "#### 勝敗予測"
   ]
  },
  {
   "cell_type": "code",
   "execution_count": 32,
   "metadata": {},
   "outputs": [
    {
     "name": "stdout",
     "output_type": "stream",
     "text": [
      "的中率(Accuracy)の平均値 : 0.451\n",
      "対数損失(Log loss)の平均値 : 1.442\n",
      "誤差の2乗の平均値 : 429.794 (平方根:20.731) \n"
     ]
    }
   ],
   "source": [
    "loglosses = []\n",
    "accuracies = []\n",
    "draw_pred_count = 0\n",
    "draw_correct_count = 0\n",
    "\n",
    "for y in range(2013,2021):\n",
    "    df_pred = pd.DataFrame(index=df_allmatch[df_allmatch[\"Year\"] == y].index, columns=[0,1,2,\"pred\",\"actual\"])\n",
    "\n",
    "    pred_winrate_sum=0 # 予測勝率の和\n",
    "    actual_win_sum=0 # 実勝利数の和\n",
    "\n",
    "    pred_drawrate_sum=0 # 予測引き分け率の和\n",
    "    actual_draw_sum=0 # 実引き分け数の和\n",
    "\n",
    "    pred_lossrate_sum=0 # 予測敗率の和\n",
    "    actual_loss_sum=0 # 実敗北数の和\n",
    "\n",
    "    error_squares = []\n",
    "    correct_count = 0\n",
    "    \n",
    "    y_test = []\n",
    "    y_pred_proba = []\n",
    "\n",
    "    for index, row in df_pred.iterrows():   \n",
    "\n",
    "        d_pred = predict_with_poisson(index)[0]\n",
    "        w_pred = predict_with_poisson(index)[1]\n",
    "        l_pred = predict_with_poisson(index)[2]\n",
    "\n",
    "        if max(predict_with_poisson(index)) == w_pred:\n",
    "            wl_pred = 1\n",
    "        elif max(predict_with_poisson(index)) == l_pred:\n",
    "            wl_pred = 2\n",
    "        else:\n",
    "            wl_pred = 0\n",
    "            draw_pred_count += 1\n",
    "\n",
    "        actual = df_allmatch.at[index, \"W/L\"]\n",
    "        \n",
    "\n",
    "        row[0] = d_pred\n",
    "        row[1] = w_pred\n",
    "        row[2] = l_pred\n",
    "        row[\"pred\"] = wl_pred\n",
    "        row[\"actual\"] = actual\n",
    "        \n",
    "        y_pred_proba.append([d_pred,w_pred,l_pred])\n",
    "        y_test.append(actual)\n",
    "        \n",
    "        if wl_pred == actual:\n",
    "            correct_count += 1\n",
    "            if actual == 0:\n",
    "                draw_correct_count += 1\n",
    "\n",
    "        if wl_pred == 1:\n",
    "            pred_winrate_sum += w_pred\n",
    "            pred_lossrate_sum += l_pred\n",
    "            pred_drawrate_sum += d_pred\n",
    "\n",
    "            if actual == 1:\n",
    "                actual_win_sum += 1\n",
    "            elif actual == 0:\n",
    "                actual_draw_sum += 1\n",
    "            else:\n",
    "                actual_loss_sum += 1\n",
    "\n",
    "        elif wl_pred == 2:\n",
    "            pred_winrate_sum += l_pred\n",
    "            pred_lossrate_sum += w_pred\n",
    "            pred_drawrate_sum += d_pred\n",
    "\n",
    "            if actual == 2:\n",
    "                actual_win_sum += 1\n",
    "            elif actual == 0:\n",
    "                actual_draw_sum += 1\n",
    "            else:\n",
    "                actual_loss_sum += 1\n",
    "    \n",
    "    logloss = log_loss(y_test,y_pred_proba,labels=[0,1,2])\n",
    "    loglosses.append(logloss)\n",
    "\n",
    "    calibration = pred_winrate_sum/actual_win_sum\n",
    "    error_square = ((1-calibration)*100)**2\n",
    "    error_squares.append(error_square)\n",
    "    accuracies.append(correct_count/len(df_pred))\n",
    "    \n",
    "\n",
    "print(f\"的中率(Accuracy)の平均値 : {np.mean(accuracies):.3f}\" )\n",
    "print(f\"対数損失(Log loss)の平均値 : {np.mean(loglosses):.3f}\" )\n",
    "print(f\"誤差の2乗の平均値 : {np.mean(error_squares):.3f} (平方根:{math.sqrt(np.mean(error_squares)):.3f}) \" )\n",
    "\n",
    "\n"
   ]
  },
  {
   "cell_type": "code",
   "execution_count": 33,
   "metadata": {},
   "outputs": [
    {
     "name": "stdout",
     "output_type": "stream",
     "text": [
      "142試合予測 / 36試合的中\n",
      "引き分け的中率 :0.06293706293706294\n"
     ]
    }
   ],
   "source": [
    "print(f\"{draw_pred_count}試合予測 / {draw_correct_count}試合的中\")\n",
    "print(\"引き分け的中率 :\" + str(draw_correct_count / (df_allmatch[(df_allmatch[\"Year\"] >= 2013) & (df_allmatch[\"W/L\"]==0)]).shape[0]))"
   ]
  },
  {
   "cell_type": "code",
   "execution_count": 34,
   "metadata": {
    "scrolled": true
   },
   "outputs": [
    {
     "data": {
      "text/plain": [
       "572"
      ]
     },
     "execution_count": 34,
     "metadata": {},
     "output_type": "execute_result"
    }
   ],
   "source": [
    "(df_allmatch[(df_allmatch[\"Year\"] >= 2013) & (df_allmatch[\"W/L\"]==0)]).shape[0]"
   ]
  },
  {
   "cell_type": "markdown",
   "metadata": {},
   "source": [
    "13-20年での的中率45%となり､機械学習を用いた的中率と比較してわずかに減少した｡どの手法を使っても50%いかないぐらいの的中率になりそう…｡\n",
    "\n",
    "これまでの手法との違いは引きわけを予測すること｡2448試合中142試合引き分けを予測した｡またそのうち36試合を的中させた｡\n",
    "全引き分け試合572試合中の6%的中｡\n",
    "\n",
    "Loglossに関しては,1.442と大きな誤差を生んでしまっている.\n",
    "改善案としては,平均得点/失点の取る範囲を一定にすること(5試合分ぐらい). 今は直近半年としておりそれだと取得範囲に大小が生じ,少ないところだと,1試合のみから平均を取る(もはや平均ではない)みたいな形になってしまっている.また平均得点/失点に0があると勝率換算したときに0になってしまうのも誤差を大きく生んでしまっている要因(これはすべてが悪いことではなく,はっきりと反映される分,RFとは違う予測を出せる).\n",
    "\n",
    "totoでも同様に検証する\n",
    "\n",
    "#### toto予測"
   ]
  },
  {
   "cell_type": "code",
   "execution_count": 39,
   "metadata": {},
   "outputs": [],
   "source": [
    "df_pred = pd.DataFrame(index=df_allmatch[df_allmatch[\"Year\"] >= 2013].index, columns=[0,1,2,\"pred\",\"actual\"])\n",
    "\n",
    "for index, row in df_pred.iterrows():\n",
    "\n",
    "    d_pred = predict_with_poisson(index)[0]\n",
    "    w_pred = predict_with_poisson(index)[1]\n",
    "    l_pred = predict_with_poisson(index)[2]\n",
    "\n",
    "    if max(predict_with_poisson(index)) == w_pred:\n",
    "        wl_pred = 1\n",
    "    elif max(predict_with_poisson(index)) == l_pred:\n",
    "        wl_pred = 2\n",
    "    else:\n",
    "        wl_pred = 0\n",
    "        draw_pred_count += 1\n",
    "\n",
    "    actual = df_allmatch.at[index, \"W/L\"]\n",
    "\n",
    "\n",
    "    row[0] = d_pred\n",
    "    row[1] = w_pred\n",
    "    row[2] = l_pred\n",
    "    row[\"pred\"] = wl_pred\n",
    "    row[\"actual\"] = actual"
   ]
  },
  {
   "cell_type": "code",
   "execution_count": 40,
   "metadata": {},
   "outputs": [
    {
     "name": "stdout",
     "output_type": "stream",
     "text": [
      "2013年 総購入金額 : 8400円 総利益 : 10657円 回収率 : 2.3\n",
      "2014年 総購入金額 : 6200円 総利益 : -1012円 回収率 : 0.84\n",
      "2015年 総購入金額 : 5800円 総利益 : -5800円 回収率 : 0\n",
      "2016年 総購入金額 : 5800円 総利益 : -5060円 回収率 : 0.13\n",
      "2017年 総購入金額 : 4200円 総利益 : -2912円 回収率 : 0.31\n",
      "2018年 総購入金額 : 6500円 総利益 : -36円 回収率 : 0.99\n",
      "2019年 総購入金額 : 4800円 総利益 : -4800円 回収率 : 0\n",
      "2020年 総購入金額 : 9200円 総利益 : -2396円 回収率 : 0.74\n",
      "平均回収率 0.66 \n",
      "8年間の総利益 -11359円\n"
     ]
    }
   ],
   "source": [
    "df_price =  pd.DataFrame([[100,300,900,2700,8100,24300],[200,600,1800,5400,16200],[400,1200,3600,10800],[800,2400,7200],[1600,4800],[3200]], columns=['t_0','t_1','t_2','t_3','t_4','t_5'], index = ['d_0','d_1','d_2','d_3','d_4','d_5'])\n",
    "pay_back_rates = 0\n",
    "sum_total_profit = 0\n",
    "pay_back_rates = 0\n",
    "for year in range(2013,2021):\n",
    "\n",
    "    df_toto = pd.read_csv(f\"./toto_data/{year}.csv\", header=[0,1], index_col=[0,1])\n",
    "    df_toto.rename(columns={'Unnamed: 2_level_1':'','Unnamed: 3_level_1':''}, level=1, inplace=True)\n",
    "    df_pred = df_pred\n",
    "\n",
    "    total_amount = 0\n",
    "    total_profit = 0\n",
    "    total_winning = 0\n",
    "    for index,row in df_toto.iterrows():\n",
    "\n",
    "        amount = 0\n",
    "        d_count = 0\n",
    "        t_count = 0\n",
    "\n",
    "        buy_lots = []\n",
    "\n",
    "        for i in range(1,6):\n",
    "            m_id = row[(f\"Match{i}\",\"MatchID\")] # これを引数で関数化する\n",
    "            pred = df_pred.loc[m_id]\n",
    "\n",
    "            # 買い方を返す\n",
    "            buy_lot = []\n",
    "            if pred[1] - pred[2] >= 0.04:\n",
    "                buy_lot = [1]\n",
    "            elif pred[1] - pred[2] > -0.04:\n",
    "                buy_lot = [0,1,2]\n",
    "            else:\n",
    "                buy_lot = [2]\n",
    "\n",
    "            if len(buy_lot) == 3:\n",
    "                t_count += 1\n",
    "            elif len(buy_lot) == 2:\n",
    "                d_count += 1\n",
    "            elif len(buy_lot) == 0:\n",
    "                buy_lot = [0,1,2]\n",
    "                t_count += 1\n",
    "\n",
    "            buy_lots.append(buy_lot)\n",
    "\n",
    "        amount = int(df_price.iloc[d_count,t_count])\n",
    "\n",
    "        # 実際に買っていたときの結果を出力\n",
    "        winning = row[(\"Winning\",\"\")]\n",
    "        is_winning = True\n",
    "        for i in range(1,6):\n",
    "            m_wl = row[(f\"Match{i}\",\"W/L\")]\n",
    "            if not m_wl in buy_lots[i-1]:\n",
    "                is_winning = False\n",
    "\n",
    "\n",
    "        if is_winning:\n",
    "            profit = winning - amount\n",
    "            total_winning += winning\n",
    "        else:\n",
    "            profit = amount * (-1)\n",
    "\n",
    "        total_amount += amount\n",
    "        total_profit += profit\n",
    "        \n",
    "        pay_back_rate = total_winning / total_amount\n",
    "\n",
    "        \n",
    "\n",
    "    print(f\"{year}年 総購入金額 : {total_amount}円 総利益 : {total_profit}円 回収率 : {Decimal(pay_back_rate):.02}\") \n",
    "    pay_back_rates += pay_back_rate\n",
    "    sum_total_profit+=total_profit\n",
    "print(f\"平均回収率 {Decimal(pay_back_rates)/8:.02} \")\n",
    "print(f\"8年間の総利益 {sum_total_profit}円\")"
   ]
  },
  {
   "cell_type": "markdown",
   "metadata": {},
   "source": [
    "### 指摘された問題点\n",
    "* (攻撃力) × (守備力) × (リーグ平均得点) で得点数を算出する手法で予測スコアを出すと､予測スコアの平均が実際の平均と異なってしまう問題｡\n",
    "* 閾値の決定が未来のデータまで考慮してしまっている(↓のような感じで)"
   ]
  },
  {
   "cell_type": "code",
   "execution_count": 41,
   "metadata": {
    "scrolled": true
   },
   "outputs": [
    {
     "name": "stdout",
     "output_type": "stream",
     "text": [
      "閾値:0.0 平均回収率:0.49 8年間の総利益:-13187円\n",
      "閾値:0.05 平均回収率:0.65 8年間の総利益:-13650円\n",
      "閾値:0.1 平均回収率:0.43 8年間の総利益:-54513円\n",
      "閾値:0.15 平均回収率:0.29 8年間の総利益:-112860円\n",
      "閾値:0.2 平均回収率:0.44 8年間の総利益:-143048円\n",
      "閾値:0.25 平均回収率:0.67 8年間の総利益:-155580円\n",
      "閾値:0.3 平均回収率:0.57 8年間の総利益:-301532円\n",
      "閾値:0.35 平均回収率:0.51 8年間の総利益:-514716円\n",
      "閾値:0.4 平均回収率:0.50 8年間の総利益:-705244円\n",
      "閾値:0.45 平均回収率:0.54 8年間の総利益:-857287円\n",
      "閾値:0.5 平均回収率:0.55 8年間の総利益:-1036862円\n",
      "閾値:0.55 平均回収率:0.62 8年間の総利益:-1120109円\n",
      "閾値:0.6 平均回収率:0.60 8年間の総利益:-1428786円\n",
      "閾値:0.65 平均回収率:0.58 8年間の総利益:-1743309円\n",
      "閾値:0.7 平均回収率:0.60 8年間の総利益:-1902536円\n",
      "閾値:0.75 平均回収率:0.61 8年間の総利益:-2041256円\n",
      "閾値:0.8 平均回収率:0.60 8年間の総利益:-2210892円\n",
      "閾値:0.85 平均回収率:0.60 8年間の総利益:-2344085円\n",
      "閾値:0.9 平均回収率:0.59 8年間の総利益:-2454177円\n",
      "閾値:0.95 平均回収率:0.58 8年間の総利益:-2560863円\n"
     ]
    }
   ],
   "source": [
    "df_price =  pd.DataFrame([[100,300,900,2700,8100,24300],[200,600,1800,5400,16200],[400,1200,3600,10800],[800,2400,7200],[1600,4800],[3200]], columns=['t_0','t_1','t_2','t_3','t_4','t_5'], index = ['d_0','d_1','d_2','d_3','d_4','d_5'])\n",
    "pay_back_rates = 0\n",
    "sum_total_profit = 0\n",
    "pay_back_rates = 0\n",
    "\n",
    "for th in range(0,100,5):\n",
    "    th = th/100\n",
    "    pay_back_rates = 0\n",
    "    sum_total_profit = 0\n",
    "    for year in range(2013,2021):\n",
    "\n",
    "        df_toto = pd.read_csv(f\"./toto_data/{year}.csv\", header=[0,1], index_col=[0,1])\n",
    "        df_toto.rename(columns={'Unnamed: 2_level_1':'','Unnamed: 3_level_1':''}, level=1, inplace=True)\n",
    "        df_pred = df_pred\n",
    "\n",
    "        total_amount = 0\n",
    "        total_profit = 0\n",
    "        total_winning = 0\n",
    "        for index,row in df_toto.iterrows():\n",
    "\n",
    "            amount = 0\n",
    "            d_count = 0\n",
    "            t_count = 0\n",
    "\n",
    "            buy_lots = []\n",
    "\n",
    "            for i in range(1,6):\n",
    "                m_id = row[(f\"Match{i}\",\"MatchID\")] # これを引数で関数化する\n",
    "                pred = df_pred.loc[m_id]\n",
    "\n",
    "                # 買い方を返す\n",
    "                buy_lot = []\n",
    "                if pred[1] - pred[2] >= th:\n",
    "                    buy_lot = [1]\n",
    "                elif pred[1] - pred[2] > (-1)*th:\n",
    "                    buy_lot = [0,1,2]\n",
    "                else:\n",
    "                    buy_lot = [2]\n",
    "\n",
    "                if len(buy_lot) == 3:\n",
    "                    t_count += 1\n",
    "                elif len(buy_lot) == 2:\n",
    "                    d_count += 1\n",
    "                elif len(buy_lot) == 0:\n",
    "                    buy_lot = [0,1,2]\n",
    "                    t_count += 1\n",
    "\n",
    "                buy_lots.append(buy_lot)\n",
    "\n",
    "            amount = int(df_price.iloc[d_count,t_count])\n",
    "\n",
    "            # 実際に買っていたときの結果を出力\n",
    "            winning = row[(\"Winning\",\"\")]\n",
    "            is_winning = True\n",
    "            for i in range(1,6):\n",
    "                m_wl = row[(f\"Match{i}\",\"W/L\")]\n",
    "                if not m_wl in buy_lots[i-1]:\n",
    "                    is_winning = False\n",
    "\n",
    "\n",
    "            if is_winning:\n",
    "                profit = winning - amount\n",
    "                total_winning += winning\n",
    "            else:\n",
    "                profit = amount * (-1)\n",
    "\n",
    "            total_amount += amount\n",
    "            total_profit += profit\n",
    "\n",
    "            pay_back_rate = total_winning / total_amount\n",
    "\n",
    "\n",
    "\n",
    "#         print(f\"{year}年 総購入金額 : {total_amount}円 総利益 : {total_profit}円 回収率 : {Decimal(pay_back_rate):.02}\") \n",
    "        pay_back_rates += pay_back_rate\n",
    "        sum_total_profit+=total_profit\n",
    "    print(f\"閾値:{th} 平均回収率:{Decimal(pay_back_rates)/8:.02} 8年間の総利益:{sum_total_profit}円\")"
   ]
  },
  {
   "cell_type": "code",
   "execution_count": 42,
   "metadata": {},
   "outputs": [
    {
     "name": "stdout",
     "output_type": "stream",
     "text": [
      "2013年 総購入金額 : 9900円 総利益 : -9900円 回収率 : 0\n",
      "2014年 総購入金額 : 5600円 総利益 : -1979円 回収率 : 0.65\n",
      "2015年 総購入金額 : 7300円 総利益 : -6207円 回収率 : 0.15\n",
      "2016年 総購入金額 : 6300円 総利益 : -4704円 回収率 : 0.25\n",
      "2017年 総購入金額 : 4900円 総利益 : -3612円 回収率 : 0.26\n",
      "Break!\n",
      "2018年 総購入金額 : 1300円 総利益 : 3432円 回収率 : 3.6\n",
      "2019年 総購入金額 : 4900円 総利益 : -4900円 回収率 : 0\n",
      "Break!\n",
      "2020年 総購入金額 : 900円 総利益 : 3908円 回収率 : 5.3\n",
      "平均回収率 0.42 \n",
      "8年間の総利益 -23962円(購入金額41100)円\n"
     ]
    }
   ],
   "source": [
    "df_price =  pd.DataFrame([[100,300,900,2700,8100,24300],[200,600,1800,5400,16200],[400,1200,3600,10800],[800,2400,7200],[1600,4800],[3200]], columns=['t_0','t_1','t_2','t_3','t_4','t_5'], index = ['d_0','d_1','d_2','d_3','d_4','d_5'])\n",
    "pay_back_rates = 0\n",
    "sum_total_profit = 0\n",
    "sum_total_amount=0\n",
    "pay_back_rates = 0\n",
    "for year in range(2013,2021):\n",
    "\n",
    "    df_toto = pd.read_csv(f\"./toto_data/{year}.csv\", header=[0,1], index_col=[0,1])\n",
    "    df_toto.rename(columns={'Unnamed: 2_level_1':'','Unnamed: 3_level_1':''}, level=1, inplace=True)\n",
    "    df_pred = df_pred\n",
    "\n",
    "    total_amount = 0\n",
    "    total_profit = 0\n",
    "    total_winning = 0\n",
    "    for index,row in df_toto.iterrows():\n",
    "\n",
    "        amount = 0\n",
    "        d_count = 0\n",
    "        t_count = 0\n",
    "\n",
    "        buy_lots = []\n",
    "\n",
    "        for i in range(1,6):\n",
    "            m_id = row[(f\"Match{i}\",\"MatchID\")] # これを引数で関数化する\n",
    "            pred = df_pred.loc[m_id]\n",
    "\n",
    "            # 買い方を返す\n",
    "            buy_lot = []\n",
    "            if pred[1] - pred[2] >= 0.1:\n",
    "                buy_lot = [1]\n",
    "            elif pred[1] - pred[2] > -0.1:\n",
    "                buy_lot = [1,2]\n",
    "            else:\n",
    "                buy_lot = [2]\n",
    "\n",
    "            if len(buy_lot) == 3:\n",
    "                t_count += 1\n",
    "            elif len(buy_lot) == 2:\n",
    "                d_count += 1\n",
    "            elif len(buy_lot) == 0:\n",
    "                buy_lot = [0,1,2]\n",
    "                t_count += 1\n",
    "\n",
    "            buy_lots.append(buy_lot)\n",
    "\n",
    "        amount = int(df_price.iloc[d_count,t_count])\n",
    "\n",
    "        # 実際に買っていたときの結果を出力\n",
    "        winning = row[(\"Winning\",\"\")]\n",
    "        is_winning = True\n",
    "        for i in range(1,6):\n",
    "            m_wl = row[(f\"Match{i}\",\"W/L\")]\n",
    "            if not m_wl in buy_lots[i-1]:\n",
    "                is_winning = False\n",
    "\n",
    "\n",
    "        if is_winning:\n",
    "            profit = winning - amount\n",
    "            total_winning += winning\n",
    "        else:\n",
    "            profit = amount * (-1)\n",
    "\n",
    "        total_amount += amount\n",
    "        total_profit += profit\n",
    "        \n",
    "        pay_back_rate = total_winning / total_amount\n",
    "        \n",
    "        if total_profit > total_amount:\n",
    "            print(\"Break!\")\n",
    "            break\n",
    "\n",
    "\n",
    "    print(f\"{year}年 総購入金額 : {total_amount}円 総利益 : {total_profit}円 回収率 : {Decimal(pay_back_rate):.02}\") \n",
    "    pay_back_rates += pay_back_rate\n",
    "    sum_total_profit+=total_profit\n",
    "    sum_total_amount += total_amount\n",
    "print(f\"平均回収率 {(sum_total_profit+sum_total_amount)/sum_total_amount:.02} \")\n",
    "print(f\"8年間の総利益 {sum_total_profit}円(購入金額{sum_total_amount})円\")"
   ]
  },
  {
   "cell_type": "markdown",
   "metadata": {},
   "source": [
    "ペイできた瞬間にその年の購入をやめてみると,,,微妙"
   ]
  },
  {
   "cell_type": "code",
   "execution_count": null,
   "metadata": {},
   "outputs": [],
   "source": []
  }
 ],
 "metadata": {
  "kernelspec": {
   "display_name": "Python 3",
   "language": "python",
   "name": "python3"
  },
  "language_info": {
   "codemirror_mode": {
    "name": "ipython",
    "version": 3
   },
   "file_extension": ".py",
   "mimetype": "text/x-python",
   "name": "python",
   "nbconvert_exporter": "python",
   "pygments_lexer": "ipython3",
   "version": "3.8.5"
  }
 },
 "nbformat": 4,
 "nbformat_minor": 4
}
