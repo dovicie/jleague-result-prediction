{
 "cells": [
  {
   "cell_type": "code",
   "execution_count": 1,
   "metadata": {},
   "outputs": [],
   "source": [
    "import csv\n",
    "import time\n",
    "import os\n",
    "import glob\n",
    "import requests\n",
    "import datetime\n",
    "import pandas as pd\n",
    "import matplotlib.pyplot as plt\n",
    "import mglearn\n",
    "from bs4 import BeautifulSoup"
   ]
  },
  {
   "cell_type": "code",
   "execution_count": 2,
   "metadata": {},
   "outputs": [],
   "source": [
    "csvs = glob.glob('./match_data_club/*/*.csv')\n",
    "df = pd.DataFrame()\n",
    "for csv in csvs:\n",
    "    df = df.append(pd.read_csv(csv))\n",
    "df = df.sort_values(['Date','Sec']).reset_index(drop=True)    "
   ]
  },
  {
   "cell_type": "code",
   "execution_count": 3,
   "metadata": {},
   "outputs": [
    {
     "data": {
      "text/html": [
       "<div>\n",
       "<style scoped>\n",
       "    .dataframe tbody tr th:only-of-type {\n",
       "        vertical-align: middle;\n",
       "    }\n",
       "\n",
       "    .dataframe tbody tr th {\n",
       "        vertical-align: top;\n",
       "    }\n",
       "\n",
       "    .dataframe thead th {\n",
       "        text-align: right;\n",
       "    }\n",
       "</style>\n",
       "<table border=\"1\" class=\"dataframe\">\n",
       "  <thead>\n",
       "    <tr style=\"text-align: right;\">\n",
       "      <th></th>\n",
       "      <th>Sec</th>\n",
       "      <th>Date</th>\n",
       "      <th>Opp</th>\n",
       "      <th>OppID</th>\n",
       "      <th>Score</th>\n",
       "      <th>GF</th>\n",
       "      <th>GA</th>\n",
       "      <th>W/L</th>\n",
       "      <th>H/A</th>\n",
       "      <th>Stadium</th>\n",
       "      <th>...</th>\n",
       "      <th>CBR</th>\n",
       "      <th>Shots</th>\n",
       "      <th>SSR</th>\n",
       "      <th>Possession</th>\n",
       "      <th>AttackCBP</th>\n",
       "      <th>PassCBP</th>\n",
       "      <th>StealP</th>\n",
       "      <th>DefenceP</th>\n",
       "      <th>Scorers</th>\n",
       "      <th>HeadCoach</th>\n",
       "    </tr>\n",
       "  </thead>\n",
       "  <tbody>\n",
       "    <tr>\n",
       "      <th>0</th>\n",
       "      <td>1</td>\n",
       "      <td>2018-02-23</td>\n",
       "      <td>sagan-tosu</td>\n",
       "      <td>17</td>\n",
       "      <td>1-1</td>\n",
       "      <td>1</td>\n",
       "      <td>1</td>\n",
       "      <td>0</td>\n",
       "      <td>1</td>\n",
       "      <td>ベアスタ</td>\n",
       "      <td>...</td>\n",
       "      <td>0.129</td>\n",
       "      <td>19</td>\n",
       "      <td>0.053</td>\n",
       "      <td>0.614</td>\n",
       "      <td>20.58</td>\n",
       "      <td>15.95</td>\n",
       "      <td>89.41</td>\n",
       "      <td>13.52</td>\n",
       "      <td>['ハーフナー']</td>\n",
       "      <td>吉田　孝行</td>\n",
       "    </tr>\n",
       "    <tr>\n",
       "      <th>1</th>\n",
       "      <td>1</td>\n",
       "      <td>2018-02-24</td>\n",
       "      <td>fc-tokyo</td>\n",
       "      <td>6</td>\n",
       "      <td>1-1</td>\n",
       "      <td>1</td>\n",
       "      <td>1</td>\n",
       "      <td>0</td>\n",
       "      <td>1</td>\n",
       "      <td>味スタ</td>\n",
       "      <td>...</td>\n",
       "      <td>0.093</td>\n",
       "      <td>11</td>\n",
       "      <td>0.091</td>\n",
       "      <td>0.601</td>\n",
       "      <td>21.60</td>\n",
       "      <td>17.41</td>\n",
       "      <td>100.17</td>\n",
       "      <td>7.77</td>\n",
       "      <td>['槙野']</td>\n",
       "      <td>堀　孝史</td>\n",
       "    </tr>\n",
       "    <tr>\n",
       "      <th>2</th>\n",
       "      <td>1</td>\n",
       "      <td>2018-02-24</td>\n",
       "      <td>consadole-sapporo</td>\n",
       "      <td>1</td>\n",
       "      <td>1-0</td>\n",
       "      <td>1</td>\n",
       "      <td>0</td>\n",
       "      <td>1</td>\n",
       "      <td>0</td>\n",
       "      <td>Ｅスタ</td>\n",
       "      <td>...</td>\n",
       "      <td>0.133</td>\n",
       "      <td>15</td>\n",
       "      <td>0.067</td>\n",
       "      <td>0.412</td>\n",
       "      <td>14.28</td>\n",
       "      <td>8.38</td>\n",
       "      <td>59.22</td>\n",
       "      <td>18.82</td>\n",
       "      <td>['ティーラシン']</td>\n",
       "      <td>城福　浩</td>\n",
       "    </tr>\n",
       "    <tr>\n",
       "      <th>3</th>\n",
       "      <td>1</td>\n",
       "      <td>2018-02-24</td>\n",
       "      <td>other</td>\n",
       "      <td>0</td>\n",
       "      <td>2-1</td>\n",
       "      <td>2</td>\n",
       "      <td>1</td>\n",
       "      <td>1</td>\n",
       "      <td>0</td>\n",
       "      <td>ＢＭＷス</td>\n",
       "      <td>...</td>\n",
       "      <td>0.074</td>\n",
       "      <td>9</td>\n",
       "      <td>0.222</td>\n",
       "      <td>0.622</td>\n",
       "      <td>11.83</td>\n",
       "      <td>10.64</td>\n",
       "      <td>92.78</td>\n",
       "      <td>12.61</td>\n",
       "      <td>['イジョンヒョプ', '石川']</td>\n",
       "      <td>チョウ　キジェ</td>\n",
       "    </tr>\n",
       "    <tr>\n",
       "      <th>4</th>\n",
       "      <td>1</td>\n",
       "      <td>2018-02-24</td>\n",
       "      <td>nagoya-grampus-eight</td>\n",
       "      <td>12</td>\n",
       "      <td>2-3</td>\n",
       "      <td>2</td>\n",
       "      <td>3</td>\n",
       "      <td>2</td>\n",
       "      <td>0</td>\n",
       "      <td>吹田Ｓ</td>\n",
       "      <td>...</td>\n",
       "      <td>0.102</td>\n",
       "      <td>14</td>\n",
       "      <td>0.143</td>\n",
       "      <td>0.497</td>\n",
       "      <td>16.89</td>\n",
       "      <td>13.28</td>\n",
       "      <td>126.60</td>\n",
       "      <td>13.58</td>\n",
       "      <td>['遠藤', '長沢']</td>\n",
       "      <td>レヴィー　クルピ</td>\n",
       "    </tr>\n",
       "    <tr>\n",
       "      <th>...</th>\n",
       "      <td>...</td>\n",
       "      <td>...</td>\n",
       "      <td>...</td>\n",
       "      <td>...</td>\n",
       "      <td>...</td>\n",
       "      <td>...</td>\n",
       "      <td>...</td>\n",
       "      <td>...</td>\n",
       "      <td>...</td>\n",
       "      <td>...</td>\n",
       "      <td>...</td>\n",
       "      <td>...</td>\n",
       "      <td>...</td>\n",
       "      <td>...</td>\n",
       "      <td>...</td>\n",
       "      <td>...</td>\n",
       "      <td>...</td>\n",
       "      <td>...</td>\n",
       "      <td>...</td>\n",
       "      <td>...</td>\n",
       "      <td>...</td>\n",
       "    </tr>\n",
       "    <tr>\n",
       "      <th>1903</th>\n",
       "      <td>34</td>\n",
       "      <td>2020-12-19</td>\n",
       "      <td>cerezo-osaka</td>\n",
       "      <td>14</td>\n",
       "      <td>1-1</td>\n",
       "      <td>1</td>\n",
       "      <td>1</td>\n",
       "      <td>0</td>\n",
       "      <td>0</td>\n",
       "      <td>カシマ</td>\n",
       "      <td>...</td>\n",
       "      <td>0.177</td>\n",
       "      <td>23</td>\n",
       "      <td>0.043</td>\n",
       "      <td>0.645</td>\n",
       "      <td>23.95</td>\n",
       "      <td>19.41</td>\n",
       "      <td>112.45</td>\n",
       "      <td>9.88</td>\n",
       "      <td>['エヴェラウド']</td>\n",
       "      <td>ザーゴ</td>\n",
       "    </tr>\n",
       "    <tr>\n",
       "      <th>1904</th>\n",
       "      <td>34</td>\n",
       "      <td>2020-12-19</td>\n",
       "      <td>urawa-red-diamonds</td>\n",
       "      <td>4</td>\n",
       "      <td>2-0</td>\n",
       "      <td>2</td>\n",
       "      <td>0</td>\n",
       "      <td>1</td>\n",
       "      <td>1</td>\n",
       "      <td>埼玉</td>\n",
       "      <td>...</td>\n",
       "      <td>0.185</td>\n",
       "      <td>20</td>\n",
       "      <td>0.100</td>\n",
       "      <td>0.527</td>\n",
       "      <td>24.38</td>\n",
       "      <td>18.41</td>\n",
       "      <td>115.62</td>\n",
       "      <td>11.12</td>\n",
       "      <td>['駒井', '田中']</td>\n",
       "      <td>ペトロヴィッチ</td>\n",
       "    </tr>\n",
       "    <tr>\n",
       "      <th>1905</th>\n",
       "      <td>34</td>\n",
       "      <td>2020-12-19</td>\n",
       "      <td>yokohama-fa-marinos</td>\n",
       "      <td>8</td>\n",
       "      <td>3-1</td>\n",
       "      <td>3</td>\n",
       "      <td>1</td>\n",
       "      <td>1</td>\n",
       "      <td>0</td>\n",
       "      <td>ニッパツ</td>\n",
       "      <td>...</td>\n",
       "      <td>0.113</td>\n",
       "      <td>13</td>\n",
       "      <td>0.231</td>\n",
       "      <td>0.395</td>\n",
       "      <td>7.52</td>\n",
       "      <td>5.87</td>\n",
       "      <td>77.14</td>\n",
       "      <td>19.17</td>\n",
       "      <td>['志知', '田代', '瀬沼']</td>\n",
       "      <td>下平　隆宏</td>\n",
       "    </tr>\n",
       "    <tr>\n",
       "      <th>1906</th>\n",
       "      <td>34</td>\n",
       "      <td>2020-12-19</td>\n",
       "      <td>gamba-osaka</td>\n",
       "      <td>13</td>\n",
       "      <td>2-0</td>\n",
       "      <td>2</td>\n",
       "      <td>0</td>\n",
       "      <td>1</td>\n",
       "      <td>1</td>\n",
       "      <td>パナスタ</td>\n",
       "      <td>...</td>\n",
       "      <td>0.105</td>\n",
       "      <td>12</td>\n",
       "      <td>0.167</td>\n",
       "      <td>0.396</td>\n",
       "      <td>10.43</td>\n",
       "      <td>9.13</td>\n",
       "      <td>104.66</td>\n",
       "      <td>22.77</td>\n",
       "      <td>['川本', '金子']</td>\n",
       "      <td>平岡　宏章</td>\n",
       "    </tr>\n",
       "    <tr>\n",
       "      <th>1907</th>\n",
       "      <td>34</td>\n",
       "      <td>2020-12-19</td>\n",
       "      <td>vissel-kobe</td>\n",
       "      <td>15</td>\n",
       "      <td>1-0</td>\n",
       "      <td>1</td>\n",
       "      <td>0</td>\n",
       "      <td>1</td>\n",
       "      <td>0</td>\n",
       "      <td>味スタ</td>\n",
       "      <td>...</td>\n",
       "      <td>0.116</td>\n",
       "      <td>14</td>\n",
       "      <td>0.071</td>\n",
       "      <td>0.419</td>\n",
       "      <td>12.30</td>\n",
       "      <td>10.80</td>\n",
       "      <td>105.78</td>\n",
       "      <td>12.09</td>\n",
       "      <td>['ジョアンオマリ']</td>\n",
       "      <td>長谷川　健太</td>\n",
       "    </tr>\n",
       "  </tbody>\n",
       "</table>\n",
       "<p>1908 rows × 24 columns</p>\n",
       "</div>"
      ],
      "text/plain": [
       "      Sec        Date                   Opp  OppID Score  GF  GA  W/L  H/A  \\\n",
       "0       1  2018-02-23            sagan-tosu     17   1-1   1   1    0    1   \n",
       "1       1  2018-02-24              fc-tokyo      6   1-1   1   1    0    1   \n",
       "2       1  2018-02-24     consadole-sapporo      1   1-0   1   0    1    0   \n",
       "3       1  2018-02-24                 other      0   2-1   2   1    1    0   \n",
       "4       1  2018-02-24  nagoya-grampus-eight     12   2-3   2   3    2    0   \n",
       "...   ...         ...                   ...    ...   ...  ..  ..  ...  ...   \n",
       "1903   34  2020-12-19          cerezo-osaka     14   1-1   1   1    0    0   \n",
       "1904   34  2020-12-19    urawa-red-diamonds      4   2-0   2   0    1    1   \n",
       "1905   34  2020-12-19   yokohama-fa-marinos      8   3-1   3   1    1    0   \n",
       "1906   34  2020-12-19           gamba-osaka     13   2-0   2   0    1    1   \n",
       "1907   34  2020-12-19           vissel-kobe     15   1-0   1   0    1    0   \n",
       "\n",
       "     Stadium  ...    CBR Shots    SSR  Possession  AttackCBP  PassCBP  StealP  \\\n",
       "0       ベアスタ  ...  0.129    19  0.053       0.614      20.58    15.95   89.41   \n",
       "1        味スタ  ...  0.093    11  0.091       0.601      21.60    17.41  100.17   \n",
       "2        Ｅスタ  ...  0.133    15  0.067       0.412      14.28     8.38   59.22   \n",
       "3       ＢＭＷス  ...  0.074     9  0.222       0.622      11.83    10.64   92.78   \n",
       "4        吹田Ｓ  ...  0.102    14  0.143       0.497      16.89    13.28  126.60   \n",
       "...      ...  ...    ...   ...    ...         ...        ...      ...     ...   \n",
       "1903     カシマ  ...  0.177    23  0.043       0.645      23.95    19.41  112.45   \n",
       "1904      埼玉  ...  0.185    20  0.100       0.527      24.38    18.41  115.62   \n",
       "1905    ニッパツ  ...  0.113    13  0.231       0.395       7.52     5.87   77.14   \n",
       "1906    パナスタ  ...  0.105    12  0.167       0.396      10.43     9.13  104.66   \n",
       "1907     味スタ  ...  0.116    14  0.071       0.419      12.30    10.80  105.78   \n",
       "\n",
       "      DefenceP             Scorers  HeadCoach  \n",
       "0        13.52           ['ハーフナー']      吉田　孝行  \n",
       "1         7.77              ['槙野']       堀　孝史  \n",
       "2        18.82          ['ティーラシン']       城福　浩  \n",
       "3        12.61   ['イジョンヒョプ', '石川']    チョウ　キジェ  \n",
       "4        13.58        ['遠藤', '長沢']   レヴィー　クルピ  \n",
       "...        ...                 ...        ...  \n",
       "1903      9.88          ['エヴェラウド']        ザーゴ  \n",
       "1904     11.12        ['駒井', '田中']    ペトロヴィッチ  \n",
       "1905     19.17  ['志知', '田代', '瀬沼']      下平　隆宏  \n",
       "1906     22.77        ['川本', '金子']      平岡　宏章  \n",
       "1907     12.09         ['ジョアンオマリ']     長谷川　健太  \n",
       "\n",
       "[1908 rows x 24 columns]"
      ]
     },
     "execution_count": 3,
     "metadata": {},
     "output_type": "execute_result"
    }
   ],
   "source": [
    "df "
   ]
  },
  {
   "cell_type": "code",
   "execution_count": 4,
   "metadata": {},
   "outputs": [
    {
     "data": {
      "text/plain": [
       "Index(['Sec', 'Date', 'Opp', 'OppID', 'Score', 'GF', 'GA', 'W/L', 'H/A',\n",
       "       'Stadium', 'Attendances', 'Weather', 'AGI', 'KAGI', 'CBR', 'Shots',\n",
       "       'SSR', 'Possession', 'AttackCBP', 'PassCBP', 'StealP', 'DefenceP',\n",
       "       'Scorers', 'HeadCoach'],\n",
       "      dtype='object')"
      ]
     },
     "execution_count": 4,
     "metadata": {},
     "output_type": "execute_result"
    }
   ],
   "source": [
    "df.columns"
   ]
  },
  {
   "cell_type": "code",
   "execution_count": 5,
   "metadata": {},
   "outputs": [],
   "source": [
    "df_ = df[[ 'H/A','Attendances','AGI', 'KAGI','CBR','Shots', 'Possession','AttackCBP', 'PassCBP', 'StealP','DefenceP',]]"
   ]
  },
  {
   "cell_type": "code",
   "execution_count": 6,
   "metadata": {},
   "outputs": [
    {
     "data": {
      "text/html": [
       "<div>\n",
       "<style scoped>\n",
       "    .dataframe tbody tr th:only-of-type {\n",
       "        vertical-align: middle;\n",
       "    }\n",
       "\n",
       "    .dataframe tbody tr th {\n",
       "        vertical-align: top;\n",
       "    }\n",
       "\n",
       "    .dataframe thead th {\n",
       "        text-align: right;\n",
       "    }\n",
       "</style>\n",
       "<table border=\"1\" class=\"dataframe\">\n",
       "  <thead>\n",
       "    <tr style=\"text-align: right;\">\n",
       "      <th></th>\n",
       "      <th>H/A</th>\n",
       "      <th>Attendances</th>\n",
       "      <th>AGI</th>\n",
       "      <th>KAGI</th>\n",
       "      <th>CBR</th>\n",
       "      <th>Shots</th>\n",
       "      <th>Possession</th>\n",
       "      <th>AttackCBP</th>\n",
       "      <th>PassCBP</th>\n",
       "      <th>StealP</th>\n",
       "      <th>DefenceP</th>\n",
       "    </tr>\n",
       "  </thead>\n",
       "  <tbody>\n",
       "    <tr>\n",
       "      <th>0</th>\n",
       "      <td>1</td>\n",
       "      <td>19633</td>\n",
       "      <td>52</td>\n",
       "      <td>51</td>\n",
       "      <td>0.129</td>\n",
       "      <td>19</td>\n",
       "      <td>0.614</td>\n",
       "      <td>20.58</td>\n",
       "      <td>15.95</td>\n",
       "      <td>89.41</td>\n",
       "      <td>13.52</td>\n",
       "    </tr>\n",
       "    <tr>\n",
       "      <th>1</th>\n",
       "      <td>1</td>\n",
       "      <td>35951</td>\n",
       "      <td>60</td>\n",
       "      <td>68</td>\n",
       "      <td>0.093</td>\n",
       "      <td>11</td>\n",
       "      <td>0.601</td>\n",
       "      <td>21.60</td>\n",
       "      <td>17.41</td>\n",
       "      <td>100.17</td>\n",
       "      <td>7.77</td>\n",
       "    </tr>\n",
       "    <tr>\n",
       "      <th>2</th>\n",
       "      <td>0</td>\n",
       "      <td>17026</td>\n",
       "      <td>59</td>\n",
       "      <td>43</td>\n",
       "      <td>0.133</td>\n",
       "      <td>15</td>\n",
       "      <td>0.412</td>\n",
       "      <td>14.28</td>\n",
       "      <td>8.38</td>\n",
       "      <td>59.22</td>\n",
       "      <td>18.82</td>\n",
       "    </tr>\n",
       "    <tr>\n",
       "      <th>3</th>\n",
       "      <td>0</td>\n",
       "      <td>12148</td>\n",
       "      <td>44</td>\n",
       "      <td>41</td>\n",
       "      <td>0.074</td>\n",
       "      <td>9</td>\n",
       "      <td>0.622</td>\n",
       "      <td>11.83</td>\n",
       "      <td>10.64</td>\n",
       "      <td>92.78</td>\n",
       "      <td>12.61</td>\n",
       "    </tr>\n",
       "    <tr>\n",
       "      <th>4</th>\n",
       "      <td>0</td>\n",
       "      <td>28681</td>\n",
       "      <td>49</td>\n",
       "      <td>50</td>\n",
       "      <td>0.102</td>\n",
       "      <td>14</td>\n",
       "      <td>0.497</td>\n",
       "      <td>16.89</td>\n",
       "      <td>13.28</td>\n",
       "      <td>126.60</td>\n",
       "      <td>13.58</td>\n",
       "    </tr>\n",
       "    <tr>\n",
       "      <th>...</th>\n",
       "      <td>...</td>\n",
       "      <td>...</td>\n",
       "      <td>...</td>\n",
       "      <td>...</td>\n",
       "      <td>...</td>\n",
       "      <td>...</td>\n",
       "      <td>...</td>\n",
       "      <td>...</td>\n",
       "      <td>...</td>\n",
       "      <td>...</td>\n",
       "      <td>...</td>\n",
       "    </tr>\n",
       "    <tr>\n",
       "      <th>1903</th>\n",
       "      <td>0</td>\n",
       "      <td>11251</td>\n",
       "      <td>62</td>\n",
       "      <td>52</td>\n",
       "      <td>0.177</td>\n",
       "      <td>23</td>\n",
       "      <td>0.645</td>\n",
       "      <td>23.95</td>\n",
       "      <td>19.41</td>\n",
       "      <td>112.45</td>\n",
       "      <td>9.88</td>\n",
       "    </tr>\n",
       "    <tr>\n",
       "      <th>1904</th>\n",
       "      <td>1</td>\n",
       "      <td>19319</td>\n",
       "      <td>64</td>\n",
       "      <td>62</td>\n",
       "      <td>0.185</td>\n",
       "      <td>20</td>\n",
       "      <td>0.527</td>\n",
       "      <td>24.38</td>\n",
       "      <td>18.41</td>\n",
       "      <td>115.62</td>\n",
       "      <td>11.12</td>\n",
       "    </tr>\n",
       "    <tr>\n",
       "      <th>1905</th>\n",
       "      <td>0</td>\n",
       "      <td>6766</td>\n",
       "      <td>45</td>\n",
       "      <td>31</td>\n",
       "      <td>0.113</td>\n",
       "      <td>13</td>\n",
       "      <td>0.395</td>\n",
       "      <td>7.52</td>\n",
       "      <td>5.87</td>\n",
       "      <td>77.14</td>\n",
       "      <td>19.17</td>\n",
       "    </tr>\n",
       "    <tr>\n",
       "      <th>1906</th>\n",
       "      <td>1</td>\n",
       "      <td>15252</td>\n",
       "      <td>47</td>\n",
       "      <td>41</td>\n",
       "      <td>0.105</td>\n",
       "      <td>12</td>\n",
       "      <td>0.396</td>\n",
       "      <td>10.43</td>\n",
       "      <td>9.13</td>\n",
       "      <td>104.66</td>\n",
       "      <td>22.77</td>\n",
       "    </tr>\n",
       "    <tr>\n",
       "      <th>1907</th>\n",
       "      <td>0</td>\n",
       "      <td>14373</td>\n",
       "      <td>55</td>\n",
       "      <td>68</td>\n",
       "      <td>0.116</td>\n",
       "      <td>14</td>\n",
       "      <td>0.419</td>\n",
       "      <td>12.30</td>\n",
       "      <td>10.80</td>\n",
       "      <td>105.78</td>\n",
       "      <td>12.09</td>\n",
       "    </tr>\n",
       "  </tbody>\n",
       "</table>\n",
       "<p>1908 rows × 11 columns</p>\n",
       "</div>"
      ],
      "text/plain": [
       "      H/A  Attendances  AGI  KAGI    CBR  Shots  Possession  AttackCBP  \\\n",
       "0       1        19633   52    51  0.129     19       0.614      20.58   \n",
       "1       1        35951   60    68  0.093     11       0.601      21.60   \n",
       "2       0        17026   59    43  0.133     15       0.412      14.28   \n",
       "3       0        12148   44    41  0.074      9       0.622      11.83   \n",
       "4       0        28681   49    50  0.102     14       0.497      16.89   \n",
       "...   ...          ...  ...   ...    ...    ...         ...        ...   \n",
       "1903    0        11251   62    52  0.177     23       0.645      23.95   \n",
       "1904    1        19319   64    62  0.185     20       0.527      24.38   \n",
       "1905    0         6766   45    31  0.113     13       0.395       7.52   \n",
       "1906    1        15252   47    41  0.105     12       0.396      10.43   \n",
       "1907    0        14373   55    68  0.116     14       0.419      12.30   \n",
       "\n",
       "      PassCBP  StealP  DefenceP  \n",
       "0       15.95   89.41     13.52  \n",
       "1       17.41  100.17      7.77  \n",
       "2        8.38   59.22     18.82  \n",
       "3       10.64   92.78     12.61  \n",
       "4       13.28  126.60     13.58  \n",
       "...       ...     ...       ...  \n",
       "1903    19.41  112.45      9.88  \n",
       "1904    18.41  115.62     11.12  \n",
       "1905     5.87   77.14     19.17  \n",
       "1906     9.13  104.66     22.77  \n",
       "1907    10.80  105.78     12.09  \n",
       "\n",
       "[1908 rows x 11 columns]"
      ]
     },
     "execution_count": 6,
     "metadata": {},
     "output_type": "execute_result"
    }
   ],
   "source": [
    "df_ #  dfから特定の値だけを取り出したdataframe"
   ]
  },
  {
   "cell_type": "code",
   "execution_count": 7,
   "metadata": {
    "scrolled": true
   },
   "outputs": [
    {
     "name": "stdout",
     "output_type": "stream",
     "text": [
      "[[1.0000e+00 1.9633e+04 5.2000e+01 ... 1.5950e+01 8.9410e+01 1.3520e+01]\n",
      " [1.0000e+00 3.5951e+04 6.0000e+01 ... 1.7410e+01 1.0017e+02 7.7700e+00]\n",
      " [0.0000e+00 1.7026e+04 5.9000e+01 ... 8.3800e+00 5.9220e+01 1.8820e+01]\n",
      " ...\n",
      " [0.0000e+00 6.7660e+03 4.5000e+01 ... 5.8700e+00 7.7140e+01 1.9170e+01]\n",
      " [1.0000e+00 1.5252e+04 4.7000e+01 ... 9.1300e+00 1.0466e+02 2.2770e+01]\n",
      " [0.0000e+00 1.4373e+04 5.5000e+01 ... 1.0800e+01 1.0578e+02 1.2090e+01]]\n"
     ]
    }
   ],
   "source": [
    "X=df_.values \n",
    "print(X)"
   ]
  },
  {
   "cell_type": "code",
   "execution_count": 8,
   "metadata": {
    "scrolled": false
   },
   "outputs": [
    {
     "name": "stdout",
     "output_type": "stream",
     "text": [
      "[0 0 1 ... 1 1 1]\n"
     ]
    }
   ],
   "source": [
    "y=df[\"W/L\"].values\n",
    "print(y)"
   ]
  },
  {
   "cell_type": "code",
   "execution_count": 9,
   "metadata": {},
   "outputs": [],
   "source": [
    "# from sklearn import svm"
   ]
  },
  {
   "cell_type": "code",
   "execution_count": 10,
   "metadata": {},
   "outputs": [],
   "source": [
    "from sklearn.model_selection import train_test_split\n",
    "\n",
    "X_train,X_test,y_train,y_test = train_test_split(X,y)"
   ]
  },
  {
   "cell_type": "code",
   "execution_count": 11,
   "metadata": {},
   "outputs": [],
   "source": [
    "# linear_svm = svm.LinearSVC(max_iter=10000000).fit(X_train,y_train)"
   ]
  },
  {
   "cell_type": "code",
   "execution_count": 12,
   "metadata": {},
   "outputs": [],
   "source": [
    "# linear_svm.predict(X_test) #学習結果の予測"
   ]
  },
  {
   "cell_type": "code",
   "execution_count": 13,
   "metadata": {
    "scrolled": true
   },
   "outputs": [],
   "source": [
    "# y_test #正解"
   ]
  },
  {
   "cell_type": "code",
   "execution_count": 14,
   "metadata": {
    "scrolled": true
   },
   "outputs": [],
   "source": [
    "# linear_svm.score(X_test,y_test)"
   ]
  },
  {
   "cell_type": "code",
   "execution_count": 15,
   "metadata": {},
   "outputs": [
    {
     "data": {
      "text/plain": [
       "Index(['H/A', 'Attendances', 'AGI', 'KAGI', 'CBR', 'Shots', 'Possession',\n",
       "       'AttackCBP', 'PassCBP', 'StealP', 'DefenceP'],\n",
       "      dtype='object')"
      ]
     },
     "execution_count": 15,
     "metadata": {},
     "output_type": "execute_result"
    }
   ],
   "source": [
    "df_.columns"
   ]
  },
  {
   "cell_type": "code",
   "execution_count": 16,
   "metadata": {},
   "outputs": [],
   "source": [
    "from sklearn.ensemble import RandomForestClassifier \n",
    "rf= RandomForestClassifier(max_depth=5)  \n",
    "rf.fit(X_train,y_train)\n",
    "y_pred = rf.predict(X_test)\n",
    "y_pred_proba=rf.predict_proba(X_test)"
   ]
  },
  {
   "cell_type": "code",
   "execution_count": 17,
   "metadata": {},
   "outputs": [
    {
     "data": {
      "text/plain": [
       "0.549266247379455"
      ]
     },
     "execution_count": 17,
     "metadata": {},
     "output_type": "execute_result"
    }
   ],
   "source": [
    "rf.score(X_test,y_test) "
   ]
  },
  {
   "cell_type": "code",
   "execution_count": 18,
   "metadata": {},
   "outputs": [
    {
     "data": {
      "text/plain": [
       "array([0.01575606, 0.05435015, 0.0446406 , 0.09579869, 0.11076978,\n",
       "       0.05504247, 0.13515637, 0.08140889, 0.08841739, 0.06664437,\n",
       "       0.25201522])"
      ]
     },
     "execution_count": 18,
     "metadata": {},
     "output_type": "execute_result"
    }
   ],
   "source": [
    "rf.feature_importances_"
   ]
  },
  {
   "cell_type": "code",
   "execution_count": 19,
   "metadata": {},
   "outputs": [],
   "source": [
    "df_ = df[['CBR', 'Possession','DefenceP']]\n",
    "X=df_.values \n",
    "y=df[\"W/L\"].values\n",
    "X_train,X_test,y_train,y_test = train_test_split(X,y)"
   ]
  },
  {
   "cell_type": "code",
   "execution_count": 20,
   "metadata": {},
   "outputs": [
    {
     "data": {
      "text/plain": [
       "Index(['CBR', 'Possession', 'DefenceP'], dtype='object')"
      ]
     },
     "execution_count": 20,
     "metadata": {},
     "output_type": "execute_result"
    }
   ],
   "source": [
    "df_.columns"
   ]
  },
  {
   "cell_type": "code",
   "execution_count": 21,
   "metadata": {},
   "outputs": [
    {
     "data": {
      "text/plain": [
       "0.549266247379455"
      ]
     },
     "execution_count": 21,
     "metadata": {},
     "output_type": "execute_result"
    }
   ],
   "source": [
    "rf= RandomForestClassifier(max_depth=5)  \n",
    "rf.fit(X_train,y_train)\n",
    "rf.score(X_test,y_test) "
   ]
  },
  {
   "cell_type": "code",
   "execution_count": 22,
   "metadata": {
    "scrolled": true
   },
   "outputs": [
    {
     "data": {
      "text/plain": [
       "array([0.25667846, 0.30222846, 0.44109307])"
      ]
     },
     "execution_count": 22,
     "metadata": {},
     "output_type": "execute_result"
    }
   ],
   "source": [
    "rf.feature_importances_"
   ]
  },
  {
   "cell_type": "code",
   "execution_count": null,
   "metadata": {},
   "outputs": [],
   "source": []
  },
  {
   "cell_type": "code",
   "execution_count": null,
   "metadata": {},
   "outputs": [],
   "source": []
  },
  {
   "cell_type": "code",
   "execution_count": 23,
   "metadata": {
    "scrolled": true
   },
   "outputs": [
    {
     "name": "stdout",
     "output_type": "stream",
     "text": [
      "consadole-sapporo 489.5299999999999\n",
      "vegalta-sendai 537.7500000000001\n",
      "kashima-antlers 483.8900000000001\n",
      "urawa-red-diamonds 447.56999999999994\n",
      "kashiwa-reysol 535.03\n",
      "fc-tokyo 483.85999999999984\n",
      "kawasaki-frontale 428.13000000000005\n",
      "yokohama-fa-marinos 441.09000000000003\n",
      "yokohama-fc 611.31\n",
      "shonan-bellmare 573.4099999999999\n",
      "shimizu-s-pulse 560.38\n",
      "nagoya-grampus-eight 492.81\n",
      "gamba-osaka 535.52\n",
      "cerezo-osaka 512.0600000000001\n",
      "vissel-kobe 519.5500000000001\n",
      "sanfrecce-hiroshima 492.01000000000005\n",
      "sagan-tosu 556.4799999999999\n",
      "oita-trinita 617.5999999999999\n"
     ]
    }
   ],
   "source": [
    "clubs = ['consadole-sapporo','vegalta-sendai','kashima-antlers','urawa-red-diamonds','kashiwa-reysol','fc-tokyo','kawasaki-frontale','yokohama-fa-marinos','yokohama-fc','shonan-bellmare','shimizu-s-pulse','nagoya-grampus-eight','gamba-osaka','cerezo-osaka','vissel-kobe','sanfrecce-hiroshima','sagan-tosu','oita-trinita']\n",
    "defencePs = []\n",
    "for c in clubs:\n",
    "    df = pd.read_csv(f\"./match_data_club/{c}/{c}_2018.csv\")\n",
    "    print(c ,sum(df.DefenceP))\n",
    "    "
   ]
  },
  {
   "cell_type": "code",
   "execution_count": 26,
   "metadata": {},
   "outputs": [
    {
     "name": "stdout",
     "output_type": "stream",
     "text": [
      "consadole-sapporo 3.1380000000000003\n",
      "vegalta-sendai 3.081\n",
      "kashima-antlers 3.0450000000000004\n",
      "urawa-red-diamonds 4.099000000000001\n",
      "kashiwa-reysol 4.610999999999999\n",
      "fc-tokyo 3.8960000000000012\n",
      "kawasaki-frontale 4.7620000000000005\n",
      "yokohama-fa-marinos 4.269000000000001\n",
      "yokohama-fc 4.178000000000001\n",
      "shonan-bellmare 3.3739999999999997\n",
      "shimizu-s-pulse 3.4630000000000005\n",
      "nagoya-grampus-eight 3.6350000000000007\n",
      "gamba-osaka 3.508\n",
      "cerezo-osaka 3.4410000000000007\n",
      "vissel-kobe 4.563000000000001\n",
      "sanfrecce-hiroshima 3.692\n",
      "sagan-tosu 4.838\n",
      "oita-trinita 4.272\n"
     ]
    }
   ],
   "source": [
    "clubs = ['consadole-sapporo','vegalta-sendai','kashima-antlers','urawa-red-diamonds','kashiwa-reysol','fc-tokyo','kawasaki-frontale','yokohama-fa-marinos','yokohama-fc','shonan-bellmare','shimizu-s-pulse','nagoya-grampus-eight','gamba-osaka','cerezo-osaka','vissel-kobe','sanfrecce-hiroshima','sagan-tosu','oita-trinita']\n",
    "SSRs = []\n",
    "for c in clubs:\n",
    "    df = pd.read_csv(f\"./match_data_club/{c}/{c}_2020.csv\")\n",
    "    print(c ,sum(df.SSR))"
   ]
  },
  {
   "cell_type": "code",
   "execution_count": null,
   "metadata": {},
   "outputs": [],
   "source": []
  }
 ],
 "metadata": {
  "kernelspec": {
   "display_name": "Python 3",
   "language": "python",
   "name": "python3"
  },
  "language_info": {
   "codemirror_mode": {
    "name": "ipython",
    "version": 3
   },
   "file_extension": ".py",
   "mimetype": "text/x-python",
   "name": "python",
   "nbconvert_exporter": "python",
   "pygments_lexer": "ipython3",
   "version": "3.8.5"
  }
 },
 "nbformat": 4,
 "nbformat_minor": 4
}
