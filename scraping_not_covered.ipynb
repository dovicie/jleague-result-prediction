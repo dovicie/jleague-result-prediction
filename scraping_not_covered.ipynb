{
 "cells": [
  {
   "cell_type": "code",
   "execution_count": 101,
   "metadata": {},
   "outputs": [],
   "source": [
    "import re\n",
    "import csv\n",
    "import time\n",
    "import requests\n",
    "import datetime\n",
    "import collections\n",
    "import numpy as np\n",
    "import pandas as pd\n",
    "from bs4 import BeautifulSoup"
   ]
  },
  {
   "cell_type": "code",
   "execution_count": 127,
   "metadata": {
    "scrolled": true
   },
   "outputs": [],
   "source": [
    "not_covereds = []\n",
    "not_covered_nos = []\n",
    "for i in range(62):\n",
    "    url =f'https://www.totoone.jp/blog/datawatch/archives.php?no={i}'\n",
    "    r = requests.get(url)\n",
    "    soup = BeautifulSoup(r.text, 'html.parser')\n",
    "    archives =soup.select(f\".datawatch-archives ul li\")\n",
    "    \n",
    "    for archive in archives :\n",
    "        archive = archive.string\n",
    "        if ('ルヴァン杯'  in archive) or ('ナビスコ'  in archive) or  ('天皇杯'  in archive) :\n",
    "            date = re.search('[0-9]{4}年[0-9]{2}月[0-9]{2}日', archive).group()\n",
    "            date = datetime.datetime.strptime(date, '%Y年%m月%d日')\n",
    "\n",
    "            no = re.search('第[0-9]+回', archive).group()\n",
    "            no = int(no.replace('第','').replace('回',''))\n",
    "\n",
    "            description = re.search('｜.+', archive).group()\n",
    "            description=description.split('｜')[1]\n",
    "\n",
    "            not_covereds.append([date,no,description])\n",
    "            not_covered_nos.append(no)\n",
    "    time.sleep(1)"
   ]
  },
  {
   "cell_type": "code",
   "execution_count": 130,
   "metadata": {
    "scrolled": true
   },
   "outputs": [
    {
     "name": "stdout",
     "output_type": "stream",
     "text": [
      "[1263, 1260, 1255, 1244, 1243, 1238, 1235, 1231, 1225, 1194, 1184, 1179, 1177, 1155, 1144, 1132, 1129, 1127, 1122, 1119, 1118, 1112, 1104, 1102, 1100, 1095, 1091, 1087, 1083, 1076, 1074, 1057, 1050, 1048, 1047, 1044, 1041, 1040, 1037, 1026, 1009, 1007, 1001, 997, 992, 990, 978, 967, 963, 962, 959, 955, 953, 945, 939, 934, 932, 928, 926, 924, 920, 914, 901, 899, 888, 879, 878, 875, 870, 869, 850, 848, 846, 839, 835, 832, 831, 816, 813, 805, 800, 799, 792, 791, 771, 769, 767, 760, 757, 754, 752, 735, 727, 726, 720, 719, 716, 707, 698, 697, 696, 695, 687, 684, 681, 671, 669, 661, 656, 651, 635, 634, 628, 626, 621, 617, 615, 613, 612]\n"
     ]
    }
   ],
   "source": [
    "print(not_covered_nos)"
   ]
  },
  {
   "cell_type": "code",
   "execution_count": 131,
   "metadata": {},
   "outputs": [],
   "source": [
    "for y in [2010,2011,2012]:\n",
    "    df_toto = pd.read_csv(f'./toto_data/{y}.csv',header=None,skiprows=3,index_col=[0,1])\n",
    "\n",
    "    for index,row in df_toto.iterrows():\n",
    "        mids = list(row[[4,8,12,16,20]])\n",
    "        if len(collections.Counter([str(i)[2:4] for i in mids])) >= 3:\n",
    "            not_covered_nos.append(index[0])\n",
    "            \n",
    "           "
   ]
  },
  {
   "cell_type": "code",
   "execution_count": 136,
   "metadata": {},
   "outputs": [
    {
     "name": "stdout",
     "output_type": "stream",
     "text": [
      "[439, 442, 451, 454, 518, 556, 559, 566, 570, 571, 575, 612, 613, 615, 617, 621, 626, 628, 634, 635, 651, 656, 661, 669, 671, 681, 684, 687, 695, 696, 697, 698, 707, 716, 719, 720, 726, 727, 735, 752, 754, 757, 760, 767, 769, 771, 791, 792, 799, 800, 805, 813, 816, 831, 832, 835, 839, 846, 848, 850, 869, 870, 875, 878, 879, 888, 899, 901, 914, 920, 924, 926, 928, 932, 934, 939, 945, 953, 955, 959, 962, 963, 967, 978, 990, 992, 997, 1001, 1007, 1009, 1026, 1037, 1040, 1041, 1044, 1047, 1048, 1050, 1057, 1074, 1076, 1083, 1087, 1091, 1095, 1100, 1102, 1104, 1112, 1118, 1119, 1122, 1127, 1129, 1132, 1144, 1155, 1177, 1179, 1184, 1194, 1225, 1231, 1235, 1238, 1243, 1244, 1255, 1260, 1263]\n"
     ]
    }
   ],
   "source": [
    "not_covered_nos  = sorted(not_covered_nos)\n",
    "print(not_covered_nos) # 対象外試合を除外出来ていない可能性があるtoto回"
   ]
  },
  {
   "cell_type": "code",
   "execution_count": null,
   "metadata": {},
   "outputs": [],
   "source": []
  }
 ],
 "metadata": {
  "kernelspec": {
   "display_name": "Python 3",
   "language": "python",
   "name": "python3"
  },
  "language_info": {
   "codemirror_mode": {
    "name": "ipython",
    "version": 3
   },
   "file_extension": ".py",
   "mimetype": "text/x-python",
   "name": "python",
   "nbconvert_exporter": "python",
   "pygments_lexer": "ipython3",
   "version": "3.8.5"
  }
 },
 "nbformat": 4,
 "nbformat_minor": 4
}
